{
  "nbformat": 4,
  "nbformat_minor": 0,
  "metadata": {
    "kernelspec": {
      "name": "julia-1.0",
      "display_name": "Julia 1.0"
    },
    "accelerator": "GPU",
    "colab": {
      "name": "Copy of 07.01 – Optimisation",
      "provenance": [],
      "collapsed_sections": [],
      "include_colab_link": true
    }
  },
  "cells": [
    {
      "cell_type": "markdown",
      "metadata": {
        "id": "view-in-github",
        "colab_type": "text"
      },
      "source": [
        "<a href=\"https://colab.research.google.com/github/Kyveli-tsioli/hello-world/blob/main/Copy_of_07_01_%E2%80%93_Optimisation.ipynb\" target=\"_parent\"><img src=\"https://colab.research.google.com/assets/colab-badge.svg\" alt=\"Open In Colab\"/></a>"
      ]
    },
    {
      "cell_type": "code",
      "metadata": {
        "id": "yCvhC7CoT9Ha"
      },
      "source": [
        "# Installation cell\n",
        "# Run this once and then refresh this page to switch to iJulia\n",
        "%%shell\n",
        "if ! command -v julia 2>&1 > /dev/null\n",
        "then\n",
        "    wget 'https://julialang-s3.julialang.org/bin/linux/x64/1.0/julia-1.0.5-linux-x86_64.tar.gz' \\\n",
        "        -O /tmp/julia.tar.gz\n",
        "    tar -x -f /tmp/julia.tar.gz -C /usr/local --strip-components 1\n",
        "    rm /tmp/julia.tar.gz\n",
        "fi\n",
        "julia -e 'using Pkg; pkg\"add IJulia; precompile;\"'"
      ],
      "execution_count": null,
      "outputs": []
    },
    {
      "cell_type": "code",
      "metadata": {
        "id": "b3DF80yzcog_"
      },
      "source": [
        "using Pkg\n",
        "\n",
        "pkg\"add Interact\"\n",
        "pkg\"add NamedArrays\"\n",
        "pkg\"add Plots\"\n",
        "pkg\"add Reactive\"\n",
        "\n",
        "pkg\"precompile\"\n",
        "\n",
        "using Interact\n",
        "using NamedArrays\n",
        "using Plots\n",
        "using Reactive\n",
        "\n",
        "using LinearAlgebra\n",
        "using Random\n",
        "using IJulia"
      ],
      "execution_count": null,
      "outputs": []
    },
    {
      "cell_type": "markdown",
      "metadata": {
        "id": "6KBIi6EKT1Lq"
      },
      "source": [
        "# Optimisation #"
      ]
    },
    {
      "cell_type": "markdown",
      "metadata": {
        "id": "hX774SORXNJ4"
      },
      "source": [
        "## The Loss Function ##"
      ]
    },
    {
      "cell_type": "markdown",
      "metadata": {
        "id": "W3kqF3ZgXQvJ"
      },
      "source": [
        "The **loss function** (also referred to as cost function or error function) is some function we define between our ground truth labels ($y$) and the model's predictions ($\\hat{y}$ – which themselves are functions of the inputs $x$ parameterised by the set of parameters $\\mathbf{\\theta}$) giving an scalar output.\n",
        "\n",
        "Having a **scalar measure of model performance** makes the concept of optimisation through minimisation of the loss function convenient.\n",
        "\n",
        "Formally, the loss function maps multiple inputs into a single output.\n",
        "\n",
        "$$ f(x) : \\mathbb{R}^n \\to \\mathbb{R} $$\n",
        "\n",
        "And the objective of minimisation is to find the values of $x$ which correspond to the lowest output of the function (often denoted $\\mathbf{x}^*$) such that:\n",
        "\n",
        "$$ x^* = arg\\min f(x) $$\n",
        "\n",
        "For most pursposes our $f$ will depend on some parameters $w$ and $b$, but let us ignore than for now."
      ]
    },
    {
      "cell_type": "markdown",
      "metadata": {
        "id": "fcxRZ8RRb3zU"
      },
      "source": [
        "## Example: Quadratic Function\n",
        "\n",
        "Let us take an example using a simple quadratic function: $f(x) = x^2$"
      ]
    },
    {
      "cell_type": "code",
      "metadata": {
        "id": "0S1Ondu_W5DP",
        "outputId": "a4e39069-8cf1-4ca1-dedb-aa7a2582dc7c",
        "colab": {
          "base_uri": "https://localhost:8080/",
          "height": 421
        }
      },
      "source": [
        "f(x) = x^2\n",
        "plot(f, title=\"The quadratic function\", legend=:none)\n",
        "\n",
        "\n",
        "\n",
        "#cost function, loss function, active function cost optimisation function\n",
        "#function relative to truth labels (values)\n",
        "#takes predictions, theta: denotes model parameters(weights and biases,) NOT hyperparameters \n",
        "#what theta gives the smallest loss in our model given the data\n"
      ],
      "execution_count": null,
      "outputs": [
        {
          "output_type": "execute_result",
          "data": {
            "image/svg+xml": "<?xml version=\"1.0\" encoding=\"utf-8\"?>\n<svg xmlns=\"http://www.w3.org/2000/svg\" xmlns:xlink=\"http://www.w3.org/1999/xlink\" width=\"600\" height=\"400\" viewBox=\"0 0 2400 1600\">\n<defs>\n  <clipPath id=\"clip3600\">\n    <rect x=\"0\" y=\"0\" width=\"2400\" height=\"1600\"/>\n  </clipPath>\n</defs>\n<path clip-path=\"url(#clip3600)\" d=\"\nM0 1600 L2400 1600 L2400 0 L0 0  Z\n  \" fill=\"#ffffff\" fill-rule=\"evenodd\" fill-opacity=\"1\"/>\n<defs>\n  <clipPath id=\"clip3601\">\n    <rect x=\"480\" y=\"0\" width=\"1681\" height=\"1600\"/>\n  </clipPath>\n</defs>\n<path clip-path=\"url(#clip3600)\" d=\"\nM140.517 1487.47 L2352.76 1487.47 L2352.76 121.675 L140.517 121.675  Z\n  \" fill=\"#ffffff\" fill-rule=\"evenodd\" fill-opacity=\"1\"/>\n<defs>\n  <clipPath id=\"clip3602\">\n    <rect x=\"140\" y=\"121\" width=\"2213\" height=\"1367\"/>\n  </clipPath>\n</defs>\n<polyline clip-path=\"url(#clip3602)\" style=\"stroke:#000000; stroke-width:2; stroke-opacity:0.1; fill:none\" points=\"\n  411.829,1487.47 411.829,121.675 \n  \"/>\n<polyline clip-path=\"url(#clip3602)\" style=\"stroke:#000000; stroke-width:2; stroke-opacity:0.1; fill:none\" points=\"\n  829.233,1487.47 829.233,121.675 \n  \"/>\n<polyline clip-path=\"url(#clip3602)\" style=\"stroke:#000000; stroke-width:2; stroke-opacity:0.1; fill:none\" points=\"\n  1246.64,1487.47 1246.64,121.675 \n  \"/>\n<polyline clip-path=\"url(#clip3602)\" style=\"stroke:#000000; stroke-width:2; stroke-opacity:0.1; fill:none\" points=\"\n  1664.04,1487.47 1664.04,121.675 \n  \"/>\n<polyline clip-path=\"url(#clip3602)\" style=\"stroke:#000000; stroke-width:2; stroke-opacity:0.1; fill:none\" points=\"\n  2081.44,1487.47 2081.44,121.675 \n  \"/>\n<polyline clip-path=\"url(#clip3602)\" style=\"stroke:#000000; stroke-width:2; stroke-opacity:0.1; fill:none\" points=\"\n  140.517,1448.85 2352.76,1448.85 \n  \"/>\n<polyline clip-path=\"url(#clip3602)\" style=\"stroke:#000000; stroke-width:2; stroke-opacity:0.1; fill:none\" points=\"\n  140.517,1191.15 2352.76,1191.15 \n  \"/>\n<polyline clip-path=\"url(#clip3602)\" style=\"stroke:#000000; stroke-width:2; stroke-opacity:0.1; fill:none\" points=\"\n  140.517,933.443 2352.76,933.443 \n  \"/>\n<polyline clip-path=\"url(#clip3602)\" style=\"stroke:#000000; stroke-width:2; stroke-opacity:0.1; fill:none\" points=\"\n  140.517,675.738 2352.76,675.738 \n  \"/>\n<polyline clip-path=\"url(#clip3602)\" style=\"stroke:#000000; stroke-width:2; stroke-opacity:0.1; fill:none\" points=\"\n  140.517,418.034 2352.76,418.034 \n  \"/>\n<polyline clip-path=\"url(#clip3602)\" style=\"stroke:#000000; stroke-width:2; stroke-opacity:0.1; fill:none\" points=\"\n  140.517,160.33 2352.76,160.33 \n  \"/>\n<polyline clip-path=\"url(#clip3600)\" style=\"stroke:#000000; stroke-width:4; stroke-opacity:1; fill:none\" points=\"\n  140.517,1487.47 2352.76,1487.47 \n  \"/>\n<polyline clip-path=\"url(#clip3600)\" style=\"stroke:#000000; stroke-width:4; stroke-opacity:1; fill:none\" points=\"\n  140.517,1487.47 140.517,121.675 \n  \"/>\n<polyline clip-path=\"url(#clip3600)\" style=\"stroke:#000000; stroke-width:4; stroke-opacity:1; fill:none\" points=\"\n  411.829,1487.47 411.829,1466.99 \n  \"/>\n<polyline clip-path=\"url(#clip3600)\" style=\"stroke:#000000; stroke-width:4; stroke-opacity:1; fill:none\" points=\"\n  829.233,1487.47 829.233,1466.99 \n  \"/>\n<polyline clip-path=\"url(#clip3600)\" style=\"stroke:#000000; stroke-width:4; stroke-opacity:1; fill:none\" points=\"\n  1246.64,1487.47 1246.64,1466.99 \n  \"/>\n<polyline clip-path=\"url(#clip3600)\" style=\"stroke:#000000; stroke-width:4; stroke-opacity:1; fill:none\" points=\"\n  1664.04,1487.47 1664.04,1466.99 \n  \"/>\n<polyline clip-path=\"url(#clip3600)\" style=\"stroke:#000000; stroke-width:4; stroke-opacity:1; fill:none\" points=\"\n  2081.44,1487.47 2081.44,1466.99 \n  \"/>\n<polyline clip-path=\"url(#clip3600)\" style=\"stroke:#000000; stroke-width:4; stroke-opacity:1; fill:none\" points=\"\n  140.517,1448.85 173.7,1448.85 \n  \"/>\n<polyline clip-path=\"url(#clip3600)\" style=\"stroke:#000000; stroke-width:4; stroke-opacity:1; fill:none\" points=\"\n  140.517,1191.15 173.7,1191.15 \n  \"/>\n<polyline clip-path=\"url(#clip3600)\" style=\"stroke:#000000; stroke-width:4; stroke-opacity:1; fill:none\" points=\"\n  140.517,933.443 173.7,933.443 \n  \"/>\n<polyline clip-path=\"url(#clip3600)\" style=\"stroke:#000000; stroke-width:4; stroke-opacity:1; fill:none\" points=\"\n  140.517,675.738 173.7,675.738 \n  \"/>\n<polyline clip-path=\"url(#clip3600)\" style=\"stroke:#000000; stroke-width:4; stroke-opacity:1; fill:none\" points=\"\n  140.517,418.034 173.7,418.034 \n  \"/>\n<polyline clip-path=\"url(#clip3600)\" style=\"stroke:#000000; stroke-width:4; stroke-opacity:1; fill:none\" points=\"\n  140.517,160.33 173.7,160.33 \n  \"/>\n<g clip-path=\"url(#clip3600)\">\n<text style=\"fill:#000000; fill-opacity:1; font-family:Arial,Helvetica Neue,Helvetica,sans-serif; font-size:48px; text-anchor:middle;\" transform=\"rotate(0, 411.829, 1541.47)\" x=\"411.829\" y=\"1541.47\">-4</text>\n</g>\n<g clip-path=\"url(#clip3600)\">\n<text style=\"fill:#000000; fill-opacity:1; font-family:Arial,Helvetica Neue,Helvetica,sans-serif; font-size:48px; text-anchor:middle;\" transform=\"rotate(0, 829.233, 1541.47)\" x=\"829.233\" y=\"1541.47\">-2</text>\n</g>\n<g clip-path=\"url(#clip3600)\">\n<text style=\"fill:#000000; fill-opacity:1; font-family:Arial,Helvetica Neue,Helvetica,sans-serif; font-size:48px; text-anchor:middle;\" transform=\"rotate(0, 1246.64, 1541.47)\" x=\"1246.64\" y=\"1541.47\">0</text>\n</g>\n<g clip-path=\"url(#clip3600)\">\n<text style=\"fill:#000000; fill-opacity:1; font-family:Arial,Helvetica Neue,Helvetica,sans-serif; font-size:48px; text-anchor:middle;\" transform=\"rotate(0, 1664.04, 1541.47)\" x=\"1664.04\" y=\"1541.47\">2</text>\n</g>\n<g clip-path=\"url(#clip3600)\">\n<text style=\"fill:#000000; fill-opacity:1; font-family:Arial,Helvetica Neue,Helvetica,sans-serif; font-size:48px; text-anchor:middle;\" transform=\"rotate(0, 2081.44, 1541.47)\" x=\"2081.44\" y=\"1541.47\">4</text>\n</g>\n<g clip-path=\"url(#clip3600)\">\n<text style=\"fill:#000000; fill-opacity:1; font-family:Arial,Helvetica Neue,Helvetica,sans-serif; font-size:48px; text-anchor:end;\" transform=\"rotate(0, 116.517, 1466.35)\" x=\"116.517\" y=\"1466.35\">0</text>\n</g>\n<g clip-path=\"url(#clip3600)\">\n<text style=\"fill:#000000; fill-opacity:1; font-family:Arial,Helvetica Neue,Helvetica,sans-serif; font-size:48px; text-anchor:end;\" transform=\"rotate(0, 116.517, 1208.65)\" x=\"116.517\" y=\"1208.65\">5</text>\n</g>\n<g clip-path=\"url(#clip3600)\">\n<text style=\"fill:#000000; fill-opacity:1; font-family:Arial,Helvetica Neue,Helvetica,sans-serif; font-size:48px; text-anchor:end;\" transform=\"rotate(0, 116.517, 950.943)\" x=\"116.517\" y=\"950.943\">10</text>\n</g>\n<g clip-path=\"url(#clip3600)\">\n<text style=\"fill:#000000; fill-opacity:1; font-family:Arial,Helvetica Neue,Helvetica,sans-serif; font-size:48px; text-anchor:end;\" transform=\"rotate(0, 116.517, 693.238)\" x=\"116.517\" y=\"693.238\">15</text>\n</g>\n<g clip-path=\"url(#clip3600)\">\n<text style=\"fill:#000000; fill-opacity:1; font-family:Arial,Helvetica Neue,Helvetica,sans-serif; font-size:48px; text-anchor:end;\" transform=\"rotate(0, 116.517, 435.534)\" x=\"116.517\" y=\"435.534\">20</text>\n</g>\n<g clip-path=\"url(#clip3600)\">\n<text style=\"fill:#000000; fill-opacity:1; font-family:Arial,Helvetica Neue,Helvetica,sans-serif; font-size:48px; text-anchor:end;\" transform=\"rotate(0, 116.517, 177.83)\" x=\"116.517\" y=\"177.83\">25</text>\n</g>\n<g clip-path=\"url(#clip3600)\">\n<text style=\"fill:#000000; fill-opacity:1; font-family:Arial,Helvetica Neue,Helvetica,sans-serif; font-size:84px; text-anchor:middle;\" transform=\"rotate(0, 1246.64, 73.2)\" x=\"1246.64\" y=\"73.2\">The quadratic function</text>\n</g>\n<polyline clip-path=\"url(#clip3602)\" style=\"stroke:#009af9; stroke-width:4; stroke-opacity:1; fill:none\" points=\"\n  203.127,160.33 213.318,185.374 223.509,210.172 317.737,427.825 411.965,624.465 468.592,732.529 525.219,833.004 573.096,912.034 620.974,985.639 672.982,1059.45 \n  724.99,1126.85 772.937,1183.33 820.884,1234.36 872.289,1283.03 923.693,1325.44 983.25,1366.76 1042.81,1399.69 1095.73,1421.91 1148.66,1437.49 1195.07,1445.71 \n  1241.49,1448.82 1292.09,1446.41 1342.69,1437.93 1393.59,1423.3 1444.5,1402.53 1500.78,1372.43 1557.05,1334.83 1610.6,1292.1 1664.15,1242.58 1719.83,1183.89 \n  1775.51,1117.87 1822.38,1056.61 1869.25,990.15 1926.47,901.96 1983.69,806.021 2037.48,708.77 2091.27,604.671 2177.45,423.624 2263.62,225.001 2276.88,192.874 \n  2290.15,160.33 \n  \"/>\n</svg>\n"
          },
          "metadata": {
            "tags": []
          },
          "execution_count": 2
        }
      ]
    },
    {
      "cell_type": "markdown",
      "metadata": {
        "id": "lzH4SaPmfZV3"
      },
      "source": [
        "Also recall that the optimum can be found by setting the first derivative to $0$.\n",
        "\n",
        "$$ f'(x) = 0 $$\n",
        "$$ f'(x^2) = 2x \\implies 2x = 0 $$\n",
        "$$ x = 0$$\n",
        "\n",
        "This means that the minimum value for the function $f(x) = x^2$ occurs when $x$ is $0$ (as we can clearly see above).\n",
        "\n",
        "*Additional Info:* This approach is a first-order method. Second-order methods also make use of information about the curvature of the function (second derivative), however, they require the function to be twice differentiable."
      ]
    },
    {
      "cell_type": "markdown",
      "metadata": {
        "id": "yxaNr_x_2u9n"
      },
      "source": [
        "But, the quadratic function has a very convenient property. It is **convex**.\n",
        "\n",
        "A convex function is one for which for any two points taken along the function, the line between these points always lies above or on the curve.\n",
        "\n",
        "<img src=\"https://www.math24.net/wp-content/uploads/2018/10/convex-downward-function.svg\" height =\"240\" />\n",
        "\n",
        "[Image source](https://www.math24.net/convex-functions/)\n"
      ]
    },
    {
      "cell_type": "markdown",
      "metadata": {
        "id": "LB-ScpyYCYcj"
      },
      "source": [
        "We could imagine a similarly convex loss function in higher dimensions.\n",
        "\n",
        "![alt text](https://builtin.com/sites/default/files/styles/ckeditor_optimize/public/inline-images/gradient-descent-convex-function.png)\n",
        "\n",
        "[Image source](https://builtin.com/sites/default/files/styles/ckeditor_optimize/public/inline-images/gradient-descent-convex-function.png)"
      ]
    },
    {
      "cell_type": "markdown",
      "metadata": {
        "id": "xMkDGtY14G8r"
      },
      "source": [
        "But, most loss functions are not convex – in particular in the context of neural networks. What do we do then?"
      ]
    },
    {
      "cell_type": "markdown",
      "metadata": {
        "id": "i-j2xI_c4MQL"
      },
      "source": [
        "## Gradient-Based Optimization"
      ]
    },
    {
      "cell_type": "markdown",
      "metadata": {
        "id": "cfgvn5FISjaP"
      },
      "source": [
        "The **first-order derivative** of a function $f(x)$ gives the slope of $f(x)$ at the point $x$.\n",
        "\n",
        "We can use this information to minimise a function by travelling a small distance in a direction opposite to the derivative (because the derivative vector points \"uphill\").\n",
        "\n",
        "This technique is known as **gradient descent**."
      ]
    },
    {
      "cell_type": "markdown",
      "metadata": {
        "id": "wmnGm757_NEn"
      },
      "source": [
        "### Gradient Descent for Quadratic Function"
      ]
    },
    {
      "cell_type": "markdown",
      "metadata": {
        "id": "g3NI8Xgm_QUO"
      },
      "source": [
        "We start off at some random location on the function – essentially, a guess. Say $x = 7$.\n"
      ]
    },
    {
      "cell_type": "code",
      "metadata": {
        "id": "GXmPPce8-uyo",
        "outputId": "abb5383a-db10-434a-e3c8-9a9c1967633b",
        "colab": {
          "base_uri": "https://localhost:8080/",
          "height": 35
        }
      },
      "source": [
        "xinit = 7\n",
        "\n",
        "\n",
        "#convex function: there is a global unique minima\n",
        "#not convex functions in general: use gradient-based optimisation\n",
        "#take the first derivative:take the slope\n",
        "#xinit is random"
      ],
      "execution_count": null,
      "outputs": [
        {
          "output_type": "execute_result",
          "data": {
            "text/plain": [
              "7"
            ]
          },
          "metadata": {
            "tags": []
          },
          "execution_count": 3
        }
      ]
    },
    {
      "cell_type": "markdown",
      "metadata": {
        "id": "sz9OP_uX_rTf"
      },
      "source": [
        "Since we know how to compute the gradient for this function, let's define a derivative function for convenience."
      ]
    },
    {
      "cell_type": "code",
      "metadata": {
        "id": "XEC3Dgnu_0vQ"
      },
      "source": [
        "fprime(x) = 2x;\n",
        "#compute the gradient "
      ],
      "execution_count": null,
      "outputs": []
    },
    {
      "cell_type": "markdown",
      "metadata": {
        "id": "7Ts4Yb-j_6qe"
      },
      "source": [
        "Then, we can apply this function to get the gradient at the point where $x$ is $7$."
      ]
    },
    {
      "cell_type": "code",
      "metadata": {
        "id": "Scb3-Pca_65d",
        "outputId": "dad2a5cc-36b8-4c47-81bb-80eb47bb1c45",
        "colab": {
          "base_uri": "https://localhost:8080/",
          "height": 35
        }
      },
      "source": [
        "gradinit = fprime(xinit)\n",
        "#apply the function at this specific point"
      ],
      "execution_count": null,
      "outputs": [
        {
          "output_type": "execute_result",
          "data": {
            "text/plain": [
              "14"
            ]
          },
          "metadata": {
            "tags": []
          },
          "execution_count": 5
        }
      ]
    },
    {
      "cell_type": "markdown",
      "metadata": {
        "id": "gsEVpaQAB_gm"
      },
      "source": [
        "Let us see what this looks like if we plot it alongside our function."
      ]
    },
    {
      "cell_type": "code",
      "metadata": {
        "id": "1c3Ym13tVX_t",
        "outputId": "c58849ab-1831-47b8-9376-70c1aa0b0052",
        "colab": {
          "base_uri": "https://localhost:8080/",
          "height": 421
        }
      },
      "source": [
        "plt = plot(f, -10:10)\n",
        "scatter!(plt, [xinit], [f(xinit)], legend=:none)\n",
        "#plot the point along the function"
      ],
      "execution_count": null,
      "outputs": [
        {
          "output_type": "execute_result",
          "data": {
            "image/svg+xml": "<?xml version=\"1.0\" encoding=\"utf-8\"?>\n<svg xmlns=\"http://www.w3.org/2000/svg\" xmlns:xlink=\"http://www.w3.org/1999/xlink\" width=\"600\" height=\"400\" viewBox=\"0 0 2400 1600\">\n<defs>\n  <clipPath id=\"clip4000\">\n    <rect x=\"0\" y=\"0\" width=\"2400\" height=\"1600\"/>\n  </clipPath>\n</defs>\n<path clip-path=\"url(#clip4000)\" d=\"\nM0 1600 L2400 1600 L2400 0 L0 0  Z\n  \" fill=\"#ffffff\" fill-rule=\"evenodd\" fill-opacity=\"1\"/>\n<defs>\n  <clipPath id=\"clip4001\">\n    <rect x=\"480\" y=\"0\" width=\"1681\" height=\"1600\"/>\n  </clipPath>\n</defs>\n<path clip-path=\"url(#clip4000)\" d=\"\nM167.279 1487.47 L2352.76 1487.47 L2352.76 47.2441 L167.279 47.2441  Z\n  \" fill=\"#ffffff\" fill-rule=\"evenodd\" fill-opacity=\"1\"/>\n<defs>\n  <clipPath id=\"clip4002\">\n    <rect x=\"167\" y=\"47\" width=\"2186\" height=\"1441\"/>\n  </clipPath>\n</defs>\n<polyline clip-path=\"url(#clip4002)\" style=\"stroke:#000000; stroke-width:2; stroke-opacity:0.1; fill:none\" points=\"\n  229.132,1487.47 229.132,47.2441 \n  \"/>\n<polyline clip-path=\"url(#clip4002)\" style=\"stroke:#000000; stroke-width:2; stroke-opacity:0.1; fill:none\" points=\"\n  744.575,1487.47 744.575,47.2441 \n  \"/>\n<polyline clip-path=\"url(#clip4002)\" style=\"stroke:#000000; stroke-width:2; stroke-opacity:0.1; fill:none\" points=\"\n  1260.02,1487.47 1260.02,47.2441 \n  \"/>\n<polyline clip-path=\"url(#clip4002)\" style=\"stroke:#000000; stroke-width:2; stroke-opacity:0.1; fill:none\" points=\"\n  1775.46,1487.47 1775.46,47.2441 \n  \"/>\n<polyline clip-path=\"url(#clip4002)\" style=\"stroke:#000000; stroke-width:2; stroke-opacity:0.1; fill:none\" points=\"\n  2290.9,1487.47 2290.9,47.2441 \n  \"/>\n<polyline clip-path=\"url(#clip4002)\" style=\"stroke:#000000; stroke-width:2; stroke-opacity:0.1; fill:none\" points=\"\n  167.279,1446.71 2352.76,1446.71 \n  \"/>\n<polyline clip-path=\"url(#clip4002)\" style=\"stroke:#000000; stroke-width:2; stroke-opacity:0.1; fill:none\" points=\"\n  167.279,1107.04 2352.76,1107.04 \n  \"/>\n<polyline clip-path=\"url(#clip4002)\" style=\"stroke:#000000; stroke-width:2; stroke-opacity:0.1; fill:none\" points=\"\n  167.279,767.359 2352.76,767.359 \n  \"/>\n<polyline clip-path=\"url(#clip4002)\" style=\"stroke:#000000; stroke-width:2; stroke-opacity:0.1; fill:none\" points=\"\n  167.279,427.682 2352.76,427.682 \n  \"/>\n<polyline clip-path=\"url(#clip4002)\" style=\"stroke:#000000; stroke-width:2; stroke-opacity:0.1; fill:none\" points=\"\n  167.279,88.0053 2352.76,88.0053 \n  \"/>\n<polyline clip-path=\"url(#clip4000)\" style=\"stroke:#000000; stroke-width:4; stroke-opacity:1; fill:none\" points=\"\n  167.279,1487.47 2352.76,1487.47 \n  \"/>\n<polyline clip-path=\"url(#clip4000)\" style=\"stroke:#000000; stroke-width:4; stroke-opacity:1; fill:none\" points=\"\n  167.279,1487.47 167.279,47.2441 \n  \"/>\n<polyline clip-path=\"url(#clip4000)\" style=\"stroke:#000000; stroke-width:4; stroke-opacity:1; fill:none\" points=\"\n  229.132,1487.47 229.132,1465.87 \n  \"/>\n<polyline clip-path=\"url(#clip4000)\" style=\"stroke:#000000; stroke-width:4; stroke-opacity:1; fill:none\" points=\"\n  744.575,1487.47 744.575,1465.87 \n  \"/>\n<polyline clip-path=\"url(#clip4000)\" style=\"stroke:#000000; stroke-width:4; stroke-opacity:1; fill:none\" points=\"\n  1260.02,1487.47 1260.02,1465.87 \n  \"/>\n<polyline clip-path=\"url(#clip4000)\" style=\"stroke:#000000; stroke-width:4; stroke-opacity:1; fill:none\" points=\"\n  1775.46,1487.47 1775.46,1465.87 \n  \"/>\n<polyline clip-path=\"url(#clip4000)\" style=\"stroke:#000000; stroke-width:4; stroke-opacity:1; fill:none\" points=\"\n  2290.9,1487.47 2290.9,1465.87 \n  \"/>\n<polyline clip-path=\"url(#clip4000)\" style=\"stroke:#000000; stroke-width:4; stroke-opacity:1; fill:none\" points=\"\n  167.279,1446.71 200.061,1446.71 \n  \"/>\n<polyline clip-path=\"url(#clip4000)\" style=\"stroke:#000000; stroke-width:4; stroke-opacity:1; fill:none\" points=\"\n  167.279,1107.04 200.061,1107.04 \n  \"/>\n<polyline clip-path=\"url(#clip4000)\" style=\"stroke:#000000; stroke-width:4; stroke-opacity:1; fill:none\" points=\"\n  167.279,767.359 200.061,767.359 \n  \"/>\n<polyline clip-path=\"url(#clip4000)\" style=\"stroke:#000000; stroke-width:4; stroke-opacity:1; fill:none\" points=\"\n  167.279,427.682 200.061,427.682 \n  \"/>\n<polyline clip-path=\"url(#clip4000)\" style=\"stroke:#000000; stroke-width:4; stroke-opacity:1; fill:none\" points=\"\n  167.279,88.0053 200.061,88.0053 \n  \"/>\n<g clip-path=\"url(#clip4000)\">\n<text style=\"fill:#000000; fill-opacity:1; font-family:Arial,Helvetica Neue,Helvetica,sans-serif; font-size:48px; text-anchor:middle;\" transform=\"rotate(0, 229.132, 1541.47)\" x=\"229.132\" y=\"1541.47\">-10</text>\n</g>\n<g clip-path=\"url(#clip4000)\">\n<text style=\"fill:#000000; fill-opacity:1; font-family:Arial,Helvetica Neue,Helvetica,sans-serif; font-size:48px; text-anchor:middle;\" transform=\"rotate(0, 744.575, 1541.47)\" x=\"744.575\" y=\"1541.47\">-5</text>\n</g>\n<g clip-path=\"url(#clip4000)\">\n<text style=\"fill:#000000; fill-opacity:1; font-family:Arial,Helvetica Neue,Helvetica,sans-serif; font-size:48px; text-anchor:middle;\" transform=\"rotate(0, 1260.02, 1541.47)\" x=\"1260.02\" y=\"1541.47\">0</text>\n</g>\n<g clip-path=\"url(#clip4000)\">\n<text style=\"fill:#000000; fill-opacity:1; font-family:Arial,Helvetica Neue,Helvetica,sans-serif; font-size:48px; text-anchor:middle;\" transform=\"rotate(0, 1775.46, 1541.47)\" x=\"1775.46\" y=\"1541.47\">5</text>\n</g>\n<g clip-path=\"url(#clip4000)\">\n<text style=\"fill:#000000; fill-opacity:1; font-family:Arial,Helvetica Neue,Helvetica,sans-serif; font-size:48px; text-anchor:middle;\" transform=\"rotate(0, 2290.9, 1541.47)\" x=\"2290.9\" y=\"1541.47\">10</text>\n</g>\n<g clip-path=\"url(#clip4000)\">\n<text style=\"fill:#000000; fill-opacity:1; font-family:Arial,Helvetica Neue,Helvetica,sans-serif; font-size:48px; text-anchor:end;\" transform=\"rotate(0, 143.279, 1464.21)\" x=\"143.279\" y=\"1464.21\">0</text>\n</g>\n<g clip-path=\"url(#clip4000)\">\n<text style=\"fill:#000000; fill-opacity:1; font-family:Arial,Helvetica Neue,Helvetica,sans-serif; font-size:48px; text-anchor:end;\" transform=\"rotate(0, 143.279, 1124.54)\" x=\"143.279\" y=\"1124.54\">25</text>\n</g>\n<g clip-path=\"url(#clip4000)\">\n<text style=\"fill:#000000; fill-opacity:1; font-family:Arial,Helvetica Neue,Helvetica,sans-serif; font-size:48px; text-anchor:end;\" transform=\"rotate(0, 143.279, 784.859)\" x=\"143.279\" y=\"784.859\">50</text>\n</g>\n<g clip-path=\"url(#clip4000)\">\n<text style=\"fill:#000000; fill-opacity:1; font-family:Arial,Helvetica Neue,Helvetica,sans-serif; font-size:48px; text-anchor:end;\" transform=\"rotate(0, 143.279, 445.182)\" x=\"143.279\" y=\"445.182\">75</text>\n</g>\n<g clip-path=\"url(#clip4000)\">\n<text style=\"fill:#000000; fill-opacity:1; font-family:Arial,Helvetica Neue,Helvetica,sans-serif; font-size:48px; text-anchor:end;\" transform=\"rotate(0, 143.279, 105.505)\" x=\"143.279\" y=\"105.505\">100</text>\n</g>\n<polyline clip-path=\"url(#clip4002)\" style=\"stroke:#009af9; stroke-width:4; stroke-opacity:1; fill:none\" points=\"\n  229.132,88.0053 332.221,346.16 435.309,577.14 538.398,780.946 641.486,957.579 744.575,1107.04 847.663,1229.32 950.752,1324.43 1053.84,1392.37 1156.93,1433.13 \n  1260.02,1446.71 1363.11,1433.13 1466.19,1392.37 1569.28,1324.43 1672.37,1229.32 1775.46,1107.04 1878.55,957.579 1981.64,780.946 2084.73,577.14 2187.81,346.16 \n  2290.9,88.0053 \n  \"/>\n<circle clip-path=\"url(#clip4002)\" style=\"fill:#000000; stroke:none; fill-opacity:1\" cx=\"1981.64\" cy=\"780.946\" r=\"18\"/>\n<circle clip-path=\"url(#clip4002)\" style=\"fill:#e26f46; stroke:none; fill-opacity:1\" cx=\"1981.64\" cy=\"780.946\" r=\"14\"/>\n</svg>\n"
          },
          "metadata": {
            "tags": []
          },
          "execution_count": 6
        }
      ]
    },
    {
      "cell_type": "markdown",
      "metadata": {
        "id": "IYhmNPK4Dd86"
      },
      "source": [
        "Now, **gradient descent** suggests that we should move our current point in the direction opposite to the gradient (i.e. in the direction of the **negative gradient**) as we want to move \"downhill\"."
      ]
    },
    {
      "cell_type": "code",
      "metadata": {
        "id": "iL-qENKQDwfl",
        "outputId": "a15e74c2-efca-4f3a-a595-cf4da581acbf",
        "colab": {
          "base_uri": "https://localhost:8080/",
          "height": 35
        }
      },
      "source": [
        "xnew = xinit - gradinit\n",
        "#gradient descent: take our original x(=7) take the gradient, and subtract (to do the \"descent\")\n",
        "#mirror the position, another point with equally high loss \n",
        "#learning rate: \"epsilon\", alpha (usually), lamda\n",
        "#positive scalar: think of it as a step size \n",
        "#between 0 and 1 [0,1]\n",
        "#in practice: starts from 0.1, (1/100) a good initial guess \n",
        "#current x - gradient multiplied by our learning rate \n"
      ],
      "execution_count": null,
      "outputs": [
        {
          "output_type": "execute_result",
          "data": {
            "text/plain": [
              "-7"
            ]
          },
          "metadata": {
            "tags": []
          },
          "execution_count": 7
        }
      ]
    },
    {
      "cell_type": "code",
      "metadata": {
        "id": "o4xE_9sWETHq",
        "outputId": "72f52f48-ba47-4342-d038-22b97342d35f",
        "colab": {
          "base_uri": "https://localhost:8080/",
          "height": 421
        }
      },
      "source": [
        "plt = plot(f, -10:10)\n",
        "plt = scatter!(plt, [xinit], [f(xinit)])\n",
        "scatter!(plt, [xnew], [f(xnew)], legend=:none)\n",
        "\n",
        "\n",
        "#big learning rate: balance across the different points on the other side (mirrored points)\n",
        "#small: takes much time to converge "
      ],
      "execution_count": null,
      "outputs": [
        {
          "output_type": "execute_result",
          "data": {
            "image/svg+xml": "<?xml version=\"1.0\" encoding=\"utf-8\"?>\n<svg xmlns=\"http://www.w3.org/2000/svg\" xmlns:xlink=\"http://www.w3.org/1999/xlink\" width=\"600\" height=\"400\" viewBox=\"0 0 2400 1600\">\n<defs>\n  <clipPath id=\"clip4400\">\n    <rect x=\"0\" y=\"0\" width=\"2400\" height=\"1600\"/>\n  </clipPath>\n</defs>\n<path clip-path=\"url(#clip4400)\" d=\"\nM0 1600 L2400 1600 L2400 0 L0 0  Z\n  \" fill=\"#ffffff\" fill-rule=\"evenodd\" fill-opacity=\"1\"/>\n<defs>\n  <clipPath id=\"clip4401\">\n    <rect x=\"480\" y=\"0\" width=\"1681\" height=\"1600\"/>\n  </clipPath>\n</defs>\n<path clip-path=\"url(#clip4400)\" d=\"\nM167.279 1487.47 L2352.76 1487.47 L2352.76 47.2441 L167.279 47.2441  Z\n  \" fill=\"#ffffff\" fill-rule=\"evenodd\" fill-opacity=\"1\"/>\n<defs>\n  <clipPath id=\"clip4402\">\n    <rect x=\"167\" y=\"47\" width=\"2186\" height=\"1441\"/>\n  </clipPath>\n</defs>\n<polyline clip-path=\"url(#clip4402)\" style=\"stroke:#000000; stroke-width:2; stroke-opacity:0.1; fill:none\" points=\"\n  229.132,1487.47 229.132,47.2441 \n  \"/>\n<polyline clip-path=\"url(#clip4402)\" style=\"stroke:#000000; stroke-width:2; stroke-opacity:0.1; fill:none\" points=\"\n  744.575,1487.47 744.575,47.2441 \n  \"/>\n<polyline clip-path=\"url(#clip4402)\" style=\"stroke:#000000; stroke-width:2; stroke-opacity:0.1; fill:none\" points=\"\n  1260.02,1487.47 1260.02,47.2441 \n  \"/>\n<polyline clip-path=\"url(#clip4402)\" style=\"stroke:#000000; stroke-width:2; stroke-opacity:0.1; fill:none\" points=\"\n  1775.46,1487.47 1775.46,47.2441 \n  \"/>\n<polyline clip-path=\"url(#clip4402)\" style=\"stroke:#000000; stroke-width:2; stroke-opacity:0.1; fill:none\" points=\"\n  2290.9,1487.47 2290.9,47.2441 \n  \"/>\n<polyline clip-path=\"url(#clip4402)\" style=\"stroke:#000000; stroke-width:2; stroke-opacity:0.1; fill:none\" points=\"\n  167.279,1446.71 2352.76,1446.71 \n  \"/>\n<polyline clip-path=\"url(#clip4402)\" style=\"stroke:#000000; stroke-width:2; stroke-opacity:0.1; fill:none\" points=\"\n  167.279,1107.04 2352.76,1107.04 \n  \"/>\n<polyline clip-path=\"url(#clip4402)\" style=\"stroke:#000000; stroke-width:2; stroke-opacity:0.1; fill:none\" points=\"\n  167.279,767.359 2352.76,767.359 \n  \"/>\n<polyline clip-path=\"url(#clip4402)\" style=\"stroke:#000000; stroke-width:2; stroke-opacity:0.1; fill:none\" points=\"\n  167.279,427.682 2352.76,427.682 \n  \"/>\n<polyline clip-path=\"url(#clip4402)\" style=\"stroke:#000000; stroke-width:2; stroke-opacity:0.1; fill:none\" points=\"\n  167.279,88.0053 2352.76,88.0053 \n  \"/>\n<polyline clip-path=\"url(#clip4400)\" style=\"stroke:#000000; stroke-width:4; stroke-opacity:1; fill:none\" points=\"\n  167.279,1487.47 2352.76,1487.47 \n  \"/>\n<polyline clip-path=\"url(#clip4400)\" style=\"stroke:#000000; stroke-width:4; stroke-opacity:1; fill:none\" points=\"\n  167.279,1487.47 167.279,47.2441 \n  \"/>\n<polyline clip-path=\"url(#clip4400)\" style=\"stroke:#000000; stroke-width:4; stroke-opacity:1; fill:none\" points=\"\n  229.132,1487.47 229.132,1465.87 \n  \"/>\n<polyline clip-path=\"url(#clip4400)\" style=\"stroke:#000000; stroke-width:4; stroke-opacity:1; fill:none\" points=\"\n  744.575,1487.47 744.575,1465.87 \n  \"/>\n<polyline clip-path=\"url(#clip4400)\" style=\"stroke:#000000; stroke-width:4; stroke-opacity:1; fill:none\" points=\"\n  1260.02,1487.47 1260.02,1465.87 \n  \"/>\n<polyline clip-path=\"url(#clip4400)\" style=\"stroke:#000000; stroke-width:4; stroke-opacity:1; fill:none\" points=\"\n  1775.46,1487.47 1775.46,1465.87 \n  \"/>\n<polyline clip-path=\"url(#clip4400)\" style=\"stroke:#000000; stroke-width:4; stroke-opacity:1; fill:none\" points=\"\n  2290.9,1487.47 2290.9,1465.87 \n  \"/>\n<polyline clip-path=\"url(#clip4400)\" style=\"stroke:#000000; stroke-width:4; stroke-opacity:1; fill:none\" points=\"\n  167.279,1446.71 200.061,1446.71 \n  \"/>\n<polyline clip-path=\"url(#clip4400)\" style=\"stroke:#000000; stroke-width:4; stroke-opacity:1; fill:none\" points=\"\n  167.279,1107.04 200.061,1107.04 \n  \"/>\n<polyline clip-path=\"url(#clip4400)\" style=\"stroke:#000000; stroke-width:4; stroke-opacity:1; fill:none\" points=\"\n  167.279,767.359 200.061,767.359 \n  \"/>\n<polyline clip-path=\"url(#clip4400)\" style=\"stroke:#000000; stroke-width:4; stroke-opacity:1; fill:none\" points=\"\n  167.279,427.682 200.061,427.682 \n  \"/>\n<polyline clip-path=\"url(#clip4400)\" style=\"stroke:#000000; stroke-width:4; stroke-opacity:1; fill:none\" points=\"\n  167.279,88.0053 200.061,88.0053 \n  \"/>\n<g clip-path=\"url(#clip4400)\">\n<text style=\"fill:#000000; fill-opacity:1; font-family:Arial,Helvetica Neue,Helvetica,sans-serif; font-size:48px; text-anchor:middle;\" transform=\"rotate(0, 229.132, 1541.47)\" x=\"229.132\" y=\"1541.47\">-10</text>\n</g>\n<g clip-path=\"url(#clip4400)\">\n<text style=\"fill:#000000; fill-opacity:1; font-family:Arial,Helvetica Neue,Helvetica,sans-serif; font-size:48px; text-anchor:middle;\" transform=\"rotate(0, 744.575, 1541.47)\" x=\"744.575\" y=\"1541.47\">-5</text>\n</g>\n<g clip-path=\"url(#clip4400)\">\n<text style=\"fill:#000000; fill-opacity:1; font-family:Arial,Helvetica Neue,Helvetica,sans-serif; font-size:48px; text-anchor:middle;\" transform=\"rotate(0, 1260.02, 1541.47)\" x=\"1260.02\" y=\"1541.47\">0</text>\n</g>\n<g clip-path=\"url(#clip4400)\">\n<text style=\"fill:#000000; fill-opacity:1; font-family:Arial,Helvetica Neue,Helvetica,sans-serif; font-size:48px; text-anchor:middle;\" transform=\"rotate(0, 1775.46, 1541.47)\" x=\"1775.46\" y=\"1541.47\">5</text>\n</g>\n<g clip-path=\"url(#clip4400)\">\n<text style=\"fill:#000000; fill-opacity:1; font-family:Arial,Helvetica Neue,Helvetica,sans-serif; font-size:48px; text-anchor:middle;\" transform=\"rotate(0, 2290.9, 1541.47)\" x=\"2290.9\" y=\"1541.47\">10</text>\n</g>\n<g clip-path=\"url(#clip4400)\">\n<text style=\"fill:#000000; fill-opacity:1; font-family:Arial,Helvetica Neue,Helvetica,sans-serif; font-size:48px; text-anchor:end;\" transform=\"rotate(0, 143.279, 1464.21)\" x=\"143.279\" y=\"1464.21\">0</text>\n</g>\n<g clip-path=\"url(#clip4400)\">\n<text style=\"fill:#000000; fill-opacity:1; font-family:Arial,Helvetica Neue,Helvetica,sans-serif; font-size:48px; text-anchor:end;\" transform=\"rotate(0, 143.279, 1124.54)\" x=\"143.279\" y=\"1124.54\">25</text>\n</g>\n<g clip-path=\"url(#clip4400)\">\n<text style=\"fill:#000000; fill-opacity:1; font-family:Arial,Helvetica Neue,Helvetica,sans-serif; font-size:48px; text-anchor:end;\" transform=\"rotate(0, 143.279, 784.859)\" x=\"143.279\" y=\"784.859\">50</text>\n</g>\n<g clip-path=\"url(#clip4400)\">\n<text style=\"fill:#000000; fill-opacity:1; font-family:Arial,Helvetica Neue,Helvetica,sans-serif; font-size:48px; text-anchor:end;\" transform=\"rotate(0, 143.279, 445.182)\" x=\"143.279\" y=\"445.182\">75</text>\n</g>\n<g clip-path=\"url(#clip4400)\">\n<text style=\"fill:#000000; fill-opacity:1; font-family:Arial,Helvetica Neue,Helvetica,sans-serif; font-size:48px; text-anchor:end;\" transform=\"rotate(0, 143.279, 105.505)\" x=\"143.279\" y=\"105.505\">100</text>\n</g>\n<polyline clip-path=\"url(#clip4402)\" style=\"stroke:#009af9; stroke-width:4; stroke-opacity:1; fill:none\" points=\"\n  229.132,88.0053 332.221,346.16 435.309,577.14 538.398,780.946 641.486,957.579 744.575,1107.04 847.663,1229.32 950.752,1324.43 1053.84,1392.37 1156.93,1433.13 \n  1260.02,1446.71 1363.11,1433.13 1466.19,1392.37 1569.28,1324.43 1672.37,1229.32 1775.46,1107.04 1878.55,957.579 1981.64,780.946 2084.73,577.14 2187.81,346.16 \n  2290.9,88.0053 \n  \"/>\n<circle clip-path=\"url(#clip4402)\" style=\"fill:#000000; stroke:none; fill-opacity:1\" cx=\"1981.64\" cy=\"780.946\" r=\"18\"/>\n<circle clip-path=\"url(#clip4402)\" style=\"fill:#e26f46; stroke:none; fill-opacity:1\" cx=\"1981.64\" cy=\"780.946\" r=\"14\"/>\n<circle clip-path=\"url(#clip4402)\" style=\"fill:#000000; stroke:none; fill-opacity:1\" cx=\"538.398\" cy=\"780.946\" r=\"18\"/>\n<circle clip-path=\"url(#clip4402)\" style=\"fill:#3da44d; stroke:none; fill-opacity:1\" cx=\"538.398\" cy=\"780.946\" r=\"14\"/>\n</svg>\n"
          },
          "metadata": {
            "tags": []
          },
          "execution_count": 8
        }
      ]
    },
    {
      "cell_type": "markdown",
      "metadata": {
        "id": "JhLunPDwEgdH"
      },
      "source": [
        "We still seem to be the same distance from the minimum. Something doesn't seem right. In fact, there is a very important concept we still need to introduce called the **learning rate**.\n",
        "\n",
        "The **learning rate** ($\\epsilon$, also found as $\\alpha$ or $\\lambda$) is a positive scalar which determines how much we move in the direction of the negative gradient, also known as the step size.\n",
        "\n",
        "$$ \\epsilon \\in [0, 1] $$\n",
        "\n",
        "In practice learning rates tend be in the range $[0.1, 0.0001]$, a good initial guess tends to be $0.001$.\n",
        "\n",
        "A step of gradient descent can be given as:\n",
        "\n",
        "$$ x^\\prime = x - \\epsilon \\nabla_x f(x)$$\n",
        "\n",
        "Since we are usually interested in finding the optimal model parameters $\\mathbf{\\theta}$ that minimise the loss function, $L(\\mathbf{\\theta})$, it makes sense to define gradient descent in these terms:\n",
        "\n",
        "$$ \\theta^\\prime = \\theta - \\epsilon \\nabla_\\theta L(\\mathbf{\\theta})$$"
      ]
    },
    {
      "cell_type": "markdown",
      "metadata": {
        "id": "eF-BaGoxGZe1"
      },
      "source": [
        "The **learning rate** can have a large effect on whether the iterative process of gradient descent converges, and how quickly it does if so.\n",
        "\n",
        "![alt text](https://builtin.com/sites/default/files/styles/ckeditor_optimize/public/inline-images/gradient-descent-learning-rate.png)\n",
        "\n",
        "[Image source](https://builtin.com/sites/default/files/styles/ckeditor_optimize/public/inline-images/gradient-descent-learning-rate.png)"
      ]
    },
    {
      "cell_type": "markdown",
      "metadata": {
        "id": "TA2cnmcaHQbF"
      },
      "source": [
        "We also want to know when to stop iterating. We do this by defining a **precision** which is a small value representing the smallest amount of change between the current and previous values for which we would consider the process to have converged."
      ]
    },
    {
      "cell_type": "code",
      "metadata": {
        "id": "uxGPFoslEaI4",
        "outputId": "3fb83e5a-1d5b-407a-e6cd-406300f40dbc",
        "colab": {
          "base_uri": "https://localhost:8080/",
          "height": 35
        }
      },
      "source": [
        "learningrate = 0.01\n",
        "precision = 0.00001\n",
        "\n",
        "curx             = xinit\n",
        "previousstepsize = 1.0\n",
        "curstep          = 0\n",
        "while previousstepsize > precision\n",
        "    newx              = curx - learningrate*fprime(curx)\n",
        "    previousstepsize  = abs(newx - curx)  # absolute difference between the previous and current x values\n",
        "    curx              = newx\n",
        "    curstep          += 1\n",
        "end\n",
        "\n",
        "print(\"The local minimum occurs at $(curx). Converged after $(curstep) steps.\");\n",
        "\n",
        "\n",
        "#how to know when we should stop running\n",
        "#convergence: actually have a local minima\n",
        "#for deep learning: this is rare (to know you have found even a local minima)\n",
        "#measure the precision (defined a learning rate)\n",
        "#set the current x, previous step size (=magnitute of the previous gradient step)\n",
        "#if the previous step larger than precision -> continue\n",
        "#increase the number of steps\n",
        "#learning rate scheduler\n",
        "#converged in 474 steps: epoch:  1 parse through your entire training data\n",
        "#you observed each and every one of the training data only once\n",
        "#train until your validation loss increases for x epochs  (3 or 5)\n",
        "#if that happens, you pick parameters at what they were in your minimum "
      ],
      "execution_count": null,
      "outputs": [
        {
          "output_type": "stream",
          "text": [
            "The local minimum occurs at 0.0004855767882775298. Converged after 474 steps."
          ],
          "name": "stdout"
        }
      ]
    },
    {
      "cell_type": "markdown",
      "metadata": {
        "id": "0jr6lHRJKEJ2"
      },
      "source": [
        "We can see that this is indeed very close to the minimum value of $x = 0$. Let us try changing the **learning rate** and see how that affects the minimum value and convergence rate."
      ]
    },
    {
      "cell_type": "markdown",
      "metadata": {
        "id": "MlUGyHbX0oLH"
      },
      "source": [
        "Machine learning practitioners use other stopping critera than precission when training their models. Why? What are these?"
      ]
    },
    {
      "cell_type": "markdown",
      "metadata": {
        "id": "xCL1CfxVKUQE"
      },
      "source": [
        "Let us visualise a few steps of gradient descent in action."
      ]
    },
    {
      "cell_type": "code",
      "metadata": {
        "id": "0xKkK-kbKQ9z",
        "outputId": "764bb630-42f9-4d36-d81a-e9392db2e207",
        "colab": {
          "base_uri": "https://localhost:8080/",
          "height": 421
        }
      },
      "source": [
        "numsteps = 20\n",
        "learningrate = 0.95  # Change this and see what happens!\n",
        "\n",
        "curx = xinit\n",
        "for i = 1:numsteps\n",
        "    newx = curx - learningrate*fprime(curx)\n",
        "    IJulia.clear_output(true)\n",
        "    plt = plot(f, -10:10)\n",
        "    scatter!(plt, [newx], [f(newx)], legend=:none)\n",
        "    title!(plt, \"Step: $i\") |> IJulia.display\n",
        "    curx = newx\n",
        "    sleep(0.5)\n",
        "end\n",
        "\n",
        "\n",
        "#in practice you dont know when you are in a saddle point\n",
        "#jumping back and forth\n",
        "#keep fixed the learning rates between epochs \n",
        "#linear decay\n",
        "#it changes all the time\n",
        "#which optimizers, regularisation and learning rates are essential for each domain\n",
        "#green: converge but not inrease :regularisation \n",
        "#good learning rate: fairly abrupt in the begining and then flattens\n",
        "#even for the good learning rate: not converge to 0\n",
        "#really rare that you manage to fit your data entirely!"
      ],
      "execution_count": null,
      "outputs": [
        {
          "output_type": "display_data",
          "data": {
            "image/svg+xml": "<?xml version=\"1.0\" encoding=\"utf-8\"?>\n<svg xmlns=\"http://www.w3.org/2000/svg\" xmlns:xlink=\"http://www.w3.org/1999/xlink\" width=\"600\" height=\"400\" viewBox=\"0 0 2400 1600\">\n<defs>\n  <clipPath id=\"clip9200\">\n    <rect x=\"0\" y=\"0\" width=\"2400\" height=\"1600\"/>\n  </clipPath>\n</defs>\n<path clip-path=\"url(#clip9200)\" d=\"\nM0 1600 L2400 1600 L2400 0 L0 0  Z\n  \" fill=\"#ffffff\" fill-rule=\"evenodd\" fill-opacity=\"1\"/>\n<defs>\n  <clipPath id=\"clip9201\">\n    <rect x=\"480\" y=\"0\" width=\"1681\" height=\"1600\"/>\n  </clipPath>\n</defs>\n<path clip-path=\"url(#clip9200)\" d=\"\nM167.279 1487.47 L2352.76 1487.47 L2352.76 121.675 L167.279 121.675  Z\n  \" fill=\"#ffffff\" fill-rule=\"evenodd\" fill-opacity=\"1\"/>\n<defs>\n  <clipPath id=\"clip9202\">\n    <rect x=\"167\" y=\"121\" width=\"2186\" height=\"1367\"/>\n  </clipPath>\n</defs>\n<polyline clip-path=\"url(#clip9202)\" style=\"stroke:#000000; stroke-width:2; stroke-opacity:0.1; fill:none\" points=\"\n  229.132,1487.47 229.132,121.675 \n  \"/>\n<polyline clip-path=\"url(#clip9202)\" style=\"stroke:#000000; stroke-width:2; stroke-opacity:0.1; fill:none\" points=\"\n  744.575,1487.47 744.575,121.675 \n  \"/>\n<polyline clip-path=\"url(#clip9202)\" style=\"stroke:#000000; stroke-width:2; stroke-opacity:0.1; fill:none\" points=\"\n  1260.02,1487.47 1260.02,121.675 \n  \"/>\n<polyline clip-path=\"url(#clip9202)\" style=\"stroke:#000000; stroke-width:2; stroke-opacity:0.1; fill:none\" points=\"\n  1775.46,1487.47 1775.46,121.675 \n  \"/>\n<polyline clip-path=\"url(#clip9202)\" style=\"stroke:#000000; stroke-width:2; stroke-opacity:0.1; fill:none\" points=\"\n  2290.9,1487.47 2290.9,121.675 \n  \"/>\n<polyline clip-path=\"url(#clip9202)\" style=\"stroke:#000000; stroke-width:2; stroke-opacity:0.1; fill:none\" points=\"\n  167.279,1448.82 2352.76,1448.82 \n  \"/>\n<polyline clip-path=\"url(#clip9202)\" style=\"stroke:#000000; stroke-width:2; stroke-opacity:0.1; fill:none\" points=\"\n  167.279,1126.7 2352.76,1126.7 \n  \"/>\n<polyline clip-path=\"url(#clip9202)\" style=\"stroke:#000000; stroke-width:2; stroke-opacity:0.1; fill:none\" points=\"\n  167.279,804.575 2352.76,804.575 \n  \"/>\n<polyline clip-path=\"url(#clip9202)\" style=\"stroke:#000000; stroke-width:2; stroke-opacity:0.1; fill:none\" points=\"\n  167.279,482.452 2352.76,482.452 \n  \"/>\n<polyline clip-path=\"url(#clip9202)\" style=\"stroke:#000000; stroke-width:2; stroke-opacity:0.1; fill:none\" points=\"\n  167.279,160.33 2352.76,160.33 \n  \"/>\n<polyline clip-path=\"url(#clip9200)\" style=\"stroke:#000000; stroke-width:4; stroke-opacity:1; fill:none\" points=\"\n  167.279,1487.47 2352.76,1487.47 \n  \"/>\n<polyline clip-path=\"url(#clip9200)\" style=\"stroke:#000000; stroke-width:4; stroke-opacity:1; fill:none\" points=\"\n  167.279,1487.47 167.279,121.675 \n  \"/>\n<polyline clip-path=\"url(#clip9200)\" style=\"stroke:#000000; stroke-width:4; stroke-opacity:1; fill:none\" points=\"\n  229.132,1487.47 229.132,1466.99 \n  \"/>\n<polyline clip-path=\"url(#clip9200)\" style=\"stroke:#000000; stroke-width:4; stroke-opacity:1; fill:none\" points=\"\n  744.575,1487.47 744.575,1466.99 \n  \"/>\n<polyline clip-path=\"url(#clip9200)\" style=\"stroke:#000000; stroke-width:4; stroke-opacity:1; fill:none\" points=\"\n  1260.02,1487.47 1260.02,1466.99 \n  \"/>\n<polyline clip-path=\"url(#clip9200)\" style=\"stroke:#000000; stroke-width:4; stroke-opacity:1; fill:none\" points=\"\n  1775.46,1487.47 1775.46,1466.99 \n  \"/>\n<polyline clip-path=\"url(#clip9200)\" style=\"stroke:#000000; stroke-width:4; stroke-opacity:1; fill:none\" points=\"\n  2290.9,1487.47 2290.9,1466.99 \n  \"/>\n<polyline clip-path=\"url(#clip9200)\" style=\"stroke:#000000; stroke-width:4; stroke-opacity:1; fill:none\" points=\"\n  167.279,1448.82 200.061,1448.82 \n  \"/>\n<polyline clip-path=\"url(#clip9200)\" style=\"stroke:#000000; stroke-width:4; stroke-opacity:1; fill:none\" points=\"\n  167.279,1126.7 200.061,1126.7 \n  \"/>\n<polyline clip-path=\"url(#clip9200)\" style=\"stroke:#000000; stroke-width:4; stroke-opacity:1; fill:none\" points=\"\n  167.279,804.575 200.061,804.575 \n  \"/>\n<polyline clip-path=\"url(#clip9200)\" style=\"stroke:#000000; stroke-width:4; stroke-opacity:1; fill:none\" points=\"\n  167.279,482.452 200.061,482.452 \n  \"/>\n<polyline clip-path=\"url(#clip9200)\" style=\"stroke:#000000; stroke-width:4; stroke-opacity:1; fill:none\" points=\"\n  167.279,160.33 200.061,160.33 \n  \"/>\n<g clip-path=\"url(#clip9200)\">\n<text style=\"fill:#000000; fill-opacity:1; font-family:Arial,Helvetica Neue,Helvetica,sans-serif; font-size:48px; text-anchor:middle;\" transform=\"rotate(0, 229.132, 1541.47)\" x=\"229.132\" y=\"1541.47\">-10</text>\n</g>\n<g clip-path=\"url(#clip9200)\">\n<text style=\"fill:#000000; fill-opacity:1; font-family:Arial,Helvetica Neue,Helvetica,sans-serif; font-size:48px; text-anchor:middle;\" transform=\"rotate(0, 744.575, 1541.47)\" x=\"744.575\" y=\"1541.47\">-5</text>\n</g>\n<g clip-path=\"url(#clip9200)\">\n<text style=\"fill:#000000; fill-opacity:1; font-family:Arial,Helvetica Neue,Helvetica,sans-serif; font-size:48px; text-anchor:middle;\" transform=\"rotate(0, 1260.02, 1541.47)\" x=\"1260.02\" y=\"1541.47\">0</text>\n</g>\n<g clip-path=\"url(#clip9200)\">\n<text style=\"fill:#000000; fill-opacity:1; font-family:Arial,Helvetica Neue,Helvetica,sans-serif; font-size:48px; text-anchor:middle;\" transform=\"rotate(0, 1775.46, 1541.47)\" x=\"1775.46\" y=\"1541.47\">5</text>\n</g>\n<g clip-path=\"url(#clip9200)\">\n<text style=\"fill:#000000; fill-opacity:1; font-family:Arial,Helvetica Neue,Helvetica,sans-serif; font-size:48px; text-anchor:middle;\" transform=\"rotate(0, 2290.9, 1541.47)\" x=\"2290.9\" y=\"1541.47\">10</text>\n</g>\n<g clip-path=\"url(#clip9200)\">\n<text style=\"fill:#000000; fill-opacity:1; font-family:Arial,Helvetica Neue,Helvetica,sans-serif; font-size:48px; text-anchor:end;\" transform=\"rotate(0, 143.279, 1466.32)\" x=\"143.279\" y=\"1466.32\">0</text>\n</g>\n<g clip-path=\"url(#clip9200)\">\n<text style=\"fill:#000000; fill-opacity:1; font-family:Arial,Helvetica Neue,Helvetica,sans-serif; font-size:48px; text-anchor:end;\" transform=\"rotate(0, 143.279, 1144.2)\" x=\"143.279\" y=\"1144.2\">25</text>\n</g>\n<g clip-path=\"url(#clip9200)\">\n<text style=\"fill:#000000; fill-opacity:1; font-family:Arial,Helvetica Neue,Helvetica,sans-serif; font-size:48px; text-anchor:end;\" transform=\"rotate(0, 143.279, 822.075)\" x=\"143.279\" y=\"822.075\">50</text>\n</g>\n<g clip-path=\"url(#clip9200)\">\n<text style=\"fill:#000000; fill-opacity:1; font-family:Arial,Helvetica Neue,Helvetica,sans-serif; font-size:48px; text-anchor:end;\" transform=\"rotate(0, 143.279, 499.952)\" x=\"143.279\" y=\"499.952\">75</text>\n</g>\n<g clip-path=\"url(#clip9200)\">\n<text style=\"fill:#000000; fill-opacity:1; font-family:Arial,Helvetica Neue,Helvetica,sans-serif; font-size:48px; text-anchor:end;\" transform=\"rotate(0, 143.279, 177.83)\" x=\"143.279\" y=\"177.83\">100</text>\n</g>\n<g clip-path=\"url(#clip9200)\">\n<text style=\"fill:#000000; fill-opacity:1; font-family:Arial,Helvetica Neue,Helvetica,sans-serif; font-size:84px; text-anchor:middle;\" transform=\"rotate(0, 1260.02, 73.2)\" x=\"1260.02\" y=\"73.2\">Step: 20</text>\n</g>\n<polyline clip-path=\"url(#clip9202)\" style=\"stroke:#009af9; stroke-width:4; stroke-opacity:1; fill:none\" points=\"\n  229.132,160.33 332.221,405.143 435.309,624.186 538.398,817.46 641.486,984.964 744.575,1126.7 847.663,1242.66 950.752,1332.86 1053.84,1397.28 1156.93,1435.94 \n  1260.02,1448.82 1363.11,1435.94 1466.19,1397.28 1569.28,1332.86 1672.37,1242.66 1775.46,1126.7 1878.55,984.964 1981.64,817.46 2084.73,624.186 2187.81,405.143 \n  2290.9,160.33 \n  \"/>\n<circle clip-path=\"url(#clip9202)\" style=\"fill:#000000; stroke:none; fill-opacity:1\" cx=\"1347.75\" cy=\"1439.49\" r=\"18\"/>\n<circle clip-path=\"url(#clip9202)\" style=\"fill:#e26f46; stroke:none; fill-opacity:1\" cx=\"1347.75\" cy=\"1439.49\" r=\"14\"/>\n</svg>\n"
          },
          "metadata": {
            "tags": []
          }
        }
      ]
    },
    {
      "cell_type": "markdown",
      "metadata": {
        "id": "LbzAifUDQcan"
      },
      "source": [
        "Try varying the learning rate and seeing what happens! Hopefully this should help you form an intuition of how the learning rate should be selected. The learning rate is also affected by your choice of optimiser."
      ]
    },
    {
      "cell_type": "markdown",
      "metadata": {
        "id": "BqXh47NagfVP"
      },
      "source": [
        "<img src=\"https://cs231n.github.io/assets/nn3/learningrates.jpeg\" />\n",
        "\n",
        "[Image Source](https://cs231n.github.io/neural-networks-3/)"
      ]
    },
    {
      "cell_type": "markdown",
      "metadata": {
        "id": "bUPynKLNZMTD"
      },
      "source": [
        "In the above example, our loss function had a single input. For functions with multiple inputs, we compute the **partial derivative** of the function with respect to each of the inputs (as we did yesterday for logistic regression). The **gradient** of $f$ is the **vector containing all of the partial derivatives**, denoted $\\nabla_\\mathbf{x} f(\\mathbf{x})$."
      ]
    },
    {
      "cell_type": "markdown",
      "metadata": {
        "id": "f49WFsd6cFQV"
      },
      "source": [
        "## Variations of Gradient Descent ##\n",
        "### Batch Gradient Descent ##\n",
        "\n",
        "What we have described so far (and used in our last lecture) is known as “vanilla” or batch gradient descent. That is, we calculate the gradient of the loss function with respect to the model parameters $\\theta$ for the entire training set. Every iteration that the model is exposed to the full training data is known as a **training epoch**.\n",
        "\n",
        "This is inconvenient, especially for very large datasets which may not fit entirely into memory. It also means that if a new data point is added, the optimisation needs to start from scratch."
      ]
    },
    {
      "cell_type": "markdown",
      "metadata": {
        "id": "FM-3pD1RfM-4"
      },
      "source": [
        "### Stochastic Gradient Descent (SGD)\n",
        "Stochastic Gradient Descent is the other extreme. We sample one training example $(x_i, y_i)$ from the entire training set at a time and **perform an update** for each one.\n",
        "\n",
        "Essentially, we are using the gradient for each training example as an approximation of the gradient across our entire data distribution. This can create large fluctuations but offers the advantages that one data example will (hopefully) always fit in memory, and it creates the possibility of *online* learning (we can continue optimising as more data points come in).\n",
        "\n",
        "![](https://upload.wikimedia.org/wikipedia/commons/f/f3/Stogra.png)\n",
        "\n",
        "Example of heavy loss fluctuations with SGD.\n",
        "\n",
        "[Image source](https://upload.wikimedia.org/wikipedia/commons/f/f3/Stogra.png)"
      ]
    },
    {
      "cell_type": "markdown",
      "metadata": {
        "id": "GjLz8xkofNB_"
      },
      "source": [
        "### Mini-Batch Gradient Descent ###\n",
        "\n",
        "Mini-batch gradient descent combines the previous two approaches. The training dataset is divided into some number of batches, usually determined by first setting a **batch size**. Batch size can vary depending on the application and how memory-intensive it is. It typically ranges from $8$ (for a large model with many parameters) to $1024$ and above.\n",
        "\n",
        "As a general rule of thumb, you want to select a batch size as large as possible (to provide the smoothest gradients). On a CPU you can for most cases fit your entire dataset into RAM, however, this leads to batch gradient descent and slow clock-time convergence unless your entire batch can be processed in parallel. On a GPU your entire batch can (effectively) be processed in parallel, thus it is safe to increase the batch size until your GPU runs out of memory – no, really, this is how every practitioner I know from DeepMind senior to MSc project student does it."
      ]
    },
    {
      "cell_type": "markdown",
      "metadata": {
        "id": "QM2_oggIZMe1"
      },
      "source": [
        "## Momentum and Advanced Optimisers\n",
        "The SGD optimiser (from now on used to refer to mini-batch gradient descent, as it is what is the de-facto standard) struggles in areas of the loss surface where it is relatively flat along one dimension, but quite steep along another. These locations are known as **ravines**.\n",
        "\n",
        "Since SGD travels in the direction of steepest curvature, it continues to oscillate between the steepest slopes of the ravine.\n",
        "\n",
        "**Momentum** accelerates learning and helps overcome this effect by encouraging travel in the same direction as the previous update. It is analagous to momentum in physics, with unit mass, and is therefore represented by a velocity vector $\\mathbf{v}$. There are also a clear analogy to rolling averages.\n",
        "\n",
        "Concretely, a new momentum term $\\alpha$ is added (usually with a value around $0.9$) which determines how much of the previous velocity vector to retain.\n",
        "\n",
        "The update is:\n",
        "$$ \\mathbf{v} \\leftarrow \\alpha \\mathbf{v} - \\epsilon \\nabla_\\theta L(\\mathbf{\\theta})$$\n",
        "$$ \\mathbf{\\theta} \\leftarrow \\mathbf{\\theta} + \\mathbf{v} $$"
      ]
    },
    {
      "cell_type": "code",
      "metadata": {
        "id": "-WXpe_kitx48",
        "outputId": "bed8a2c1-ac6b-42fc-f930-c42cfe50a006",
        "colab": {
          "base_uri": "https://localhost:8080/",
          "height": 35
        }
      },
      "source": [
        "learningrate        = 0.01\n",
        "momentumcoefficient = 0.9\n",
        "precision           = 0.00001\n",
        "\n",
        "curx = xinit\n",
        "curv = 0\n",
        "\n",
        "previousstepsize = 1.0\n",
        "curstep          = 0\n",
        "while previousstepsize > precision\n",
        "    newv              = momentumcoefficient*curv - learningrate*fprime(curx)\n",
        "    newx              = curx + newv\n",
        "    previousstepsize  = abs(newx - curx) # absolute difference between the previous and current x values\n",
        "    curx              = newx\n",
        "    curv              = newv\n",
        "    curstep          += 1\n",
        "end\n",
        "\n",
        "print(\"The local minimum occurs at $(curx). Converged after $(curstep) step(s).\");\n",
        "\n",
        "\n",
        "\n",
        "#batch gradient descent: take a subset of the entire data (of 5, of 10->hyperparameter)\n",
        "#calculate on the entire data (full batch) gives the true gradient with respect of the data \n",
        "#stochastic gradient descent: in practice when you use a single sample-not used in practice loss function, jagged up and down movements in the loss \n",
        "#gives bad loss-> few people use stoch grad descent in practice \n",
        "#in practice they use mini-batch gradient descent: \n",
        "#advantages of full badge: you take the real gradient \n",
        "#poor conververgence which?\n",
        "#randomise each and every single epoch \n",
        "#how to set the batch size: google in particular \n",
        "#models are so big that you cannot increase your batch sizes\n",
        "#a single sample on a single gpu: do gradient aggregation: sum gradients until you have a mini batch and then update\n",
        "#set a batch size: as large as possible (set by increase until you run out of memory on the gpu and get an error)\n",
        "#try to run the model and see if you run out of memory\n",
        "#hyperparametrs in practice: \n",
        "\n",
        "#momentum: \"planes\"\n",
        "#ravines: back and forth, momentum towards the end of the ravine when you have slope\n",
        "#momentum: it encourages you to preserve some of the previous gradient steps\n",
        "#second order estimate (think of it like)\n",
        "#get over the planes, ravine: stop back and forth and get out of it\n",
        "#optimisation methods (straightforward in terms of maths)\n",
        "#alpha (0.9) we preserving 0.9 of our previous updates\n",
        "#we create this velocity vector: v prime by taking momentum term multiplied by previous v and subtract \n",
        "#we cut the number of updates to a quarter \n",
        "#momentum is very common\n",
        "#more advanced methods\n",
        "#sgd,momentum,nag,adagrad etc: momentum based methods that try to recover gradient \n",
        "#situations without 'ravines'->momentum\n",
        "#adadelta goes much faster when it is on curvature\n",
        "#velocity vector: lies in the same dimensions as your parameters (theta)\n",
        "#we retain 0.9 of the previous gradient and we add sth\n",
        "#problem: velocity becomes larger and larger\n",
        "#you can overshoot the local minimum\n",
        "\n"
      ],
      "execution_count": null,
      "outputs": [
        {
          "output_type": "stream",
          "text": [
            "The local minimum occurs at -0.01552385691405029. Converged after 116 step(s)."
          ],
          "name": "stdout"
        }
      ]
    },
    {
      "cell_type": "markdown",
      "metadata": {
        "id": "H2-c5vrdur7t"
      },
      "source": [
        "We can see that even for this simple example, achieving convergence in $116$ steps instead of the $474$ it took without momentum is quite an improvement."
      ]
    },
    {
      "cell_type": "markdown",
      "metadata": {
        "id": "kS8MZO9JvL9v"
      },
      "source": [
        "Let's visualise a few steps of gradient descent with momentum action."
      ]
    },
    {
      "cell_type": "code",
      "metadata": {
        "id": "5EolxKPmvL9x",
        "outputId": "cb7091d2-cbab-4012-d5ba-b5d9c181c2d1",
        "colab": {
          "base_uri": "https://localhost:8080/",
          "height": 421
        }
      },
      "source": [
        "numsteps            = 20\n",
        "learningrate        = 0.95 # Change this and see what happens!\n",
        "momentumcoefficient = 0.9  # Change this and see what happens!\n",
        "\n",
        "curx = xinit\n",
        "curv = 0\n",
        "for i = 1:numsteps\n",
        "    newv = momentumcoefficient*curv - learningrate * fprime(curx)\n",
        "    newx = curx + newv\n",
        "    IJulia.clear_output(true)\n",
        "    plt = plot(f, -10:10)\n",
        "    scatter!(plt, [newx], [f(newx)], legend=:none)\n",
        "    title!(plt, \"Step: $i\") |> IJulia.display\n",
        "    curx = newx\n",
        "    curv = newv\n",
        "    sleep(0.5)\n",
        "end"
      ],
      "execution_count": null,
      "outputs": [
        {
          "output_type": "display_data",
          "data": {
            "image/svg+xml": "<?xml version=\"1.0\" encoding=\"utf-8\"?>\n<svg xmlns=\"http://www.w3.org/2000/svg\" xmlns:xlink=\"http://www.w3.org/1999/xlink\" width=\"600\" height=\"400\" viewBox=\"0 0 2400 1600\">\n<defs>\n  <clipPath id=\"clip7200\">\n    <rect x=\"0\" y=\"0\" width=\"2400\" height=\"1600\"/>\n  </clipPath>\n</defs>\n<path clip-path=\"url(#clip7200)\" d=\"\nM0 1600 L2400 1600 L2400 0 L0 0  Z\n  \" fill=\"#ffffff\" fill-rule=\"evenodd\" fill-opacity=\"1\"/>\n<defs>\n  <clipPath id=\"clip7201\">\n    <rect x=\"480\" y=\"0\" width=\"1681\" height=\"1600\"/>\n  </clipPath>\n</defs>\n<path clip-path=\"url(#clip7200)\" d=\"\nM167.279 1487.47 L2352.76 1487.47 L2352.76 121.675 L167.279 121.675  Z\n  \" fill=\"#ffffff\" fill-rule=\"evenodd\" fill-opacity=\"1\"/>\n<defs>\n  <clipPath id=\"clip7202\">\n    <rect x=\"167\" y=\"121\" width=\"2186\" height=\"1367\"/>\n  </clipPath>\n</defs>\n<polyline clip-path=\"url(#clip7202)\" style=\"stroke:#000000; stroke-width:2; stroke-opacity:0.1; fill:none\" points=\"\n  229.132,1487.47 229.132,121.675 \n  \"/>\n<polyline clip-path=\"url(#clip7202)\" style=\"stroke:#000000; stroke-width:2; stroke-opacity:0.1; fill:none\" points=\"\n  744.575,1487.47 744.575,121.675 \n  \"/>\n<polyline clip-path=\"url(#clip7202)\" style=\"stroke:#000000; stroke-width:2; stroke-opacity:0.1; fill:none\" points=\"\n  1260.02,1487.47 1260.02,121.675 \n  \"/>\n<polyline clip-path=\"url(#clip7202)\" style=\"stroke:#000000; stroke-width:2; stroke-opacity:0.1; fill:none\" points=\"\n  1775.46,1487.47 1775.46,121.675 \n  \"/>\n<polyline clip-path=\"url(#clip7202)\" style=\"stroke:#000000; stroke-width:2; stroke-opacity:0.1; fill:none\" points=\"\n  2290.9,1487.47 2290.9,121.675 \n  \"/>\n<polyline clip-path=\"url(#clip7202)\" style=\"stroke:#000000; stroke-width:2; stroke-opacity:0.1; fill:none\" points=\"\n  167.279,1448.82 2352.76,1448.82 \n  \"/>\n<polyline clip-path=\"url(#clip7202)\" style=\"stroke:#000000; stroke-width:2; stroke-opacity:0.1; fill:none\" points=\"\n  167.279,1126.7 2352.76,1126.7 \n  \"/>\n<polyline clip-path=\"url(#clip7202)\" style=\"stroke:#000000; stroke-width:2; stroke-opacity:0.1; fill:none\" points=\"\n  167.279,804.575 2352.76,804.575 \n  \"/>\n<polyline clip-path=\"url(#clip7202)\" style=\"stroke:#000000; stroke-width:2; stroke-opacity:0.1; fill:none\" points=\"\n  167.279,482.452 2352.76,482.452 \n  \"/>\n<polyline clip-path=\"url(#clip7202)\" style=\"stroke:#000000; stroke-width:2; stroke-opacity:0.1; fill:none\" points=\"\n  167.279,160.33 2352.76,160.33 \n  \"/>\n<polyline clip-path=\"url(#clip7200)\" style=\"stroke:#000000; stroke-width:4; stroke-opacity:1; fill:none\" points=\"\n  167.279,1487.47 2352.76,1487.47 \n  \"/>\n<polyline clip-path=\"url(#clip7200)\" style=\"stroke:#000000; stroke-width:4; stroke-opacity:1; fill:none\" points=\"\n  167.279,1487.47 167.279,121.675 \n  \"/>\n<polyline clip-path=\"url(#clip7200)\" style=\"stroke:#000000; stroke-width:4; stroke-opacity:1; fill:none\" points=\"\n  229.132,1487.47 229.132,1466.99 \n  \"/>\n<polyline clip-path=\"url(#clip7200)\" style=\"stroke:#000000; stroke-width:4; stroke-opacity:1; fill:none\" points=\"\n  744.575,1487.47 744.575,1466.99 \n  \"/>\n<polyline clip-path=\"url(#clip7200)\" style=\"stroke:#000000; stroke-width:4; stroke-opacity:1; fill:none\" points=\"\n  1260.02,1487.47 1260.02,1466.99 \n  \"/>\n<polyline clip-path=\"url(#clip7200)\" style=\"stroke:#000000; stroke-width:4; stroke-opacity:1; fill:none\" points=\"\n  1775.46,1487.47 1775.46,1466.99 \n  \"/>\n<polyline clip-path=\"url(#clip7200)\" style=\"stroke:#000000; stroke-width:4; stroke-opacity:1; fill:none\" points=\"\n  2290.9,1487.47 2290.9,1466.99 \n  \"/>\n<polyline clip-path=\"url(#clip7200)\" style=\"stroke:#000000; stroke-width:4; stroke-opacity:1; fill:none\" points=\"\n  167.279,1448.82 200.061,1448.82 \n  \"/>\n<polyline clip-path=\"url(#clip7200)\" style=\"stroke:#000000; stroke-width:4; stroke-opacity:1; fill:none\" points=\"\n  167.279,1126.7 200.061,1126.7 \n  \"/>\n<polyline clip-path=\"url(#clip7200)\" style=\"stroke:#000000; stroke-width:4; stroke-opacity:1; fill:none\" points=\"\n  167.279,804.575 200.061,804.575 \n  \"/>\n<polyline clip-path=\"url(#clip7200)\" style=\"stroke:#000000; stroke-width:4; stroke-opacity:1; fill:none\" points=\"\n  167.279,482.452 200.061,482.452 \n  \"/>\n<polyline clip-path=\"url(#clip7200)\" style=\"stroke:#000000; stroke-width:4; stroke-opacity:1; fill:none\" points=\"\n  167.279,160.33 200.061,160.33 \n  \"/>\n<g clip-path=\"url(#clip7200)\">\n<text style=\"fill:#000000; fill-opacity:1; font-family:Arial,Helvetica Neue,Helvetica,sans-serif; font-size:48px; text-anchor:middle;\" transform=\"rotate(0, 229.132, 1541.47)\" x=\"229.132\" y=\"1541.47\">-10</text>\n</g>\n<g clip-path=\"url(#clip7200)\">\n<text style=\"fill:#000000; fill-opacity:1; font-family:Arial,Helvetica Neue,Helvetica,sans-serif; font-size:48px; text-anchor:middle;\" transform=\"rotate(0, 744.575, 1541.47)\" x=\"744.575\" y=\"1541.47\">-5</text>\n</g>\n<g clip-path=\"url(#clip7200)\">\n<text style=\"fill:#000000; fill-opacity:1; font-family:Arial,Helvetica Neue,Helvetica,sans-serif; font-size:48px; text-anchor:middle;\" transform=\"rotate(0, 1260.02, 1541.47)\" x=\"1260.02\" y=\"1541.47\">0</text>\n</g>\n<g clip-path=\"url(#clip7200)\">\n<text style=\"fill:#000000; fill-opacity:1; font-family:Arial,Helvetica Neue,Helvetica,sans-serif; font-size:48px; text-anchor:middle;\" transform=\"rotate(0, 1775.46, 1541.47)\" x=\"1775.46\" y=\"1541.47\">5</text>\n</g>\n<g clip-path=\"url(#clip7200)\">\n<text style=\"fill:#000000; fill-opacity:1; font-family:Arial,Helvetica Neue,Helvetica,sans-serif; font-size:48px; text-anchor:middle;\" transform=\"rotate(0, 2290.9, 1541.47)\" x=\"2290.9\" y=\"1541.47\">10</text>\n</g>\n<g clip-path=\"url(#clip7200)\">\n<text style=\"fill:#000000; fill-opacity:1; font-family:Arial,Helvetica Neue,Helvetica,sans-serif; font-size:48px; text-anchor:end;\" transform=\"rotate(0, 143.279, 1466.32)\" x=\"143.279\" y=\"1466.32\">0</text>\n</g>\n<g clip-path=\"url(#clip7200)\">\n<text style=\"fill:#000000; fill-opacity:1; font-family:Arial,Helvetica Neue,Helvetica,sans-serif; font-size:48px; text-anchor:end;\" transform=\"rotate(0, 143.279, 1144.2)\" x=\"143.279\" y=\"1144.2\">25</text>\n</g>\n<g clip-path=\"url(#clip7200)\">\n<text style=\"fill:#000000; fill-opacity:1; font-family:Arial,Helvetica Neue,Helvetica,sans-serif; font-size:48px; text-anchor:end;\" transform=\"rotate(0, 143.279, 822.075)\" x=\"143.279\" y=\"822.075\">50</text>\n</g>\n<g clip-path=\"url(#clip7200)\">\n<text style=\"fill:#000000; fill-opacity:1; font-family:Arial,Helvetica Neue,Helvetica,sans-serif; font-size:48px; text-anchor:end;\" transform=\"rotate(0, 143.279, 499.952)\" x=\"143.279\" y=\"499.952\">75</text>\n</g>\n<g clip-path=\"url(#clip7200)\">\n<text style=\"fill:#000000; fill-opacity:1; font-family:Arial,Helvetica Neue,Helvetica,sans-serif; font-size:48px; text-anchor:end;\" transform=\"rotate(0, 143.279, 177.83)\" x=\"143.279\" y=\"177.83\">100</text>\n</g>\n<g clip-path=\"url(#clip7200)\">\n<text style=\"fill:#000000; fill-opacity:1; font-family:Arial,Helvetica Neue,Helvetica,sans-serif; font-size:84px; text-anchor:middle;\" transform=\"rotate(0, 1260.02, 73.2)\" x=\"1260.02\" y=\"73.2\">Step: 20</text>\n</g>\n<polyline clip-path=\"url(#clip7202)\" style=\"stroke:#009af9; stroke-width:4; stroke-opacity:1; fill:none\" points=\"\n  229.132,160.33 332.221,405.143 435.309,624.186 538.398,817.46 641.486,984.964 744.575,1126.7 847.663,1242.66 950.752,1332.86 1053.84,1397.28 1156.93,1435.94 \n  1260.02,1448.82 1363.11,1435.94 1466.19,1397.28 1569.28,1332.86 1672.37,1242.66 1775.46,1126.7 1878.55,984.964 1981.64,817.46 2084.73,624.186 2187.81,405.143 \n  2290.9,160.33 \n  \"/>\n<circle clip-path=\"url(#clip7202)\" style=\"fill:#000000; stroke:none; fill-opacity:1\" cx=\"1511.63\" cy=\"1372.06\" r=\"18\"/>\n<circle clip-path=\"url(#clip7202)\" style=\"fill:#e26f46; stroke:none; fill-opacity:1\" cx=\"1511.63\" cy=\"1372.06\" r=\"14\"/>\n</svg>\n"
          },
          "metadata": {
            "tags": []
          }
        }
      ]
    },
    {
      "cell_type": "markdown",
      "metadata": {
        "id": "JjunOAeFvzfB"
      },
      "source": [
        "What would be the effect of setting the momentum coefficient $\\alpha$ to $0$?"
      ]
    },
    {
      "cell_type": "markdown",
      "metadata": {
        "id": "nRu0FDdvZMoh"
      },
      "source": [
        "![](https://i.stack.imgur.com/1obtV.gif)\n",
        "\n",
        "![](https://ruder.io/content/images/2016/09/contours_evaluation_optimizers.gif)\n",
        "\n",
        "[Image Source](https://ruder.io/optimizing-gradient-descent/index.html#visualizationofalgorithms)"
      ]
    },
    {
      "cell_type": "markdown",
      "metadata": {
        "id": "i_gtwFJdmxPp"
      },
      "source": [
        "Further reading:\n",
        "\n",
        "* Nesterov’s Acelerated Gradient (NAG)\n",
        "* [AdaGrad](https://en.wikipedia.org/wiki/Stochastic_gradient_descent#AdaGrad)\n",
        "* [RMSProp](https://en.wikipedia.org/wiki/Stochastic_gradient_descent#RMSProp)\n",
        "* AdaDelta, essentially RMSProp…\n",
        "* [Adam](https://en.wikipedia.org/wiki/Stochastic_gradient_descent#Adam)\n",
        "\n",
        "In brief, NAG provides a parameter position estimate to the momentum term creating a “look-ahead” mechanism, while the latter four take different approaches to parameter-adaptive learning rates.\n",
        "\n",
        "So, as a student, what should you use? With very very few exceptions Mini-batch SGD with Adam has become the “standard”, but it is not uncommon to use “vanilla” SGD at the time of developing an algorithm – why?\n"
      ]
    },
    {
      "cell_type": "markdown",
      "metadata": {
        "id": "mox2--wLIuMQ"
      },
      "source": [
        "## Our Example Data (yet yet again)\n"
      ]
    },
    {
      "cell_type": "code",
      "metadata": {
        "id": "EJyyY86bIod0",
        "outputId": "8f15ff32-012b-4678-9a5d-259396a4a412",
        "colab": {
          "base_uri": "https://localhost:8080/",
          "height": 421
        }
      },
      "source": [
        "run(`curl -fsS https://homepages.inf.ed.ac.uk/imurray2/teaching/oranges_and_lemons/fruit_data -o /tmp/fruit_data.tsv`)\n",
        "run(`curl -fsS https://homepages.inf.ed.ac.uk/imurray2/teaching/oranges_and_lemons/fruit_types.txt -o /tmp/fruit_types.txt`)\n",
        "\n",
        "id2fruit = Dict{Int,Symbol}()\n",
        "open(\"/tmp/fruit_types.txt\") do f\n",
        "    for l in eachline(f)\n",
        "        idstr, description = split(l, limit=2)\n",
        "        id = parse(Int, idstr)\n",
        "        if occursin(r\"orange\"i, description) || occursin(r\"mandarin\"i, description)\n",
        "            id2fruit[id] = :orange\n",
        "        elseif occursin(r\"lemon\"i, description)\n",
        "            id2fruit[id] = :lemon\n",
        "        elseif occursin(r\"apple\"i, description)\n",
        "            id2fruit[id] = :apple\n",
        "        else\n",
        "            error(\"Unable to detect fruit in descreption: \\\"$(description)\\\"\")\n",
        "        end\n",
        "    end\n",
        "end\n",
        "\n",
        "labels  = Symbol[]\n",
        "datatmp = Vector{Vector{Float64}}()\n",
        "open(\"/tmp/fruit_data.tsv\") do f\n",
        "    for l in eachline(f)\n",
        "        soup   = split(l, limit=4)\n",
        "        fruit  = id2fruit[parse(Int, soup[1])]\n",
        "        mass   = parse(Int, soup[2])\n",
        "        height = parse(Float64, soup[3])\n",
        "        width  = parse(Float64, soup[4])\n",
        "        push!(labels, fruit)\n",
        "        push!(datatmp, [mass, height, width])\n",
        "    end\n",
        "end\n",
        "data = NamedArray(reduce(hcat, datatmp))\n",
        "setdimnames!(data, \"Attribute\", 1)\n",
        "setnames!(data, [\"Mass\", \"Height\", \"Width\"], 1)\n",
        "setdimnames!(data, \"Sample\", 2)\n",
        "\n",
        "run(`rm -f /tmp/fruit_data.tsv /tmp/fruit_types.txt`)\n",
        "nothing\n",
        "\n",
        "orangeidx = findall(x -> x == :orange, labels)\n",
        "lemonidx  = findall(x -> x == :lemon, labels)\n",
        "\n",
        "shuffle!(orangeidx)\n",
        "orangetrainidx = orangeidx[1:Int(round(length(orangeidx)*(3/6)))]\n",
        "orangevalidx = orangeidx[length(orangetrainidx):length(orangetrainidx) + Int(round(length(orangeidx)*(1/6)))]\n",
        "orangetestidx = orangeidx[length(orangetrainidx) + length(orangevalidx) + 1:end]\n",
        "@assert length(orangetrainidx) + length(orangevalidx) + length(orangetestidx) == length(orangeidx)\n",
        "\n",
        "shuffle!(lemonidx)\n",
        "lemontrainidx = lemonidx[1:Int(round(length(lemonidx)*(3/6)))]\n",
        "lemonvalidx = lemonidx[length(lemontrainidx):length(lemontrainidx) + Int(round(length(lemonidx)*(1/6)))]\n",
        "lemontestidx = lemonidx[length(lemontrainidx) + length(lemonvalidx) + 1:end]\n",
        "@assert length(lemontrainidx) + length(lemonvalidx) + length(lemontestidx) == length(lemonidx)\n",
        "\n",
        "scatter(\n",
        "    [data[\"Height\", orangetrainidx], data[\"Height\", orangevalidx],\n",
        "        data[\"Height\", orangetestidx], data[\"Height\", lemontrainidx],\n",
        "        data[\"Height\", lemonvalidx], data[\"Height\", lemontestidx]],\n",
        "    [data[\"Width\", orangetrainidx], data[\"Width\", orangevalidx],\n",
        "        data[\"Width\", orangetestidx], data[\"Width\", lemontrainidx],\n",
        "        data[\"Width\", lemonvalidx], data[\"Width\", lemontestidx]],\n",
        "    labels=[\"Orange (Train)\", \"Orange (Validation)\", \"Orange (Test)\",\n",
        "            \"Lemon (Train)\", \"Lemon (Validation)\", \"Lemon (Test)\"],\n",
        "        xlabel=\"width (cm)\", ylabel=\"height (cm)\", legend=:bottomright)"
      ],
      "execution_count": null,
      "outputs": [
        {
          "output_type": "execute_result",
          "data": {
            "image/svg+xml": "<?xml version=\"1.0\" encoding=\"utf-8\"?>\n<svg xmlns=\"http://www.w3.org/2000/svg\" xmlns:xlink=\"http://www.w3.org/1999/xlink\" width=\"600\" height=\"400\" viewBox=\"0 0 2400 1600\">\n<defs>\n  <clipPath id=\"clip0800\">\n    <rect x=\"0\" y=\"0\" width=\"2400\" height=\"1600\"/>\n  </clipPath>\n</defs>\n<path clip-path=\"url(#clip0800)\" d=\"\nM0 1600 L2400 1600 L2400 0 L0 0  Z\n  \" fill=\"#ffffff\" fill-rule=\"evenodd\" fill-opacity=\"1\"/>\n<defs>\n  <clipPath id=\"clip0801\">\n    <rect x=\"480\" y=\"0\" width=\"1681\" height=\"1600\"/>\n  </clipPath>\n</defs>\n<path clip-path=\"url(#clip0800)\" d=\"\nM202.373 1425.62 L2352.76 1425.62 L2352.76 47.2441 L202.373 47.2441  Z\n  \" fill=\"#ffffff\" fill-rule=\"evenodd\" fill-opacity=\"1\"/>\n<defs>\n  <clipPath id=\"clip0802\">\n    <rect x=\"202\" y=\"47\" width=\"2151\" height=\"1379\"/>\n  </clipPath>\n</defs>\n<polyline clip-path=\"url(#clip0802)\" style=\"stroke:#000000; stroke-width:2; stroke-opacity:0.1; fill:none\" points=\"\n  370.005,1425.62 370.005,47.2441 \n  \"/>\n<polyline clip-path=\"url(#clip0802)\" style=\"stroke:#000000; stroke-width:2; stroke-opacity:0.1; fill:none\" points=\"\n  903.863,1425.62 903.863,47.2441 \n  \"/>\n<polyline clip-path=\"url(#clip0802)\" style=\"stroke:#000000; stroke-width:2; stroke-opacity:0.1; fill:none\" points=\"\n  1437.72,1425.62 1437.72,47.2441 \n  \"/>\n<polyline clip-path=\"url(#clip0802)\" style=\"stroke:#000000; stroke-width:2; stroke-opacity:0.1; fill:none\" points=\"\n  1971.58,1425.62 1971.58,47.2441 \n  \"/>\n<polyline clip-path=\"url(#clip0802)\" style=\"stroke:#000000; stroke-width:2; stroke-opacity:0.1; fill:none\" points=\"\n  202.373,1386.61 2352.76,1386.61 \n  \"/>\n<polyline clip-path=\"url(#clip0802)\" style=\"stroke:#000000; stroke-width:2; stroke-opacity:0.1; fill:none\" points=\"\n  202.373,1186.55 2352.76,1186.55 \n  \"/>\n<polyline clip-path=\"url(#clip0802)\" style=\"stroke:#000000; stroke-width:2; stroke-opacity:0.1; fill:none\" points=\"\n  202.373,986.499 2352.76,986.499 \n  \"/>\n<polyline clip-path=\"url(#clip0802)\" style=\"stroke:#000000; stroke-width:2; stroke-opacity:0.1; fill:none\" points=\"\n  202.373,786.445 2352.76,786.445 \n  \"/>\n<polyline clip-path=\"url(#clip0802)\" style=\"stroke:#000000; stroke-width:2; stroke-opacity:0.1; fill:none\" points=\"\n  202.373,586.391 2352.76,586.391 \n  \"/>\n<polyline clip-path=\"url(#clip0802)\" style=\"stroke:#000000; stroke-width:2; stroke-opacity:0.1; fill:none\" points=\"\n  202.373,386.336 2352.76,386.336 \n  \"/>\n<polyline clip-path=\"url(#clip0802)\" style=\"stroke:#000000; stroke-width:2; stroke-opacity:0.1; fill:none\" points=\"\n  202.373,186.282 2352.76,186.282 \n  \"/>\n<polyline clip-path=\"url(#clip0800)\" style=\"stroke:#000000; stroke-width:4; stroke-opacity:1; fill:none\" points=\"\n  202.373,1425.62 2352.76,1425.62 \n  \"/>\n<polyline clip-path=\"url(#clip0800)\" style=\"stroke:#000000; stroke-width:4; stroke-opacity:1; fill:none\" points=\"\n  202.373,1425.62 202.373,47.2441 \n  \"/>\n<polyline clip-path=\"url(#clip0800)\" style=\"stroke:#000000; stroke-width:4; stroke-opacity:1; fill:none\" points=\"\n  370.005,1425.62 370.005,1404.94 \n  \"/>\n<polyline clip-path=\"url(#clip0800)\" style=\"stroke:#000000; stroke-width:4; stroke-opacity:1; fill:none\" points=\"\n  903.863,1425.62 903.863,1404.94 \n  \"/>\n<polyline clip-path=\"url(#clip0800)\" style=\"stroke:#000000; stroke-width:4; stroke-opacity:1; fill:none\" points=\"\n  1437.72,1425.62 1437.72,1404.94 \n  \"/>\n<polyline clip-path=\"url(#clip0800)\" style=\"stroke:#000000; stroke-width:4; stroke-opacity:1; fill:none\" points=\"\n  1971.58,1425.62 1971.58,1404.94 \n  \"/>\n<polyline clip-path=\"url(#clip0800)\" style=\"stroke:#000000; stroke-width:4; stroke-opacity:1; fill:none\" points=\"\n  202.373,1386.61 234.629,1386.61 \n  \"/>\n<polyline clip-path=\"url(#clip0800)\" style=\"stroke:#000000; stroke-width:4; stroke-opacity:1; fill:none\" points=\"\n  202.373,1186.55 234.629,1186.55 \n  \"/>\n<polyline clip-path=\"url(#clip0800)\" style=\"stroke:#000000; stroke-width:4; stroke-opacity:1; fill:none\" points=\"\n  202.373,986.499 234.629,986.499 \n  \"/>\n<polyline clip-path=\"url(#clip0800)\" style=\"stroke:#000000; stroke-width:4; stroke-opacity:1; fill:none\" points=\"\n  202.373,786.445 234.629,786.445 \n  \"/>\n<polyline clip-path=\"url(#clip0800)\" style=\"stroke:#000000; stroke-width:4; stroke-opacity:1; fill:none\" points=\"\n  202.373,586.391 234.629,586.391 \n  \"/>\n<polyline clip-path=\"url(#clip0800)\" style=\"stroke:#000000; stroke-width:4; stroke-opacity:1; fill:none\" points=\"\n  202.373,386.336 234.629,386.336 \n  \"/>\n<polyline clip-path=\"url(#clip0800)\" style=\"stroke:#000000; stroke-width:4; stroke-opacity:1; fill:none\" points=\"\n  202.373,186.282 234.629,186.282 \n  \"/>\n<g clip-path=\"url(#clip0800)\">\n<text style=\"fill:#000000; fill-opacity:1; font-family:Arial,Helvetica Neue,Helvetica,sans-serif; font-size:48px; text-anchor:middle;\" transform=\"rotate(0, 370.005, 1479.62)\" x=\"370.005\" y=\"1479.62\">6</text>\n</g>\n<g clip-path=\"url(#clip0800)\">\n<text style=\"fill:#000000; fill-opacity:1; font-family:Arial,Helvetica Neue,Helvetica,sans-serif; font-size:48px; text-anchor:middle;\" transform=\"rotate(0, 903.863, 1479.62)\" x=\"903.863\" y=\"1479.62\">7</text>\n</g>\n<g clip-path=\"url(#clip0800)\">\n<text style=\"fill:#000000; fill-opacity:1; font-family:Arial,Helvetica Neue,Helvetica,sans-serif; font-size:48px; text-anchor:middle;\" transform=\"rotate(0, 1437.72, 1479.62)\" x=\"1437.72\" y=\"1479.62\">8</text>\n</g>\n<g clip-path=\"url(#clip0800)\">\n<text style=\"fill:#000000; fill-opacity:1; font-family:Arial,Helvetica Neue,Helvetica,sans-serif; font-size:48px; text-anchor:middle;\" transform=\"rotate(0, 1971.58, 1479.62)\" x=\"1971.58\" y=\"1479.62\">9</text>\n</g>\n<g clip-path=\"url(#clip0800)\">\n<text style=\"fill:#000000; fill-opacity:1; font-family:Arial,Helvetica Neue,Helvetica,sans-serif; font-size:48px; text-anchor:end;\" transform=\"rotate(0, 178.373, 1404.11)\" x=\"178.373\" y=\"1404.11\">4</text>\n</g>\n<g clip-path=\"url(#clip0800)\">\n<text style=\"fill:#000000; fill-opacity:1; font-family:Arial,Helvetica Neue,Helvetica,sans-serif; font-size:48px; text-anchor:end;\" transform=\"rotate(0, 178.373, 1204.05)\" x=\"178.373\" y=\"1204.05\">5</text>\n</g>\n<g clip-path=\"url(#clip0800)\">\n<text style=\"fill:#000000; fill-opacity:1; font-family:Arial,Helvetica Neue,Helvetica,sans-serif; font-size:48px; text-anchor:end;\" transform=\"rotate(0, 178.373, 1004)\" x=\"178.373\" y=\"1004\">6</text>\n</g>\n<g clip-path=\"url(#clip0800)\">\n<text style=\"fill:#000000; fill-opacity:1; font-family:Arial,Helvetica Neue,Helvetica,sans-serif; font-size:48px; text-anchor:end;\" transform=\"rotate(0, 178.373, 803.945)\" x=\"178.373\" y=\"803.945\">7</text>\n</g>\n<g clip-path=\"url(#clip0800)\">\n<text style=\"fill:#000000; fill-opacity:1; font-family:Arial,Helvetica Neue,Helvetica,sans-serif; font-size:48px; text-anchor:end;\" transform=\"rotate(0, 178.373, 603.891)\" x=\"178.373\" y=\"603.891\">8</text>\n</g>\n<g clip-path=\"url(#clip0800)\">\n<text style=\"fill:#000000; fill-opacity:1; font-family:Arial,Helvetica Neue,Helvetica,sans-serif; font-size:48px; text-anchor:end;\" transform=\"rotate(0, 178.373, 403.836)\" x=\"178.373\" y=\"403.836\">9</text>\n</g>\n<g clip-path=\"url(#clip0800)\">\n<text style=\"fill:#000000; fill-opacity:1; font-family:Arial,Helvetica Neue,Helvetica,sans-serif; font-size:48px; text-anchor:end;\" transform=\"rotate(0, 178.373, 203.782)\" x=\"178.373\" y=\"203.782\">10</text>\n</g>\n<g clip-path=\"url(#clip0800)\">\n<text style=\"fill:#000000; fill-opacity:1; font-family:Arial,Helvetica Neue,Helvetica,sans-serif; font-size:66px; text-anchor:middle;\" transform=\"rotate(0, 1277.56, 1559.48)\" x=\"1277.56\" y=\"1559.48\">width (cm)</text>\n</g>\n<g clip-path=\"url(#clip0800)\">\n<text style=\"fill:#000000; fill-opacity:1; font-family:Arial,Helvetica Neue,Helvetica,sans-serif; font-size:66px; text-anchor:middle;\" transform=\"rotate(-90, 89.2861, 736.431)\" x=\"89.2861\" y=\"736.431\">height (cm)</text>\n</g>\n<circle clip-path=\"url(#clip0802)\" style=\"fill:#000000; stroke:none; fill-opacity:1\" cx=\"1224.18\" cy=\"626.401\" r=\"18\"/>\n<circle clip-path=\"url(#clip0802)\" style=\"fill:#009af9; stroke:none; fill-opacity:1\" cx=\"1224.18\" cy=\"626.401\" r=\"14\"/>\n<circle clip-path=\"url(#clip0802)\" style=\"fill:#000000; stroke:none; fill-opacity:1\" cx=\"1010.64\" cy=\"626.401\" r=\"18\"/>\n<circle clip-path=\"url(#clip0802)\" style=\"fill:#009af9; stroke:none; fill-opacity:1\" cx=\"1010.64\" cy=\"626.401\" r=\"14\"/>\n<circle clip-path=\"url(#clip0802)\" style=\"fill:#000000; stroke:none; fill-opacity:1\" cx=\"1170.79\" cy=\"346.325\" r=\"18\"/>\n<circle clip-path=\"url(#clip0802)\" style=\"fill:#009af9; stroke:none; fill-opacity:1\" cx=\"1170.79\" cy=\"346.325\" r=\"14\"/>\n<circle clip-path=\"url(#clip0802)\" style=\"fill:#000000; stroke:none; fill-opacity:1\" cx=\"316.619\" cy=\"1326.59\" r=\"18\"/>\n<circle clip-path=\"url(#clip0802)\" style=\"fill:#009af9; stroke:none; fill-opacity:1\" cx=\"316.619\" cy=\"1326.59\" r=\"14\"/>\n<circle clip-path=\"url(#clip0802)\" style=\"fill:#000000; stroke:none; fill-opacity:1\" cx=\"797.092\" cy=\"706.423\" r=\"18\"/>\n<circle clip-path=\"url(#clip0802)\" style=\"fill:#009af9; stroke:none; fill-opacity:1\" cx=\"797.092\" cy=\"706.423\" r=\"14\"/>\n<circle clip-path=\"url(#clip0802)\" style=\"fill:#000000; stroke:none; fill-opacity:1\" cx=\"1971.58\" cy=\"306.314\" r=\"18\"/>\n<circle clip-path=\"url(#clip0802)\" style=\"fill:#009af9; stroke:none; fill-opacity:1\" cx=\"1971.58\" cy=\"306.314\" r=\"14\"/>\n<circle clip-path=\"url(#clip0802)\" style=\"fill:#000000; stroke:none; fill-opacity:1\" cx=\"1330.95\" cy=\"586.391\" r=\"18\"/>\n<circle clip-path=\"url(#clip0802)\" style=\"fill:#009af9; stroke:none; fill-opacity:1\" cx=\"1330.95\" cy=\"586.391\" r=\"14\"/>\n<circle clip-path=\"url(#clip0802)\" style=\"fill:#000000; stroke:none; fill-opacity:1\" cx=\"370.005\" cy=\"1266.58\" r=\"18\"/>\n<circle clip-path=\"url(#clip0802)\" style=\"fill:#009af9; stroke:none; fill-opacity:1\" cx=\"370.005\" cy=\"1266.58\" r=\"14\"/>\n<circle clip-path=\"url(#clip0802)\" style=\"fill:#000000; stroke:none; fill-opacity:1\" cx=\"957.249\" cy=\"686.418\" r=\"18\"/>\n<circle clip-path=\"url(#clip0802)\" style=\"fill:#009af9; stroke:none; fill-opacity:1\" cx=\"957.249\" cy=\"686.418\" r=\"14\"/>\n<circle clip-path=\"url(#clip0802)\" style=\"fill:#000000; stroke:none; fill-opacity:1\" cx=\"957.249\" cy=\"606.396\" r=\"18\"/>\n<circle clip-path=\"url(#clip0802)\" style=\"fill:#009af9; stroke:none; fill-opacity:1\" cx=\"957.249\" cy=\"606.396\" r=\"14\"/>\n<circle clip-path=\"url(#clip0802)\" style=\"fill:#000000; stroke:none; fill-opacity:1\" cx=\"1010.64\" cy=\"786.445\" r=\"18\"/>\n<circle clip-path=\"url(#clip0802)\" style=\"fill:#009af9; stroke:none; fill-opacity:1\" cx=\"1010.64\" cy=\"786.445\" r=\"14\"/>\n<circle clip-path=\"url(#clip0802)\" style=\"fill:#000000; stroke:none; fill-opacity:1\" cx=\"1010.64\" cy=\"746.434\" r=\"18\"/>\n<circle clip-path=\"url(#clip0802)\" style=\"fill:#009af9; stroke:none; fill-opacity:1\" cx=\"1010.64\" cy=\"746.434\" r=\"14\"/>\n<circle clip-path=\"url(#clip0802)\" style=\"fill:#000000; stroke:none; fill-opacity:1\" cx=\"1010.64\" cy=\"746.434\" r=\"18\"/>\n<circle clip-path=\"url(#clip0802)\" style=\"fill:#e26f46; stroke:none; fill-opacity:1\" cx=\"1010.64\" cy=\"746.434\" r=\"14\"/>\n<circle clip-path=\"url(#clip0802)\" style=\"fill:#000000; stroke:none; fill-opacity:1\" cx=\"263.233\" cy=\"1386.61\" r=\"18\"/>\n<circle clip-path=\"url(#clip0802)\" style=\"fill:#e26f46; stroke:none; fill-opacity:1\" cx=\"263.233\" cy=\"1386.61\" r=\"14\"/>\n<circle clip-path=\"url(#clip0802)\" style=\"fill:#000000; stroke:none; fill-opacity:1\" cx=\"743.706\" cy=\"766.44\" r=\"18\"/>\n<circle clip-path=\"url(#clip0802)\" style=\"fill:#e26f46; stroke:none; fill-opacity:1\" cx=\"743.706\" cy=\"766.44\" r=\"14\"/>\n<circle clip-path=\"url(#clip0802)\" style=\"fill:#000000; stroke:none; fill-opacity:1\" cx=\"903.863\" cy=\"706.423\" r=\"18\"/>\n<circle clip-path=\"url(#clip0802)\" style=\"fill:#e26f46; stroke:none; fill-opacity:1\" cx=\"903.863\" cy=\"706.423\" r=\"14\"/>\n<circle clip-path=\"url(#clip0802)\" style=\"fill:#000000; stroke:none; fill-opacity:1\" cx=\"1224.18\" cy=\"546.38\" r=\"18\"/>\n<circle clip-path=\"url(#clip0802)\" style=\"fill:#e26f46; stroke:none; fill-opacity:1\" cx=\"1224.18\" cy=\"546.38\" r=\"14\"/>\n<circle clip-path=\"url(#clip0802)\" style=\"fill:#000000; stroke:none; fill-opacity:1\" cx=\"2291.9\" cy=\"346.325\" r=\"18\"/>\n<circle clip-path=\"url(#clip0802)\" style=\"fill:#3da44d; stroke:none; fill-opacity:1\" cx=\"2291.9\" cy=\"346.325\" r=\"14\"/>\n<circle clip-path=\"url(#clip0802)\" style=\"fill:#000000; stroke:none; fill-opacity:1\" cx=\"957.249\" cy=\"686.418\" r=\"18\"/>\n<circle clip-path=\"url(#clip0802)\" style=\"fill:#3da44d; stroke:none; fill-opacity:1\" cx=\"957.249\" cy=\"686.418\" r=\"14\"/>\n<circle clip-path=\"url(#clip0802)\" style=\"fill:#000000; stroke:none; fill-opacity:1\" cx=\"263.233\" cy=\"1326.59\" r=\"18\"/>\n<circle clip-path=\"url(#clip0802)\" style=\"fill:#3da44d; stroke:none; fill-opacity:1\" cx=\"263.233\" cy=\"1326.59\" r=\"14\"/>\n<circle clip-path=\"url(#clip0802)\" style=\"fill:#000000; stroke:none; fill-opacity:1\" cx=\"476.776\" cy=\"1246.57\" r=\"18\"/>\n<circle clip-path=\"url(#clip0802)\" style=\"fill:#3da44d; stroke:none; fill-opacity:1\" cx=\"476.776\" cy=\"1246.57\" r=\"14\"/>\n<circle clip-path=\"url(#clip0802)\" style=\"fill:#000000; stroke:none; fill-opacity:1\" cx=\"1064.02\" cy=\"726.429\" r=\"18\"/>\n<circle clip-path=\"url(#clip0802)\" style=\"fill:#3da44d; stroke:none; fill-opacity:1\" cx=\"1064.02\" cy=\"726.429\" r=\"14\"/>\n<circle clip-path=\"url(#clip0802)\" style=\"fill:#000000; stroke:none; fill-opacity:1\" cx=\"1170.79\" cy=\"566.385\" r=\"18\"/>\n<circle clip-path=\"url(#clip0802)\" style=\"fill:#3da44d; stroke:none; fill-opacity:1\" cx=\"1170.79\" cy=\"566.385\" r=\"14\"/>\n<circle clip-path=\"url(#clip0802)\" style=\"fill:#000000; stroke:none; fill-opacity:1\" cx=\"957.249\" cy=\"666.412\" r=\"18\"/>\n<circle clip-path=\"url(#clip0802)\" style=\"fill:#3da44d; stroke:none; fill-opacity:1\" cx=\"957.249\" cy=\"666.412\" r=\"14\"/>\n<circle clip-path=\"url(#clip0802)\" style=\"fill:#000000; stroke:none; fill-opacity:1\" cx=\"636.934\" cy=\"486.363\" r=\"18\"/>\n<circle clip-path=\"url(#clip0802)\" style=\"fill:#c271d2; stroke:none; fill-opacity:1\" cx=\"636.934\" cy=\"486.363\" r=\"14\"/>\n<circle clip-path=\"url(#clip0802)\" style=\"fill:#000000; stroke:none; fill-opacity:1\" cx=\"1064.02\" cy=\"246.298\" r=\"18\"/>\n<circle clip-path=\"url(#clip0802)\" style=\"fill:#c271d2; stroke:none; fill-opacity:1\" cx=\"1064.02\" cy=\"246.298\" r=\"14\"/>\n<circle clip-path=\"url(#clip0802)\" style=\"fill:#000000; stroke:none; fill-opacity:1\" cx=\"423.39\" cy=\"566.385\" r=\"18\"/>\n<circle clip-path=\"url(#clip0802)\" style=\"fill:#c271d2; stroke:none; fill-opacity:1\" cx=\"423.39\" cy=\"566.385\" r=\"14\"/>\n<circle clip-path=\"url(#clip0802)\" style=\"fill:#000000; stroke:none; fill-opacity:1\" cx=\"530.162\" cy=\"646.407\" r=\"18\"/>\n<circle clip-path=\"url(#clip0802)\" style=\"fill:#c271d2; stroke:none; fill-opacity:1\" cx=\"530.162\" cy=\"646.407\" r=\"14\"/>\n<circle clip-path=\"url(#clip0802)\" style=\"fill:#000000; stroke:none; fill-opacity:1\" cx=\"316.619\" cy=\"566.385\" r=\"18\"/>\n<circle clip-path=\"url(#clip0802)\" style=\"fill:#c271d2; stroke:none; fill-opacity:1\" cx=\"316.619\" cy=\"566.385\" r=\"14\"/>\n<circle clip-path=\"url(#clip0802)\" style=\"fill:#000000; stroke:none; fill-opacity:1\" cx=\"370.005\" cy=\"546.38\" r=\"18\"/>\n<circle clip-path=\"url(#clip0802)\" style=\"fill:#c271d2; stroke:none; fill-opacity:1\" cx=\"370.005\" cy=\"546.38\" r=\"14\"/>\n<circle clip-path=\"url(#clip0802)\" style=\"fill:#000000; stroke:none; fill-opacity:1\" cx=\"423.39\" cy=\"486.363\" r=\"18\"/>\n<circle clip-path=\"url(#clip0802)\" style=\"fill:#c271d2; stroke:none; fill-opacity:1\" cx=\"423.39\" cy=\"486.363\" r=\"14\"/>\n<circle clip-path=\"url(#clip0802)\" style=\"fill:#000000; stroke:none; fill-opacity:1\" cx=\"370.005\" cy=\"686.418\" r=\"18\"/>\n<circle clip-path=\"url(#clip0802)\" style=\"fill:#c271d2; stroke:none; fill-opacity:1\" cx=\"370.005\" cy=\"686.418\" r=\"14\"/>\n<circle clip-path=\"url(#clip0802)\" style=\"fill:#000000; stroke:none; fill-opacity:1\" cx=\"370.005\" cy=\"686.418\" r=\"18\"/>\n<circle clip-path=\"url(#clip0802)\" style=\"fill:#ac8d18; stroke:none; fill-opacity:1\" cx=\"370.005\" cy=\"686.418\" r=\"14\"/>\n<circle clip-path=\"url(#clip0802)\" style=\"fill:#000000; stroke:none; fill-opacity:1\" cx=\"1010.64\" cy=\"346.325\" r=\"18\"/>\n<circle clip-path=\"url(#clip0802)\" style=\"fill:#ac8d18; stroke:none; fill-opacity:1\" cx=\"1010.64\" cy=\"346.325\" r=\"14\"/>\n<circle clip-path=\"url(#clip0802)\" style=\"fill:#000000; stroke:none; fill-opacity:1\" cx=\"1064.02\" cy=\"86.2547\" r=\"18\"/>\n<circle clip-path=\"url(#clip0802)\" style=\"fill:#ac8d18; stroke:none; fill-opacity:1\" cx=\"1064.02\" cy=\"86.2547\" r=\"14\"/>\n<circle clip-path=\"url(#clip0802)\" style=\"fill:#000000; stroke:none; fill-opacity:1\" cx=\"370.005\" cy=\"506.369\" r=\"18\"/>\n<circle clip-path=\"url(#clip0802)\" style=\"fill:#ac8d18; stroke:none; fill-opacity:1\" cx=\"370.005\" cy=\"506.369\" r=\"14\"/>\n<circle clip-path=\"url(#clip0802)\" style=\"fill:#000000; stroke:none; fill-opacity:1\" cx=\"263.233\" cy=\"446.353\" r=\"18\"/>\n<circle clip-path=\"url(#clip0802)\" style=\"fill:#00a9ad; stroke:none; fill-opacity:1\" cx=\"263.233\" cy=\"446.353\" r=\"14\"/>\n<circle clip-path=\"url(#clip0802)\" style=\"fill:#000000; stroke:none; fill-opacity:1\" cx=\"1010.64\" cy=\"126.266\" r=\"18\"/>\n<circle clip-path=\"url(#clip0802)\" style=\"fill:#00a9ad; stroke:none; fill-opacity:1\" cx=\"1010.64\" cy=\"126.266\" r=\"14\"/>\n<circle clip-path=\"url(#clip0802)\" style=\"fill:#000000; stroke:none; fill-opacity:1\" cx=\"1064.02\" cy=\"146.271\" r=\"18\"/>\n<circle clip-path=\"url(#clip0802)\" style=\"fill:#00a9ad; stroke:none; fill-opacity:1\" cx=\"1064.02\" cy=\"146.271\" r=\"14\"/>\n<circle clip-path=\"url(#clip0802)\" style=\"fill:#000000; stroke:none; fill-opacity:1\" cx=\"316.619\" cy=\"586.391\" r=\"18\"/>\n<circle clip-path=\"url(#clip0802)\" style=\"fill:#00a9ad; stroke:none; fill-opacity:1\" cx=\"316.619\" cy=\"586.391\" r=\"14\"/>\n<path clip-path=\"url(#clip0800)\" d=\"\nM-349.756 1281.62 L2280.76 1281.62 L2280.76 858.259 L-349.756 858.259  Z\n  \" fill=\"#ffffff\" fill-rule=\"evenodd\" fill-opacity=\"1\"/>\n<polyline clip-path=\"url(#clip0800)\" style=\"stroke:#000000; stroke-width:4; stroke-opacity:1; fill:none\" points=\"\n  -349.756,1281.62 2280.76,1281.62 2280.76,858.259 -349.756,858.259 -349.756,1281.62 \n  \"/>\n<g clip-path=\"url(#clip0800)\">\n<text style=\"fill:#000000; fill-opacity:1; font-family:Arial,Helvetica Neue,Helvetica,sans-serif; font-size:48px; text-anchor:start;\" transform=\"rotate(0, -157.756, 936.239)\" x=\"-157.756\" y=\"936.239\">[&quot;Orange (Train)&quot;, &quot;Orange (Validation)&quot;, &quot;Orange (Test)&quot;, &quot;Lemon (Train)&quot;, &quot;Lemon (Validation)&quot;, &quot;Lemon (Test)&quot;]</text>\n</g>\n<g clip-path=\"url(#clip0800)\">\n<text style=\"fill:#000000; fill-opacity:1; font-family:Arial,Helvetica Neue,Helvetica,sans-serif; font-size:48px; text-anchor:start;\" transform=\"rotate(0, -157.756, 996.719)\" x=\"-157.756\" y=\"996.719\">[&quot;Orange (Train)&quot;, &quot;Orange (Validation)&quot;, &quot;Orange (Test)&quot;, &quot;Lemon (Train)&quot;, &quot;Lemon (Validation)&quot;, &quot;Lemon (Test)&quot;]</text>\n</g>\n<g clip-path=\"url(#clip0800)\">\n<text style=\"fill:#000000; fill-opacity:1; font-family:Arial,Helvetica Neue,Helvetica,sans-serif; font-size:48px; text-anchor:start;\" transform=\"rotate(0, -157.756, 1057.2)\" x=\"-157.756\" y=\"1057.2\">[&quot;Orange (Train)&quot;, &quot;Orange (Validation)&quot;, &quot;Orange (Test)&quot;, &quot;Lemon (Train)&quot;, &quot;Lemon (Validation)&quot;, &quot;Lemon (Test)&quot;]</text>\n</g>\n<g clip-path=\"url(#clip0800)\">\n<text style=\"fill:#000000; fill-opacity:1; font-family:Arial,Helvetica Neue,Helvetica,sans-serif; font-size:48px; text-anchor:start;\" transform=\"rotate(0, -157.756, 1117.68)\" x=\"-157.756\" y=\"1117.68\">[&quot;Orange (Train)&quot;, &quot;Orange (Validation)&quot;, &quot;Orange (Test)&quot;, &quot;Lemon (Train)&quot;, &quot;Lemon (Validation)&quot;, &quot;Lemon (Test)&quot;]</text>\n</g>\n<g clip-path=\"url(#clip0800)\">\n<text style=\"fill:#000000; fill-opacity:1; font-family:Arial,Helvetica Neue,Helvetica,sans-serif; font-size:48px; text-anchor:start;\" transform=\"rotate(0, -157.756, 1178.16)\" x=\"-157.756\" y=\"1178.16\">[&quot;Orange (Train)&quot;, &quot;Orange (Validation)&quot;, &quot;Orange (Test)&quot;, &quot;Lemon (Train)&quot;, &quot;Lemon (Validation)&quot;, &quot;Lemon (Test)&quot;]</text>\n</g>\n<g clip-path=\"url(#clip0800)\">\n<text style=\"fill:#000000; fill-opacity:1; font-family:Arial,Helvetica Neue,Helvetica,sans-serif; font-size:48px; text-anchor:start;\" transform=\"rotate(0, -157.756, 1238.64)\" x=\"-157.756\" y=\"1238.64\">[&quot;Orange (Train)&quot;, &quot;Orange (Validation)&quot;, &quot;Orange (Test)&quot;, &quot;Lemon (Train)&quot;, &quot;Lemon (Validation)&quot;, &quot;Lemon (Test)&quot;]</text>\n</g>\n</svg>\n"
          },
          "metadata": {
            "tags": []
          },
          "execution_count": 13
        }
      ]
    },
    {
      "cell_type": "code",
      "metadata": {
        "id": "Hc6nTpHkxVe4"
      },
      "source": [
        "# Define logistic function and derivative\n",
        "logistic(x)      = 1/(1 + exp(-x))\n",
        "logisticprime(x) = logistic(x)*(1 - logistic(x));"
      ],
      "execution_count": null,
      "outputs": []
    },
    {
      "cell_type": "code",
      "metadata": {
        "id": "92XK0sUDs9pF",
        "outputId": "97cf75a0-6b61-4bd1-9e92-87741f7d4bd6",
        "colab": {
          "base_uri": "https://localhost:8080/",
          "height": 90
        }
      },
      "source": [
        "mutable struct LogisticRegression\n",
        "    w ::Vector{Float64}\n",
        "    b ::Float64\n",
        "end\n",
        "LogisticRegression(d)       = LogisticRegression(zeros(d), 0)\n",
        "f(m::LogisticRegression, x) = logistic(dot(m.w, x) + m.b)\n",
        "p(m::LogisticRegression, x) = f(m, x) >= 0.5\n",
        "\n",
        "mlogreg = LogisticRegression(2)\n",
        "\n",
        "function accuracy(oidx, lidx, m)\n",
        "    correct = 0\n",
        "    for i in oidx\n",
        "        p(m, data[[\"Height\", \"Width\"], i]) || continue\n",
        "        correct += 1\n",
        "    end\n",
        "    for i in lidx\n",
        "        !p(m, data[[\"Height\", \"Width\"], i]) || continue\n",
        "        correct += 1\n",
        "    end\n",
        "    correct/(length(oidx) + length(lidx))*100\n",
        "end\n",
        "\n",
        "@show accuracy(orangetrainidx, lemontrainidx, mlogreg)\n",
        "@show accuracy(orangevalidx, lemonvalidx, mlogreg)\n",
        "@show accuracy(orangetestidx, lemontestidx, mlogreg)"
      ],
      "execution_count": null,
      "outputs": [
        {
          "output_type": "stream",
          "text": [
            "accuracy(orangetrainidx, lemontrainidx, mlogreg) = 60.0\n",
            "accuracy(orangevalidx, lemonvalidx, mlogreg) = 55.55555555555556\n",
            "accuracy(orangetestidx, lemontestidx, mlogreg) = 63.63636363636363\n"
          ],
          "name": "stdout"
        },
        {
          "output_type": "execute_result",
          "data": {
            "text/plain": [
              "63.63636363636363"
            ]
          },
          "metadata": {
            "tags": []
          },
          "execution_count": 15
        }
      ]
    },
    {
      "cell_type": "code",
      "metadata": {
        "id": "L80V3pHbx1ww",
        "outputId": "a6a9dffc-cdff-4360-accd-4dc9caa0b624",
        "colab": {
          "base_uri": "https://localhost:8080/",
          "height": 1000
        }
      },
      "source": [
        "batchsize           = 8\n",
        "learningrate        = 0.01\n",
        "momentumcoefficient = 0.9\n",
        "\n",
        "batchify(x, n) = [x[i:min(i + n - 1, length(x))] for i in 1:n:length(x)]\n",
        "let m = mlogreg\n",
        "    bestm   = deepcopy(m)\n",
        "    bestacc = 0.0\n",
        "\n",
        "    epochs = 50\n",
        "    for iteration in 1:epochs\n",
        "        trainingdata = shuffle(vcat(orangetrainidx, lemontrainidx))  # We shuffle at every epoch\n",
        "\n",
        "        # Define mini-batches\n",
        "        batches = batchify(trainingdata, batchsize)\n",
        "\n",
        "        # Process and update per mini-batch\n",
        "        for batch in batches\n",
        "            gradm = deepcopy(m)\n",
        "            fill!(gradm.w, 0)\n",
        "            gradm.b = 0\n",
        "\n",
        "            # Process batch\n",
        "            for i in batch\n",
        "                x            = data[2:3, i]\n",
        "                isorange     = i in orangeidx\n",
        "                y            = isorange ? 1 : 0\n",
        "                yprime       = f(m, x)\n",
        "                gradm.w[:] .-= x*(yprime - y)\n",
        "                gradm.b     -= yprime - y\n",
        "            end\n",
        "\n",
        "            gradm.w ./= length(batch)\n",
        "            gradm.b  /= length(batch)\n",
        "\n",
        "            m.w .+= learningrate*gradm.w\n",
        "            m.b  += learningrate*gradm.b\n",
        "        end\n",
        "\n",
        "        @show iteration currentvalacc = accuracy(orangevalidx, lemonvalidx, m)\n",
        "        currentvalacc > bestacc || continue\n",
        "        bestm   = deepcopy(m)\n",
        "        bestacc = currentvalacc\n",
        "    end\n",
        "\n",
        "    m.w[:] = bestm.w[:]\n",
        "    m.b    = bestm.b;\n",
        "end\n",
        "\n",
        "@show accuracy(orangetrainidx, lemontrainidx, mlogreg)\n",
        "@show accuracy(orangevalidx, lemonvalidx, mlogreg)\n",
        "@show accuracy(orangetestidx, lemontestidx, mlogreg);"
      ],
      "execution_count": null,
      "outputs": [
        {
          "output_type": "stream",
          "text": [
            "iteration = 1\n",
            "currentvalacc = accuracy(orangevalidx, lemonvalidx, m) = 55.55555555555556\n",
            "iteration = 2\n",
            "currentvalacc = accuracy(orangevalidx, lemonvalidx, m) = 55.55555555555556\n",
            "iteration = 3\n",
            "currentvalacc = accuracy(orangevalidx, lemonvalidx, m) = 55.55555555555556\n",
            "iteration = 4\n",
            "currentvalacc = accuracy(orangevalidx, lemonvalidx, m) = 55.55555555555556\n",
            "iteration = 5\n",
            "currentvalacc = accuracy(orangevalidx, lemonvalidx, m) = 55.55555555555556\n",
            "iteration = 6\n",
            "currentvalacc = accuracy(orangevalidx, lemonvalidx, m) = 55.55555555555556\n",
            "iteration = 7\n",
            "currentvalacc = accuracy(orangevalidx, lemonvalidx, m) = 55.55555555555556\n",
            "iteration = 8\n",
            "currentvalacc = accuracy(orangevalidx, lemonvalidx, m) = 55.55555555555556\n",
            "iteration = 9\n",
            "currentvalacc = accuracy(orangevalidx, lemonvalidx, m) = 55.55555555555556\n",
            "iteration = 10\n",
            "currentvalacc = accuracy(orangevalidx, lemonvalidx, m) = 55.55555555555556\n",
            "iteration = 11\n",
            "currentvalacc = accuracy(orangevalidx, lemonvalidx, m) = 77.77777777777779\n",
            "iteration = 12\n",
            "currentvalacc = accuracy(orangevalidx, lemonvalidx, m) = 55.55555555555556\n",
            "iteration = 13\n",
            "currentvalacc = accuracy(orangevalidx, lemonvalidx, m) = 55.55555555555556\n",
            "iteration = 14\n",
            "currentvalacc = accuracy(orangevalidx, lemonvalidx, m) = 55.55555555555556\n",
            "iteration = 15\n",
            "currentvalacc = accuracy(orangevalidx, lemonvalidx, m) = 55.55555555555556\n",
            "iteration = 16\n",
            "currentvalacc = accuracy(orangevalidx, lemonvalidx, m) = 55.55555555555556\n",
            "iteration = 17\n",
            "currentvalacc = accuracy(orangevalidx, lemonvalidx, m) = 55.55555555555556\n",
            "iteration = 18\n",
            "currentvalacc = accuracy(orangevalidx, lemonvalidx, m) = 77.77777777777779\n",
            "iteration = 19\n",
            "currentvalacc = accuracy(orangevalidx, lemonvalidx, m) = 55.55555555555556\n",
            "iteration = 20\n",
            "currentvalacc = accuracy(orangevalidx, lemonvalidx, m) = 55.55555555555556\n",
            "iteration = 21\n",
            "currentvalacc = accuracy(orangevalidx, lemonvalidx, m) = 66.66666666666666\n",
            "iteration = 22\n",
            "currentvalacc = accuracy(orangevalidx, lemonvalidx, m) = 55.55555555555556\n",
            "iteration = 23\n",
            "currentvalacc = accuracy(orangevalidx, lemonvalidx, m) = 55.55555555555556\n",
            "iteration = 24\n",
            "currentvalacc = accuracy(orangevalidx, lemonvalidx, m) = 55.55555555555556\n",
            "iteration = 25\n",
            "currentvalacc = accuracy(orangevalidx, lemonvalidx, m) = 55.55555555555556\n",
            "iteration = 26\n",
            "currentvalacc = accuracy(orangevalidx, lemonvalidx, m) = 77.77777777777779\n",
            "iteration = 27\n",
            "currentvalacc = accuracy(orangevalidx, lemonvalidx, m) = 77.77777777777779\n",
            "iteration = 28\n",
            "currentvalacc = accuracy(orangevalidx, lemonvalidx, m) = 55.55555555555556\n",
            "iteration = 29\n",
            "currentvalacc = accuracy(orangevalidx, lemonvalidx, m) = 55.55555555555556\n",
            "iteration = 30\n",
            "currentvalacc = accuracy(orangevalidx, lemonvalidx, m) = 55.55555555555556\n",
            "iteration = 31\n",
            "currentvalacc = accuracy(orangevalidx, lemonvalidx, m) = 77.77777777777779\n",
            "iteration = 32\n",
            "currentvalacc = accuracy(orangevalidx, lemonvalidx, m) = 55.55555555555556\n",
            "iteration = 33\n",
            "currentvalacc = accuracy(orangevalidx, lemonvalidx, m) = 55.55555555555556\n",
            "iteration = 34\n",
            "currentvalacc = accuracy(orangevalidx, lemonvalidx, m) = 55.55555555555556\n",
            "iteration = 35\n",
            "currentvalacc = accuracy(orangevalidx, lemonvalidx, m) = 55.55555555555556\n",
            "iteration = 36\n",
            "currentvalacc = accuracy(orangevalidx, lemonvalidx, m) = 55.55555555555556\n",
            "iteration = 37\n",
            "currentvalacc = accuracy(orangevalidx, lemonvalidx, m) = 55.55555555555556\n",
            "iteration = 38\n",
            "currentvalacc = accuracy(orangevalidx, lemonvalidx, m) = 55.55555555555556\n",
            "iteration = 39\n",
            "currentvalacc = accuracy(orangevalidx, lemonvalidx, m) = 55.55555555555556\n",
            "iteration = 40\n",
            "currentvalacc = accuracy(orangevalidx, lemonvalidx, m) = 88.88888888888889\n",
            "iteration = 41\n",
            "currentvalacc = accuracy(orangevalidx, lemonvalidx, m) = 66.66666666666666\n",
            "iteration = 42\n",
            "currentvalacc = accuracy(orangevalidx, lemonvalidx, m) = 55.55555555555556\n",
            "iteration = 43\n",
            "currentvalacc = accuracy(orangevalidx, lemonvalidx, m) = 77.77777777777779\n",
            "iteration = 44\n",
            "currentvalacc = accuracy(orangevalidx, lemonvalidx, m) = 100.0\n",
            "iteration = 45\n",
            "currentvalacc = accuracy(orangevalidx, lemonvalidx, m) = 77.77777777777779\n",
            "iteration = 46\n",
            "currentvalacc = accuracy(orangevalidx, lemonvalidx, m) = 77.77777777777779\n",
            "iteration = 47\n",
            "currentvalacc = accuracy(orangevalidx, lemonvalidx, m) = 55.55555555555556\n",
            "iteration = 48\n",
            "currentvalacc = accuracy(orangevalidx, lemonvalidx, m) = 77.77777777777779\n",
            "iteration = 49\n",
            "currentvalacc = accuracy(orangevalidx, lemonvalidx, m) = 66.66666666666666\n",
            "iteration = 50\n",
            "currentvalacc = accuracy(orangevalidx, lemonvalidx, m) = 88.88888888888889\n",
            "accuracy(orangetrainidx, lemontrainidx, mlogreg) = 95.0\n",
            "accuracy(orangevalidx, lemonvalidx, mlogreg) = 100.0\n",
            "accuracy(orangetestidx, lemontestidx, mlogreg) = 100.0\n"
          ],
          "name": "stdout"
        }
      ]
    },
    {
      "cell_type": "code",
      "metadata": {
        "id": "el9HGcBC-YBf",
        "outputId": "e53f64d6-367e-43a8-b23f-cdd6efa1a064",
        "colab": {
          "base_uri": "https://localhost:8080/",
          "height": 421
        }
      },
      "source": [
        "plt = scatter(\n",
        "    [data[\"Height\", orangetrainidx], data[\"Height\", orangevalidx],\n",
        "        data[\"Height\", orangetestidx], data[\"Height\", lemontrainidx],\n",
        "        data[\"Height\", lemonvalidx], data[\"Height\", lemontestidx]],\n",
        "    [data[\"Width\", orangetrainidx], data[\"Width\", orangevalidx],\n",
        "        data[\"Width\", orangetestidx], data[\"Width\", lemontrainidx],\n",
        "        data[\"Width\", lemonvalidx], data[\"Width\", lemontestidx]],\n",
        "    labels=[\"Orange (Train)\", \"Orange (Validation)\", \"Orange (Test)\",\n",
        "            \"Lemon (Train)\", \"Lemon (Validation)\", \"Lemon (Test)\"],\n",
        "        xlabel=\"width (cm)\", ylabel=\"height (cm)\", legend=:bottomright)\n",
        "let m = mlogreg\n",
        "    k = -(m.b/m.w[2])/(m.b/m.w[1])\n",
        "    d(x) = k*x + (-m.b/m.w[2])\n",
        "    plot!(deepcopy(plt), d, 5:10, label=\"Decision boundary\")\n",
        "end"
      ],
      "execution_count": null,
      "outputs": [
        {
          "output_type": "execute_result",
          "data": {
            "image/svg+xml": "<?xml version=\"1.0\" encoding=\"utf-8\"?>\n<svg xmlns=\"http://www.w3.org/2000/svg\" xmlns:xlink=\"http://www.w3.org/1999/xlink\" width=\"600\" height=\"400\" viewBox=\"0 0 2400 1600\">\n<defs>\n  <clipPath id=\"clip1200\">\n    <rect x=\"0\" y=\"0\" width=\"2400\" height=\"1600\"/>\n  </clipPath>\n</defs>\n<path clip-path=\"url(#clip1200)\" d=\"\nM0 1600 L2400 1600 L2400 0 L0 0  Z\n  \" fill=\"#ffffff\" fill-rule=\"evenodd\" fill-opacity=\"1\"/>\n<defs>\n  <clipPath id=\"clip1201\">\n    <rect x=\"480\" y=\"0\" width=\"1681\" height=\"1600\"/>\n  </clipPath>\n</defs>\n<path clip-path=\"url(#clip1200)\" d=\"\nM202.373 1425.62 L2352.76 1425.62 L2352.76 47.2441 L202.373 47.2441  Z\n  \" fill=\"#ffffff\" fill-rule=\"evenodd\" fill-opacity=\"1\"/>\n<defs>\n  <clipPath id=\"clip1202\">\n    <rect x=\"202\" y=\"47\" width=\"2151\" height=\"1379\"/>\n  </clipPath>\n</defs>\n<polyline clip-path=\"url(#clip1202)\" style=\"stroke:#000000; stroke-width:2; stroke-opacity:0.1; fill:none\" points=\"\n  263.233,1425.62 263.233,47.2441 \n  \"/>\n<polyline clip-path=\"url(#clip1202)\" style=\"stroke:#000000; stroke-width:2; stroke-opacity:0.1; fill:none\" points=\"\n  668.965,1425.62 668.965,47.2441 \n  \"/>\n<polyline clip-path=\"url(#clip1202)\" style=\"stroke:#000000; stroke-width:2; stroke-opacity:0.1; fill:none\" points=\"\n  1074.7,1425.62 1074.7,47.2441 \n  \"/>\n<polyline clip-path=\"url(#clip1202)\" style=\"stroke:#000000; stroke-width:2; stroke-opacity:0.1; fill:none\" points=\"\n  1480.43,1425.62 1480.43,47.2441 \n  \"/>\n<polyline clip-path=\"url(#clip1202)\" style=\"stroke:#000000; stroke-width:2; stroke-opacity:0.1; fill:none\" points=\"\n  1886.16,1425.62 1886.16,47.2441 \n  \"/>\n<polyline clip-path=\"url(#clip1202)\" style=\"stroke:#000000; stroke-width:2; stroke-opacity:0.1; fill:none\" points=\"\n  2291.9,1425.62 2291.9,47.2441 \n  \"/>\n<polyline clip-path=\"url(#clip1202)\" style=\"stroke:#000000; stroke-width:2; stroke-opacity:0.1; fill:none\" points=\"\n  202.373,1386.61 2352.76,1386.61 \n  \"/>\n<polyline clip-path=\"url(#clip1202)\" style=\"stroke:#000000; stroke-width:2; stroke-opacity:0.1; fill:none\" points=\"\n  202.373,1059.39 2352.76,1059.39 \n  \"/>\n<polyline clip-path=\"url(#clip1202)\" style=\"stroke:#000000; stroke-width:2; stroke-opacity:0.1; fill:none\" points=\"\n  202.373,732.177 2352.76,732.177 \n  \"/>\n<polyline clip-path=\"url(#clip1202)\" style=\"stroke:#000000; stroke-width:2; stroke-opacity:0.1; fill:none\" points=\"\n  202.373,404.961 2352.76,404.961 \n  \"/>\n<polyline clip-path=\"url(#clip1202)\" style=\"stroke:#000000; stroke-width:2; stroke-opacity:0.1; fill:none\" points=\"\n  202.373,77.7459 2352.76,77.7459 \n  \"/>\n<polyline clip-path=\"url(#clip1200)\" style=\"stroke:#000000; stroke-width:4; stroke-opacity:1; fill:none\" points=\"\n  202.373,1425.62 2352.76,1425.62 \n  \"/>\n<polyline clip-path=\"url(#clip1200)\" style=\"stroke:#000000; stroke-width:4; stroke-opacity:1; fill:none\" points=\"\n  202.373,1425.62 202.373,47.2441 \n  \"/>\n<polyline clip-path=\"url(#clip1200)\" style=\"stroke:#000000; stroke-width:4; stroke-opacity:1; fill:none\" points=\"\n  263.233,1425.62 263.233,1404.94 \n  \"/>\n<polyline clip-path=\"url(#clip1200)\" style=\"stroke:#000000; stroke-width:4; stroke-opacity:1; fill:none\" points=\"\n  668.965,1425.62 668.965,1404.94 \n  \"/>\n<polyline clip-path=\"url(#clip1200)\" style=\"stroke:#000000; stroke-width:4; stroke-opacity:1; fill:none\" points=\"\n  1074.7,1425.62 1074.7,1404.94 \n  \"/>\n<polyline clip-path=\"url(#clip1200)\" style=\"stroke:#000000; stroke-width:4; stroke-opacity:1; fill:none\" points=\"\n  1480.43,1425.62 1480.43,1404.94 \n  \"/>\n<polyline clip-path=\"url(#clip1200)\" style=\"stroke:#000000; stroke-width:4; stroke-opacity:1; fill:none\" points=\"\n  1886.16,1425.62 1886.16,1404.94 \n  \"/>\n<polyline clip-path=\"url(#clip1200)\" style=\"stroke:#000000; stroke-width:4; stroke-opacity:1; fill:none\" points=\"\n  2291.9,1425.62 2291.9,1404.94 \n  \"/>\n<polyline clip-path=\"url(#clip1200)\" style=\"stroke:#000000; stroke-width:4; stroke-opacity:1; fill:none\" points=\"\n  202.373,1386.61 234.629,1386.61 \n  \"/>\n<polyline clip-path=\"url(#clip1200)\" style=\"stroke:#000000; stroke-width:4; stroke-opacity:1; fill:none\" points=\"\n  202.373,1059.39 234.629,1059.39 \n  \"/>\n<polyline clip-path=\"url(#clip1200)\" style=\"stroke:#000000; stroke-width:4; stroke-opacity:1; fill:none\" points=\"\n  202.373,732.177 234.629,732.177 \n  \"/>\n<polyline clip-path=\"url(#clip1200)\" style=\"stroke:#000000; stroke-width:4; stroke-opacity:1; fill:none\" points=\"\n  202.373,404.961 234.629,404.961 \n  \"/>\n<polyline clip-path=\"url(#clip1200)\" style=\"stroke:#000000; stroke-width:4; stroke-opacity:1; fill:none\" points=\"\n  202.373,77.7459 234.629,77.7459 \n  \"/>\n<g clip-path=\"url(#clip1200)\">\n<text style=\"fill:#000000; fill-opacity:1; font-family:Arial,Helvetica Neue,Helvetica,sans-serif; font-size:48px; text-anchor:middle;\" transform=\"rotate(0, 263.233, 1479.62)\" x=\"263.233\" y=\"1479.62\">5</text>\n</g>\n<g clip-path=\"url(#clip1200)\">\n<text style=\"fill:#000000; fill-opacity:1; font-family:Arial,Helvetica Neue,Helvetica,sans-serif; font-size:48px; text-anchor:middle;\" transform=\"rotate(0, 668.965, 1479.62)\" x=\"668.965\" y=\"1479.62\">6</text>\n</g>\n<g clip-path=\"url(#clip1200)\">\n<text style=\"fill:#000000; fill-opacity:1; font-family:Arial,Helvetica Neue,Helvetica,sans-serif; font-size:48px; text-anchor:middle;\" transform=\"rotate(0, 1074.7, 1479.62)\" x=\"1074.7\" y=\"1479.62\">7</text>\n</g>\n<g clip-path=\"url(#clip1200)\">\n<text style=\"fill:#000000; fill-opacity:1; font-family:Arial,Helvetica Neue,Helvetica,sans-serif; font-size:48px; text-anchor:middle;\" transform=\"rotate(0, 1480.43, 1479.62)\" x=\"1480.43\" y=\"1479.62\">8</text>\n</g>\n<g clip-path=\"url(#clip1200)\">\n<text style=\"fill:#000000; fill-opacity:1; font-family:Arial,Helvetica Neue,Helvetica,sans-serif; font-size:48px; text-anchor:middle;\" transform=\"rotate(0, 1886.16, 1479.62)\" x=\"1886.16\" y=\"1479.62\">9</text>\n</g>\n<g clip-path=\"url(#clip1200)\">\n<text style=\"fill:#000000; fill-opacity:1; font-family:Arial,Helvetica Neue,Helvetica,sans-serif; font-size:48px; text-anchor:middle;\" transform=\"rotate(0, 2291.9, 1479.62)\" x=\"2291.9\" y=\"1479.62\">10</text>\n</g>\n<g clip-path=\"url(#clip1200)\">\n<text style=\"fill:#000000; fill-opacity:1; font-family:Arial,Helvetica Neue,Helvetica,sans-serif; font-size:48px; text-anchor:end;\" transform=\"rotate(0, 178.373, 1404.11)\" x=\"178.373\" y=\"1404.11\">4</text>\n</g>\n<g clip-path=\"url(#clip1200)\">\n<text style=\"fill:#000000; fill-opacity:1; font-family:Arial,Helvetica Neue,Helvetica,sans-serif; font-size:48px; text-anchor:end;\" transform=\"rotate(0, 178.373, 1076.89)\" x=\"178.373\" y=\"1076.89\">6</text>\n</g>\n<g clip-path=\"url(#clip1200)\">\n<text style=\"fill:#000000; fill-opacity:1; font-family:Arial,Helvetica Neue,Helvetica,sans-serif; font-size:48px; text-anchor:end;\" transform=\"rotate(0, 178.373, 749.677)\" x=\"178.373\" y=\"749.677\">8</text>\n</g>\n<g clip-path=\"url(#clip1200)\">\n<text style=\"fill:#000000; fill-opacity:1; font-family:Arial,Helvetica Neue,Helvetica,sans-serif; font-size:48px; text-anchor:end;\" transform=\"rotate(0, 178.373, 422.461)\" x=\"178.373\" y=\"422.461\">10</text>\n</g>\n<g clip-path=\"url(#clip1200)\">\n<text style=\"fill:#000000; fill-opacity:1; font-family:Arial,Helvetica Neue,Helvetica,sans-serif; font-size:48px; text-anchor:end;\" transform=\"rotate(0, 178.373, 95.2459)\" x=\"178.373\" y=\"95.2459\">12</text>\n</g>\n<g clip-path=\"url(#clip1200)\">\n<text style=\"fill:#000000; fill-opacity:1; font-family:Arial,Helvetica Neue,Helvetica,sans-serif; font-size:66px; text-anchor:middle;\" transform=\"rotate(0, 1277.56, 1559.48)\" x=\"1277.56\" y=\"1559.48\">width (cm)</text>\n</g>\n<g clip-path=\"url(#clip1200)\">\n<text style=\"fill:#000000; fill-opacity:1; font-family:Arial,Helvetica Neue,Helvetica,sans-serif; font-size:66px; text-anchor:middle;\" transform=\"rotate(-90, 89.2861, 736.431)\" x=\"89.2861\" y=\"736.431\">height (cm)</text>\n</g>\n<circle clip-path=\"url(#clip1202)\" style=\"fill:#000000; stroke:none; fill-opacity:1\" cx=\"1318.14\" cy=\"764.899\" r=\"18\"/>\n<circle clip-path=\"url(#clip1202)\" style=\"fill:#009af9; stroke:none; fill-opacity:1\" cx=\"1318.14\" cy=\"764.899\" r=\"14\"/>\n<circle clip-path=\"url(#clip1202)\" style=\"fill:#000000; stroke:none; fill-opacity:1\" cx=\"1155.84\" cy=\"764.899\" r=\"18\"/>\n<circle clip-path=\"url(#clip1202)\" style=\"fill:#009af9; stroke:none; fill-opacity:1\" cx=\"1155.84\" cy=\"764.899\" r=\"14\"/>\n<circle clip-path=\"url(#clip1202)\" style=\"fill:#000000; stroke:none; fill-opacity:1\" cx=\"1277.56\" cy=\"535.848\" r=\"18\"/>\n<circle clip-path=\"url(#clip1202)\" style=\"fill:#009af9; stroke:none; fill-opacity:1\" cx=\"1277.56\" cy=\"535.848\" r=\"14\"/>\n<circle clip-path=\"url(#clip1202)\" style=\"fill:#000000; stroke:none; fill-opacity:1\" cx=\"628.392\" cy=\"1337.53\" r=\"18\"/>\n<circle clip-path=\"url(#clip1202)\" style=\"fill:#009af9; stroke:none; fill-opacity:1\" cx=\"628.392\" cy=\"1337.53\" r=\"14\"/>\n<circle clip-path=\"url(#clip1202)\" style=\"fill:#000000; stroke:none; fill-opacity:1\" cx=\"993.552\" cy=\"830.342\" r=\"18\"/>\n<circle clip-path=\"url(#clip1202)\" style=\"fill:#009af9; stroke:none; fill-opacity:1\" cx=\"993.552\" cy=\"830.342\" r=\"14\"/>\n<circle clip-path=\"url(#clip1202)\" style=\"fill:#000000; stroke:none; fill-opacity:1\" cx=\"1886.16\" cy=\"503.126\" r=\"18\"/>\n<circle clip-path=\"url(#clip1202)\" style=\"fill:#009af9; stroke:none; fill-opacity:1\" cx=\"1886.16\" cy=\"503.126\" r=\"14\"/>\n<circle clip-path=\"url(#clip1202)\" style=\"fill:#000000; stroke:none; fill-opacity:1\" cx=\"1399.28\" cy=\"732.177\" r=\"18\"/>\n<circle clip-path=\"url(#clip1202)\" style=\"fill:#009af9; stroke:none; fill-opacity:1\" cx=\"1399.28\" cy=\"732.177\" r=\"14\"/>\n<circle clip-path=\"url(#clip1202)\" style=\"fill:#000000; stroke:none; fill-opacity:1\" cx=\"668.965\" cy=\"1288.44\" r=\"18\"/>\n<circle clip-path=\"url(#clip1202)\" style=\"fill:#009af9; stroke:none; fill-opacity:1\" cx=\"668.965\" cy=\"1288.44\" r=\"14\"/>\n<circle clip-path=\"url(#clip1202)\" style=\"fill:#000000; stroke:none; fill-opacity:1\" cx=\"1115.27\" cy=\"813.981\" r=\"18\"/>\n<circle clip-path=\"url(#clip1202)\" style=\"fill:#009af9; stroke:none; fill-opacity:1\" cx=\"1115.27\" cy=\"813.981\" r=\"14\"/>\n<circle clip-path=\"url(#clip1202)\" style=\"fill:#000000; stroke:none; fill-opacity:1\" cx=\"1115.27\" cy=\"748.538\" r=\"18\"/>\n<circle clip-path=\"url(#clip1202)\" style=\"fill:#009af9; stroke:none; fill-opacity:1\" cx=\"1115.27\" cy=\"748.538\" r=\"14\"/>\n<circle clip-path=\"url(#clip1202)\" style=\"fill:#000000; stroke:none; fill-opacity:1\" cx=\"1155.84\" cy=\"895.785\" r=\"18\"/>\n<circle clip-path=\"url(#clip1202)\" style=\"fill:#009af9; stroke:none; fill-opacity:1\" cx=\"1155.84\" cy=\"895.785\" r=\"14\"/>\n<circle clip-path=\"url(#clip1202)\" style=\"fill:#000000; stroke:none; fill-opacity:1\" cx=\"1155.84\" cy=\"863.063\" r=\"18\"/>\n<circle clip-path=\"url(#clip1202)\" style=\"fill:#009af9; stroke:none; fill-opacity:1\" cx=\"1155.84\" cy=\"863.063\" r=\"14\"/>\n<circle clip-path=\"url(#clip1202)\" style=\"fill:#000000; stroke:none; fill-opacity:1\" cx=\"1155.84\" cy=\"863.063\" r=\"18\"/>\n<circle clip-path=\"url(#clip1202)\" style=\"fill:#e26f46; stroke:none; fill-opacity:1\" cx=\"1155.84\" cy=\"863.063\" r=\"14\"/>\n<circle clip-path=\"url(#clip1202)\" style=\"fill:#000000; stroke:none; fill-opacity:1\" cx=\"587.819\" cy=\"1386.61\" r=\"18\"/>\n<circle clip-path=\"url(#clip1202)\" style=\"fill:#e26f46; stroke:none; fill-opacity:1\" cx=\"587.819\" cy=\"1386.61\" r=\"14\"/>\n<circle clip-path=\"url(#clip1202)\" style=\"fill:#000000; stroke:none; fill-opacity:1\" cx=\"952.978\" cy=\"879.424\" r=\"18\"/>\n<circle clip-path=\"url(#clip1202)\" style=\"fill:#e26f46; stroke:none; fill-opacity:1\" cx=\"952.978\" cy=\"879.424\" r=\"14\"/>\n<circle clip-path=\"url(#clip1202)\" style=\"fill:#000000; stroke:none; fill-opacity:1\" cx=\"1074.7\" cy=\"830.342\" r=\"18\"/>\n<circle clip-path=\"url(#clip1202)\" style=\"fill:#e26f46; stroke:none; fill-opacity:1\" cx=\"1074.7\" cy=\"830.342\" r=\"14\"/>\n<circle clip-path=\"url(#clip1202)\" style=\"fill:#000000; stroke:none; fill-opacity:1\" cx=\"1318.14\" cy=\"699.455\" r=\"18\"/>\n<circle clip-path=\"url(#clip1202)\" style=\"fill:#e26f46; stroke:none; fill-opacity:1\" cx=\"1318.14\" cy=\"699.455\" r=\"14\"/>\n<circle clip-path=\"url(#clip1202)\" style=\"fill:#000000; stroke:none; fill-opacity:1\" cx=\"2129.6\" cy=\"535.848\" r=\"18\"/>\n<circle clip-path=\"url(#clip1202)\" style=\"fill:#3da44d; stroke:none; fill-opacity:1\" cx=\"2129.6\" cy=\"535.848\" r=\"14\"/>\n<circle clip-path=\"url(#clip1202)\" style=\"fill:#000000; stroke:none; fill-opacity:1\" cx=\"1115.27\" cy=\"813.981\" r=\"18\"/>\n<circle clip-path=\"url(#clip1202)\" style=\"fill:#3da44d; stroke:none; fill-opacity:1\" cx=\"1115.27\" cy=\"813.981\" r=\"14\"/>\n<circle clip-path=\"url(#clip1202)\" style=\"fill:#000000; stroke:none; fill-opacity:1\" cx=\"587.819\" cy=\"1337.53\" r=\"18\"/>\n<circle clip-path=\"url(#clip1202)\" style=\"fill:#3da44d; stroke:none; fill-opacity:1\" cx=\"587.819\" cy=\"1337.53\" r=\"14\"/>\n<circle clip-path=\"url(#clip1202)\" style=\"fill:#000000; stroke:none; fill-opacity:1\" cx=\"750.112\" cy=\"1272.08\" r=\"18\"/>\n<circle clip-path=\"url(#clip1202)\" style=\"fill:#3da44d; stroke:none; fill-opacity:1\" cx=\"750.112\" cy=\"1272.08\" r=\"14\"/>\n<circle clip-path=\"url(#clip1202)\" style=\"fill:#000000; stroke:none; fill-opacity:1\" cx=\"1196.42\" cy=\"846.702\" r=\"18\"/>\n<circle clip-path=\"url(#clip1202)\" style=\"fill:#3da44d; stroke:none; fill-opacity:1\" cx=\"1196.42\" cy=\"846.702\" r=\"14\"/>\n<circle clip-path=\"url(#clip1202)\" style=\"fill:#000000; stroke:none; fill-opacity:1\" cx=\"1277.56\" cy=\"715.816\" r=\"18\"/>\n<circle clip-path=\"url(#clip1202)\" style=\"fill:#3da44d; stroke:none; fill-opacity:1\" cx=\"1277.56\" cy=\"715.816\" r=\"14\"/>\n<circle clip-path=\"url(#clip1202)\" style=\"fill:#000000; stroke:none; fill-opacity:1\" cx=\"1115.27\" cy=\"797.62\" r=\"18\"/>\n<circle clip-path=\"url(#clip1202)\" style=\"fill:#3da44d; stroke:none; fill-opacity:1\" cx=\"1115.27\" cy=\"797.62\" r=\"14\"/>\n<circle clip-path=\"url(#clip1202)\" style=\"fill:#000000; stroke:none; fill-opacity:1\" cx=\"871.832\" cy=\"650.373\" r=\"18\"/>\n<circle clip-path=\"url(#clip1202)\" style=\"fill:#c271d2; stroke:none; fill-opacity:1\" cx=\"871.832\" cy=\"650.373\" r=\"14\"/>\n<circle clip-path=\"url(#clip1202)\" style=\"fill:#000000; stroke:none; fill-opacity:1\" cx=\"1196.42\" cy=\"454.044\" r=\"18\"/>\n<circle clip-path=\"url(#clip1202)\" style=\"fill:#c271d2; stroke:none; fill-opacity:1\" cx=\"1196.42\" cy=\"454.044\" r=\"14\"/>\n<circle clip-path=\"url(#clip1202)\" style=\"fill:#000000; stroke:none; fill-opacity:1\" cx=\"709.539\" cy=\"715.816\" r=\"18\"/>\n<circle clip-path=\"url(#clip1202)\" style=\"fill:#c271d2; stroke:none; fill-opacity:1\" cx=\"709.539\" cy=\"715.816\" r=\"14\"/>\n<circle clip-path=\"url(#clip1202)\" style=\"fill:#000000; stroke:none; fill-opacity:1\" cx=\"790.685\" cy=\"781.259\" r=\"18\"/>\n<circle clip-path=\"url(#clip1202)\" style=\"fill:#c271d2; stroke:none; fill-opacity:1\" cx=\"790.685\" cy=\"781.259\" r=\"14\"/>\n<circle clip-path=\"url(#clip1202)\" style=\"fill:#000000; stroke:none; fill-opacity:1\" cx=\"628.392\" cy=\"715.816\" r=\"18\"/>\n<circle clip-path=\"url(#clip1202)\" style=\"fill:#c271d2; stroke:none; fill-opacity:1\" cx=\"628.392\" cy=\"715.816\" r=\"14\"/>\n<circle clip-path=\"url(#clip1202)\" style=\"fill:#000000; stroke:none; fill-opacity:1\" cx=\"668.965\" cy=\"699.455\" r=\"18\"/>\n<circle clip-path=\"url(#clip1202)\" style=\"fill:#c271d2; stroke:none; fill-opacity:1\" cx=\"668.965\" cy=\"699.455\" r=\"14\"/>\n<circle clip-path=\"url(#clip1202)\" style=\"fill:#000000; stroke:none; fill-opacity:1\" cx=\"709.539\" cy=\"650.373\" r=\"18\"/>\n<circle clip-path=\"url(#clip1202)\" style=\"fill:#c271d2; stroke:none; fill-opacity:1\" cx=\"709.539\" cy=\"650.373\" r=\"14\"/>\n<circle clip-path=\"url(#clip1202)\" style=\"fill:#000000; stroke:none; fill-opacity:1\" cx=\"668.965\" cy=\"813.981\" r=\"18\"/>\n<circle clip-path=\"url(#clip1202)\" style=\"fill:#c271d2; stroke:none; fill-opacity:1\" cx=\"668.965\" cy=\"813.981\" r=\"14\"/>\n<circle clip-path=\"url(#clip1202)\" style=\"fill:#000000; stroke:none; fill-opacity:1\" cx=\"668.965\" cy=\"813.981\" r=\"18\"/>\n<circle clip-path=\"url(#clip1202)\" style=\"fill:#ac8d18; stroke:none; fill-opacity:1\" cx=\"668.965\" cy=\"813.981\" r=\"14\"/>\n<circle clip-path=\"url(#clip1202)\" style=\"fill:#000000; stroke:none; fill-opacity:1\" cx=\"1155.84\" cy=\"535.848\" r=\"18\"/>\n<circle clip-path=\"url(#clip1202)\" style=\"fill:#ac8d18; stroke:none; fill-opacity:1\" cx=\"1155.84\" cy=\"535.848\" r=\"14\"/>\n<circle clip-path=\"url(#clip1202)\" style=\"fill:#000000; stroke:none; fill-opacity:1\" cx=\"1196.42\" cy=\"323.158\" r=\"18\"/>\n<circle clip-path=\"url(#clip1202)\" style=\"fill:#ac8d18; stroke:none; fill-opacity:1\" cx=\"1196.42\" cy=\"323.158\" r=\"14\"/>\n<circle clip-path=\"url(#clip1202)\" style=\"fill:#000000; stroke:none; fill-opacity:1\" cx=\"668.965\" cy=\"666.734\" r=\"18\"/>\n<circle clip-path=\"url(#clip1202)\" style=\"fill:#ac8d18; stroke:none; fill-opacity:1\" cx=\"668.965\" cy=\"666.734\" r=\"14\"/>\n<circle clip-path=\"url(#clip1202)\" style=\"fill:#000000; stroke:none; fill-opacity:1\" cx=\"587.819\" cy=\"617.652\" r=\"18\"/>\n<circle clip-path=\"url(#clip1202)\" style=\"fill:#00a9ad; stroke:none; fill-opacity:1\" cx=\"587.819\" cy=\"617.652\" r=\"14\"/>\n<circle clip-path=\"url(#clip1202)\" style=\"fill:#000000; stroke:none; fill-opacity:1\" cx=\"1155.84\" cy=\"355.879\" r=\"18\"/>\n<circle clip-path=\"url(#clip1202)\" style=\"fill:#00a9ad; stroke:none; fill-opacity:1\" cx=\"1155.84\" cy=\"355.879\" r=\"14\"/>\n<circle clip-path=\"url(#clip1202)\" style=\"fill:#000000; stroke:none; fill-opacity:1\" cx=\"1196.42\" cy=\"372.24\" r=\"18\"/>\n<circle clip-path=\"url(#clip1202)\" style=\"fill:#00a9ad; stroke:none; fill-opacity:1\" cx=\"1196.42\" cy=\"372.24\" r=\"14\"/>\n<circle clip-path=\"url(#clip1202)\" style=\"fill:#000000; stroke:none; fill-opacity:1\" cx=\"628.392\" cy=\"732.177\" r=\"18\"/>\n<circle clip-path=\"url(#clip1202)\" style=\"fill:#00a9ad; stroke:none; fill-opacity:1\" cx=\"628.392\" cy=\"732.177\" r=\"14\"/>\n<polyline clip-path=\"url(#clip1202)\" style=\"stroke:#ed5d92; stroke-width:4; stroke-opacity:1; fill:none\" points=\"\n  263.233,1062.64 668.965,867.367 1074.7,672.089 1480.43,476.811 1886.16,281.533 2291.9,86.2547 \n  \"/>\n<path clip-path=\"url(#clip1200)\" d=\"\nM-349.756 1281.62 L2280.76 1281.62 L2280.76 797.779 L-349.756 797.779  Z\n  \" fill=\"#ffffff\" fill-rule=\"evenodd\" fill-opacity=\"1\"/>\n<polyline clip-path=\"url(#clip1200)\" style=\"stroke:#000000; stroke-width:4; stroke-opacity:1; fill:none\" points=\"\n  -349.756,1281.62 2280.76,1281.62 2280.76,797.779 -349.756,797.779 -349.756,1281.62 \n  \"/>\n<g clip-path=\"url(#clip1200)\">\n<text style=\"fill:#000000; fill-opacity:1; font-family:Arial,Helvetica Neue,Helvetica,sans-serif; font-size:48px; text-anchor:start;\" transform=\"rotate(0, -157.756, 875.759)\" x=\"-157.756\" y=\"875.759\">[&quot;Orange (Train)&quot;, &quot;Orange (Validation)&quot;, &quot;Orange (Test)&quot;, &quot;Lemon (Train)&quot;, &quot;Lemon (Validation)&quot;, &quot;Lemon (Test)&quot;]</text>\n</g>\n<g clip-path=\"url(#clip1200)\">\n<text style=\"fill:#000000; fill-opacity:1; font-family:Arial,Helvetica Neue,Helvetica,sans-serif; font-size:48px; text-anchor:start;\" transform=\"rotate(0, -157.756, 936.239)\" x=\"-157.756\" y=\"936.239\">[&quot;Orange (Train)&quot;, &quot;Orange (Validation)&quot;, &quot;Orange (Test)&quot;, &quot;Lemon (Train)&quot;, &quot;Lemon (Validation)&quot;, &quot;Lemon (Test)&quot;]</text>\n</g>\n<g clip-path=\"url(#clip1200)\">\n<text style=\"fill:#000000; fill-opacity:1; font-family:Arial,Helvetica Neue,Helvetica,sans-serif; font-size:48px; text-anchor:start;\" transform=\"rotate(0, -157.756, 996.719)\" x=\"-157.756\" y=\"996.719\">[&quot;Orange (Train)&quot;, &quot;Orange (Validation)&quot;, &quot;Orange (Test)&quot;, &quot;Lemon (Train)&quot;, &quot;Lemon (Validation)&quot;, &quot;Lemon (Test)&quot;]</text>\n</g>\n<g clip-path=\"url(#clip1200)\">\n<text style=\"fill:#000000; fill-opacity:1; font-family:Arial,Helvetica Neue,Helvetica,sans-serif; font-size:48px; text-anchor:start;\" transform=\"rotate(0, -157.756, 1057.2)\" x=\"-157.756\" y=\"1057.2\">[&quot;Orange (Train)&quot;, &quot;Orange (Validation)&quot;, &quot;Orange (Test)&quot;, &quot;Lemon (Train)&quot;, &quot;Lemon (Validation)&quot;, &quot;Lemon (Test)&quot;]</text>\n</g>\n<g clip-path=\"url(#clip1200)\">\n<text style=\"fill:#000000; fill-opacity:1; font-family:Arial,Helvetica Neue,Helvetica,sans-serif; font-size:48px; text-anchor:start;\" transform=\"rotate(0, -157.756, 1117.68)\" x=\"-157.756\" y=\"1117.68\">[&quot;Orange (Train)&quot;, &quot;Orange (Validation)&quot;, &quot;Orange (Test)&quot;, &quot;Lemon (Train)&quot;, &quot;Lemon (Validation)&quot;, &quot;Lemon (Test)&quot;]</text>\n</g>\n<g clip-path=\"url(#clip1200)\">\n<text style=\"fill:#000000; fill-opacity:1; font-family:Arial,Helvetica Neue,Helvetica,sans-serif; font-size:48px; text-anchor:start;\" transform=\"rotate(0, -157.756, 1178.16)\" x=\"-157.756\" y=\"1178.16\">[&quot;Orange (Train)&quot;, &quot;Orange (Validation)&quot;, &quot;Orange (Test)&quot;, &quot;Lemon (Train)&quot;, &quot;Lemon (Validation)&quot;, &quot;Lemon (Test)&quot;]</text>\n</g>\n<polyline clip-path=\"url(#clip1200)\" style=\"stroke:#ed5d92; stroke-width:4; stroke-opacity:1; fill:none\" points=\"\n  -325.756,1221.14 -181.756,1221.14 \n  \"/>\n<g clip-path=\"url(#clip1200)\">\n<text style=\"fill:#000000; fill-opacity:1; font-family:Arial,Helvetica Neue,Helvetica,sans-serif; font-size:48px; text-anchor:start;\" transform=\"rotate(0, -157.756, 1238.64)\" x=\"-157.756\" y=\"1238.64\">Decision boundary</text>\n</g>\n</svg>\n"
          },
          "metadata": {
            "tags": []
          },
          "execution_count": 17
        }
      ]
    }
  ]
}