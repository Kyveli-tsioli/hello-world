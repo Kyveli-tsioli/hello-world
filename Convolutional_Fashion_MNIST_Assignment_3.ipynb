{
  "nbformat": 4,
  "nbformat_minor": 0,
  "metadata": {
    "colab": {
      "name": "Convolutional_Fashion_MNIST_Assignment_3.ipynb",
      "provenance": [],
      "collapsed_sections": [],
      "authorship_tag": "ABX9TyOyC0V//Tn4XyVZg13MZkLP",
      "include_colab_link": true
    },
    "kernelspec": {
      "name": "python3",
      "display_name": "Python 3"
    }
  },
  "cells": [
    {
      "cell_type": "markdown",
      "metadata": {
        "id": "view-in-github",
        "colab_type": "text"
      },
      "source": [
        "<a href=\"https://colab.research.google.com/github/Kyveli-tsioli/hello-world/blob/main/Convolutional_Fashion_MNIST_Assignment_3.ipynb\" target=\"_parent\"><img src=\"https://colab.research.google.com/assets/colab-badge.svg\" alt=\"Open In Colab\"/></a>"
      ]
    },
    {
      "cell_type": "code",
      "metadata": {
        "colab": {
          "base_uri": "https://localhost:8080/"
        },
        "id": "A68crYGyMUdR",
        "outputId": "85f8c1aa-9a12-43d3-dfa0-219985cf45ac"
      },
      "source": [
        "!pip install -U tensorflow_datasets"
      ],
      "execution_count": 1,
      "outputs": [
        {
          "output_type": "stream",
          "text": [
            "Collecting tensorflow_datasets\n",
            "\u001b[?25l  Downloading https://files.pythonhosted.org/packages/8b/02/c1260ff4caf483c01ce36ca45a63f05417f732d94ec42cce292355dc7ea4/tensorflow_datasets-4.1.0-py3-none-any.whl (3.6MB)\n",
            "\u001b[K     |████████████████████████████████| 3.6MB 5.6MB/s \n",
            "\u001b[?25hRequirement already satisfied, skipping upgrade: protobuf>=3.6.1 in /usr/local/lib/python3.6/dist-packages (from tensorflow_datasets) (3.12.4)\n",
            "Requirement already satisfied, skipping upgrade: importlib-resources; python_version < \"3.9\" in /usr/local/lib/python3.6/dist-packages (from tensorflow_datasets) (3.3.0)\n",
            "Requirement already satisfied, skipping upgrade: termcolor in /usr/local/lib/python3.6/dist-packages (from tensorflow_datasets) (1.1.0)\n",
            "Requirement already satisfied, skipping upgrade: absl-py in /usr/local/lib/python3.6/dist-packages (from tensorflow_datasets) (0.10.0)\n",
            "Requirement already satisfied, skipping upgrade: dill in /usr/local/lib/python3.6/dist-packages (from tensorflow_datasets) (0.3.3)\n",
            "Requirement already satisfied, skipping upgrade: tqdm in /usr/local/lib/python3.6/dist-packages (from tensorflow_datasets) (4.41.1)\n",
            "Requirement already satisfied, skipping upgrade: requests>=2.19.0 in /usr/local/lib/python3.6/dist-packages (from tensorflow_datasets) (2.23.0)\n",
            "Requirement already satisfied, skipping upgrade: tensorflow-metadata in /usr/local/lib/python3.6/dist-packages (from tensorflow_datasets) (0.26.0)\n",
            "Requirement already satisfied, skipping upgrade: numpy in /usr/local/lib/python3.6/dist-packages (from tensorflow_datasets) (1.19.4)\n",
            "Requirement already satisfied, skipping upgrade: attrs>=18.1.0 in /usr/local/lib/python3.6/dist-packages (from tensorflow_datasets) (20.3.0)\n",
            "Requirement already satisfied, skipping upgrade: typing-extensions; python_version < \"3.8\" in /usr/local/lib/python3.6/dist-packages (from tensorflow_datasets) (3.7.4.3)\n",
            "Requirement already satisfied, skipping upgrade: promise in /usr/local/lib/python3.6/dist-packages (from tensorflow_datasets) (2.3)\n",
            "Requirement already satisfied, skipping upgrade: six in /usr/local/lib/python3.6/dist-packages (from tensorflow_datasets) (1.15.0)\n",
            "Requirement already satisfied, skipping upgrade: dataclasses; python_version < \"3.7\" in /usr/local/lib/python3.6/dist-packages (from tensorflow_datasets) (0.8)\n",
            "Requirement already satisfied, skipping upgrade: future in /usr/local/lib/python3.6/dist-packages (from tensorflow_datasets) (0.16.0)\n",
            "Requirement already satisfied, skipping upgrade: setuptools in /usr/local/lib/python3.6/dist-packages (from protobuf>=3.6.1->tensorflow_datasets) (51.0.0)\n",
            "Requirement already satisfied, skipping upgrade: zipp>=0.4; python_version < \"3.8\" in /usr/local/lib/python3.6/dist-packages (from importlib-resources; python_version < \"3.9\"->tensorflow_datasets) (3.4.0)\n",
            "Requirement already satisfied, skipping upgrade: certifi>=2017.4.17 in /usr/local/lib/python3.6/dist-packages (from requests>=2.19.0->tensorflow_datasets) (2020.12.5)\n",
            "Requirement already satisfied, skipping upgrade: urllib3!=1.25.0,!=1.25.1,<1.26,>=1.21.1 in /usr/local/lib/python3.6/dist-packages (from requests>=2.19.0->tensorflow_datasets) (1.24.3)\n",
            "Requirement already satisfied, skipping upgrade: idna<3,>=2.5 in /usr/local/lib/python3.6/dist-packages (from requests>=2.19.0->tensorflow_datasets) (2.10)\n",
            "Requirement already satisfied, skipping upgrade: chardet<4,>=3.0.2 in /usr/local/lib/python3.6/dist-packages (from requests>=2.19.0->tensorflow_datasets) (3.0.4)\n",
            "Requirement already satisfied, skipping upgrade: googleapis-common-protos<2,>=1.52.0 in /usr/local/lib/python3.6/dist-packages (from tensorflow-metadata->tensorflow_datasets) (1.52.0)\n",
            "Installing collected packages: tensorflow-datasets\n",
            "  Found existing installation: tensorflow-datasets 4.0.1\n",
            "    Uninstalling tensorflow-datasets-4.0.1:\n",
            "      Successfully uninstalled tensorflow-datasets-4.0.1\n",
            "Successfully installed tensorflow-datasets-4.1.0\n"
          ],
          "name": "stdout"
        }
      ]
    },
    {
      "cell_type": "code",
      "metadata": {
        "id": "7W-CI6diMev0"
      },
      "source": [
        "import tensorflow as tf"
      ],
      "execution_count": 2,
      "outputs": []
    },
    {
      "cell_type": "code",
      "metadata": {
        "id": "jbsMF_nXMlpX"
      },
      "source": [
        "# Import TensorFlow Datasets\n",
        "import tensorflow_datasets as tfds\n",
        "tfds.disable_progress_bar()\n",
        "\n",
        "\n",
        "import math\n",
        "import numpy as np\n",
        "from numpy import random\n",
        "import matplotlib.pyplot as plt\n",
        "from torch.utils.tensorboard import SummaryWriter\n",
        "import random\n",
        "from google.colab import files\n",
        "from torch.autograd import Variable\n",
        "\n",
        "\n"
      ],
      "execution_count": 3,
      "outputs": []
    },
    {
      "cell_type": "code",
      "metadata": {
        "id": "FglfdQmxMn3B"
      },
      "source": [
        "import torch\n",
        "import torchvision\n",
        "import torchvision.transforms as transforms\n",
        "import torch.nn as nn\n",
        "import torch.nn.functional as F\n",
        "import torch.optim as optim\n",
        "import copy\n",
        "from mpl_toolkits.axes_grid1 import ImageGrid\n"
      ],
      "execution_count": 4,
      "outputs": []
    },
    {
      "cell_type": "code",
      "metadata": {
        "id": "66M2Bjq7MpyW",
        "colab": {
          "base_uri": "https://localhost:8080/"
        },
        "outputId": "89660231-8ff4-417c-d5df-6052589e67a6"
      },
      "source": [
        "\n",
        "fashion_mnist = tf.keras.datasets.fashion_mnist\n",
        "\n",
        "(train_images, train_labels), (test_images, test_labels) = fashion_mnist.load_data()\n",
        "train_images=train_images.reshape((train_images.shape[0],1,28,28))\n",
        "test_images=test_images.reshape((test_images.shape[0],1,28,28))\n"
      ],
      "execution_count": 5,
      "outputs": [
        {
          "output_type": "stream",
          "text": [
            "Downloading data from https://storage.googleapis.com/tensorflow/tf-keras-datasets/train-labels-idx1-ubyte.gz\n",
            "32768/29515 [=================================] - 0s 0us/step\n",
            "Downloading data from https://storage.googleapis.com/tensorflow/tf-keras-datasets/train-images-idx3-ubyte.gz\n",
            "26427392/26421880 [==============================] - 1s 0us/step\n",
            "Downloading data from https://storage.googleapis.com/tensorflow/tf-keras-datasets/t10k-labels-idx1-ubyte.gz\n",
            "8192/5148 [===============================================] - 0s 0us/step\n",
            "Downloading data from https://storage.googleapis.com/tensorflow/tf-keras-datasets/t10k-images-idx3-ubyte.gz\n",
            "4423680/4422102 [==============================] - 0s 0us/step\n"
          ],
          "name": "stdout"
        }
      ]
    },
    {
      "cell_type": "code",
      "metadata": {
        "colab": {
          "base_uri": "https://localhost:8080/"
        },
        "id": "fQpyZzlRMr8N",
        "outputId": "1a9546b3-63b5-44ff-bc78-8e7bc0a3a1df"
      },
      "source": [
        "train_images\n",
        "print(np.shape(train_images))\n",
        "print(np.shape(test_images))"
      ],
      "execution_count": 6,
      "outputs": [
        {
          "output_type": "stream",
          "text": [
            "(60000, 1, 28, 28)\n",
            "(10000, 1, 28, 28)\n"
          ],
          "name": "stdout"
        }
      ]
    },
    {
      "cell_type": "code",
      "metadata": {
        "id": "gIxN8pdQdovK"
      },
      "source": [
        "def get_device():\n",
        "    if torch.cuda.is_available():\n",
        "        device = 'cuda:0'\n",
        "    else:\n",
        "        device = 'cpu'\n",
        "    return device"
      ],
      "execution_count": 7,
      "outputs": []
    },
    {
      "cell_type": "code",
      "metadata": {
        "id": "4QHUDO64Q0Y1"
      },
      "source": [
        "#split in MNIST1 and MNIST2\n",
        "mnist_1=train_images[0:25000]\n",
        "mnist_2=train_images[25000:50000]\n",
        "\n",
        "#for the 3.1 task we only need mnist_1\n",
        "mnist_1_labels=train_labels[0:25000]\n",
        "mnist_2_labels=train_labels[25000:50000]\n",
        "\n",
        "\n",
        "#split further mnist 1 in train set and validation set\n",
        "mnist_1_train=mnist_1[0:20000]\n",
        "mnist_1_valid=mnist_1[20000:25000]\n",
        "\n",
        "mnist_1_train_labels=mnist_1_labels[0:20000]\n",
        "mnist_1_valid_labels=mnist_1_labels[20000:25000]"
      ],
      "execution_count": 8,
      "outputs": []
    },
    {
      "cell_type": "code",
      "metadata": {
        "id": "nfYAxlvxM1zY"
      },
      "source": [
        "#label sets\n",
        "#train_set_labels=train_labels[0:50000]\n",
        "#print(\"train set labels\",np.shape(train_set_labels))\n",
        "#valid_set_labels=train_labels[50000:60000]\n",
        "#print(\"validation set labels\",np.shape(valid_set_labels))\n",
        "#test_set_labels=test_labels\n",
        "#print(\"test set labels\",np.shape(test_set_labels))"
      ],
      "execution_count": null,
      "outputs": []
    },
    {
      "cell_type": "code",
      "metadata": {
        "id": "GMzZL398M4be",
        "colab": {
          "base_uri": "https://localhost:8080/"
        },
        "outputId": "42ea3c1a-1b5a-4200-cc90-ebac8cea065f"
      },
      "source": [
        "dataset, metadata = tfds.load('fashion_mnist', as_supervised=True, with_info=True)"
      ],
      "execution_count": 9,
      "outputs": [
        {
          "output_type": "stream",
          "text": [
            "\u001b[1mDownloading and preparing dataset fashion_mnist/3.0.1 (download: 29.45 MiB, generated: 36.42 MiB, total: 65.87 MiB) to /root/tensorflow_datasets/fashion_mnist/3.0.1...\u001b[0m\n",
            "Shuffling and writing examples to /root/tensorflow_datasets/fashion_mnist/3.0.1.incomplete8WU786/fashion_mnist-train.tfrecord\n",
            "Shuffling and writing examples to /root/tensorflow_datasets/fashion_mnist/3.0.1.incomplete8WU786/fashion_mnist-test.tfrecord\n",
            "\u001b[1mDataset fashion_mnist downloaded and prepared to /root/tensorflow_datasets/fashion_mnist/3.0.1. Subsequent calls will reuse this data.\u001b[0m\n"
          ],
          "name": "stdout"
        }
      ]
    },
    {
      "cell_type": "code",
      "metadata": {
        "colab": {
          "base_uri": "https://localhost:8080/"
        },
        "id": "QiHSo9sIM7Gp",
        "outputId": "85198d28-e58b-46eb-e680-6632a2f6c7c8"
      },
      "source": [
        "class_names = metadata.features['label'].names\n",
        "#not included with the dataset, store them here to use later when plotting images \n",
        "\n",
        "\n",
        "print(\"Class names: {}\".format(class_names))"
      ],
      "execution_count": 10,
      "outputs": [
        {
          "output_type": "stream",
          "text": [
            "Class names: ['T-shirt/top', 'Trouser', 'Pullover', 'Dress', 'Coat', 'Sandal', 'Shirt', 'Sneaker', 'Bag', 'Ankle boot']\n"
          ],
          "name": "stdout"
        }
      ]
    },
    {
      "cell_type": "code",
      "metadata": {
        "id": "cfHIE1xRN89u"
      },
      "source": [
        "#preprocessing-normalisation\n",
        "\n",
        "#mnist_1_train=mnist_1_train/255.0\n",
        "#ƒcommnist_1_valid=mnist_1_valid/255.0\n",
        "\n"
      ],
      "execution_count": null,
      "outputs": []
    },
    {
      "cell_type": "code",
      "metadata": {
        "colab": {
          "base_uri": "https://localhost:8080/"
        },
        "id": "UU7rvjuCP4JT",
        "outputId": "04cfac63-144f-4cf9-b984-d1a99a886442"
      },
      "source": [
        "mnist_1_train"
      ],
      "execution_count": 11,
      "outputs": [
        {
          "output_type": "execute_result",
          "data": {
            "text/plain": [
              "array([[[[0, 0, 0, ..., 0, 0, 0],\n",
              "         [0, 0, 0, ..., 0, 0, 0],\n",
              "         [0, 0, 0, ..., 0, 0, 0],\n",
              "         ...,\n",
              "         [0, 0, 0, ..., 0, 0, 0],\n",
              "         [0, 0, 0, ..., 0, 0, 0],\n",
              "         [0, 0, 0, ..., 0, 0, 0]]],\n",
              "\n",
              "\n",
              "       [[[0, 0, 0, ..., 0, 0, 0],\n",
              "         [0, 0, 0, ..., 0, 0, 0],\n",
              "         [0, 0, 0, ..., 0, 0, 0],\n",
              "         ...,\n",
              "         [0, 0, 0, ..., 0, 0, 0],\n",
              "         [0, 0, 0, ..., 0, 0, 0],\n",
              "         [0, 0, 0, ..., 0, 0, 0]]],\n",
              "\n",
              "\n",
              "       [[[0, 0, 0, ..., 0, 0, 0],\n",
              "         [0, 0, 0, ..., 0, 0, 0],\n",
              "         [0, 0, 0, ..., 0, 0, 0],\n",
              "         ...,\n",
              "         [0, 0, 0, ..., 0, 0, 0],\n",
              "         [0, 0, 0, ..., 0, 0, 0],\n",
              "         [0, 0, 0, ..., 0, 0, 0]]],\n",
              "\n",
              "\n",
              "       ...,\n",
              "\n",
              "\n",
              "       [[[0, 0, 0, ..., 0, 0, 0],\n",
              "         [0, 0, 0, ..., 0, 0, 0],\n",
              "         [0, 0, 0, ..., 0, 0, 0],\n",
              "         ...,\n",
              "         [0, 0, 0, ..., 0, 0, 0],\n",
              "         [0, 0, 0, ..., 0, 0, 0],\n",
              "         [0, 0, 0, ..., 0, 0, 0]]],\n",
              "\n",
              "\n",
              "       [[[0, 0, 0, ..., 0, 0, 0],\n",
              "         [0, 0, 0, ..., 0, 0, 0],\n",
              "         [0, 0, 0, ..., 0, 0, 0],\n",
              "         ...,\n",
              "         [0, 0, 0, ..., 0, 0, 0],\n",
              "         [0, 0, 0, ..., 0, 0, 0],\n",
              "         [0, 0, 0, ..., 0, 0, 0]]],\n",
              "\n",
              "\n",
              "       [[[0, 0, 0, ..., 0, 0, 0],\n",
              "         [0, 0, 0, ..., 0, 0, 0],\n",
              "         [0, 0, 0, ..., 0, 0, 0],\n",
              "         ...,\n",
              "         [0, 0, 0, ..., 0, 0, 0],\n",
              "         [0, 0, 0, ..., 0, 0, 0],\n",
              "         [0, 0, 0, ..., 0, 0, 0]]]], dtype=uint8)"
            ]
          },
          "metadata": {
            "tags": []
          },
          "execution_count": 11
        }
      ]
    },
    {
      "cell_type": "code",
      "metadata": {
        "colab": {
          "base_uri": "https://localhost:8080/",
          "height": 265
        },
        "id": "j5rCgjLsT7KU",
        "outputId": "3fabc5ff-d177-468b-cc65-71b72dd650f1"
      },
      "source": [
        "plt.figure()\n",
        "plt.imshow(mnist_1_train[10].reshape((28,28)),cmap=plt.cm.binary)\n",
        "plt.colorbar()\n",
        "plt.grid(False)\n",
        "plt.show()"
      ],
      "execution_count": 12,
      "outputs": [
        {
          "output_type": "display_data",
          "data": {
            "image/png": "[encoded data removed]",
            "text/plain": [
              "<Figure size 432x288 with 2 Axes>"
            ]
          },
          "metadata": {
            "tags": [],
            "needs_background": "light"
          }
        }
      ]
    },
    {
      "cell_type": "code",
      "metadata": {
        "colab": {
          "base_uri": "https://localhost:8080/",
          "height": 266
        },
        "id": "o_yztIwOUENX",
        "outputId": "aad32da1-3065-43e3-d5ad-bbfc9044ded0"
      },
      "source": [
        "plt.figure()\n",
        "plt.imshow(mnist_1_valid[10].reshape((28,28)),cmap=plt.cm.binary)\n",
        "plt.colorbar()\n",
        "plt.grid(False)\n",
        "plt.show()"
      ],
      "execution_count": 13,
      "outputs": [
        {
          "output_type": "display_data",
          "data": {
            "image/png": "[encoded data removed]",
            "text/plain": [
              "<Figure size 432x288 with 2 Axes>"
            ]
          },
          "metadata": {
            "tags": [],
            "needs_background": "light"
          }
        }
      ]
    },
    {
      "cell_type": "code",
      "metadata": {
        "colab": {
          "base_uri": "https://localhost:8080/"
        },
        "id": "X8ajrX1-UNrZ",
        "outputId": "59db5394-e824-4ef9-dbfb-07742a76f6e0"
      },
      "source": [
        "mnist_1_train_labels"
      ],
      "execution_count": 14,
      "outputs": [
        {
          "output_type": "execute_result",
          "data": {
            "text/plain": [
              "array([9, 0, 0, ..., 6, 5, 4], dtype=uint8)"
            ]
          },
          "metadata": {
            "tags": []
          },
          "execution_count": 14
        }
      ]
    },
    {
      "cell_type": "code",
      "metadata": {
        "colab": {
          "base_uri": "https://localhost:8080/"
        },
        "id": "ybAyZ4SrUSfS",
        "outputId": "23f7ca8d-3af5-4b08-f9ae-4d046561fc43"
      },
      "source": [
        "np.shape(mnist_1_train_labels)"
      ],
      "execution_count": 15,
      "outputs": [
        {
          "output_type": "execute_result",
          "data": {
            "text/plain": [
              "(20000,)"
            ]
          },
          "metadata": {
            "tags": []
          },
          "execution_count": 15
        }
      ]
    },
    {
      "cell_type": "code",
      "metadata": {
        "id": "fYyE_GS-UWKd",
        "colab": {
          "base_uri": "https://localhost:8080/"
        },
        "outputId": "098ed638-948e-4fe4-b039-22e099f79460"
      },
      "source": [
        "mnist_1_train_tensor=torch.tensor(mnist_1_train,dtype=torch.float)\n",
        "mnist_1_valid_tensor=torch.tensor(mnist_1_valid,dtype=torch.float)\n",
        "\n",
        "mnist_1_train_labels_tensor=torch.tensor(mnist_1_train_labels,dtype=torch.float)\n",
        "mnist_1_valid_labels_tensor=torch.tensor(mnist_1_valid_labels,dtype=torch.float)"
      ],
      "execution_count": 16,
      "outputs": [
        {
          "output_type": "stream",
          "text": [
            "/usr/local/lib/python3.6/dist-packages/ipykernel_launcher.py:1: UserWarning: The given NumPy array is not writeable, and PyTorch does not support non-writeable tensors. This means you can write to the underlying (supposedly non-writeable) NumPy array using the tensor. You may want to copy the array to protect its data or make it writeable before converting it to a tensor. This type of warning will be suppressed for the rest of this program. (Triggered internally at  /pytorch/torch/csrc/utils/tensor_numpy.cpp:141.)\n",
            "  \"\"\"Entry point for launching an IPython kernel.\n"
          ],
          "name": "stderr"
        }
      ]
    },
    {
      "cell_type": "code",
      "metadata": {
        "id": "LhwmlePGXFlW"
      },
      "source": [
        "batch_size=50\n",
        "trainset_mnist_1=torch.utils.data.TensorDataset(mnist_1_train_labels_tensor, mnist_1_train_tensor)\n",
        "mnist_1_train_loader = torch.utils.data.DataLoader(trainset_mnist_1, batch_size=batch_size,\n",
        "                                              shuffle=True)\n",
        "\n",
        "validset_mnist_1= torch.utils.data.TensorDataset(mnist_1_valid_labels_tensor, mnist_1_valid_tensor)\n",
        "mnist_1_valid_loader= torch.utils.data.DataLoader(validset_mnist_1, batch_size=batch_size,\n",
        "                                              shuffle=True)\n",
        "\n",
        "\n"
      ],
      "execution_count": 17,
      "outputs": []
    },
    {
      "cell_type": "code",
      "metadata": {
        "id": "wezHpZH-Xd0x"
      },
      "source": [
        "class CNN(nn.Module):\n",
        "  def __init__(self):\n",
        "    \n",
        "    super(CNN,self).__init__()\n",
        "    self.conv1=nn.Conv2d(1,10,kernel_size=5)\n",
        "    self.conv2=nn.Conv2d(10,20,kernel_size=5)\n",
        "\n",
        "    self.fc1=nn.Linear(320, 50)\n",
        "    self.fc2=nn.Linear(50,10)\n",
        "\n",
        "\n",
        "  def forward(self,x):\n",
        "    print(x.shape)\n",
        "    x = F.max_pool2d(self.conv1(x), 2)\n",
        "    x = F.relu(x)\n",
        "\n",
        "    x = F.max_pool2d(self.conv2(x), 2)\n",
        "\n",
        "    x = F.relu(x)\n",
        "\n",
        "    x = x.view(-1, 320)\n",
        "    x = F.relu(self.fc1(x))\n",
        "    x=F.log_softmax(self.fc2(x),dim=1)\n",
        "\n",
        "\n",
        "    \n",
        "    return x\n",
        "\n",
        "  \n",
        "\n"
      ],
      "execution_count": 18,
      "outputs": []
    },
    {
      "cell_type": "code",
      "metadata": {
        "colab": {
          "base_uri": "https://localhost:8080/"
        },
        "id": "ocEcsCsKcquZ",
        "outputId": "5e9f0257-b897-487a-a1aa-85fa4bccda24"
      },
      "source": [
        "model=CNN()\n",
        "print(model)"
      ],
      "execution_count": 19,
      "outputs": [
        {
          "output_type": "stream",
          "text": [
            "CNN(\n",
            "  (conv1): Conv2d(1, 10, kernel_size=(5, 5), stride=(1, 1))\n",
            "  (conv2): Conv2d(10, 20, kernel_size=(5, 5), stride=(1, 1))\n",
            "  (fc1): Linear(in_features=320, out_features=50, bias=True)\n",
            "  (fc2): Linear(in_features=50, out_features=10, bias=True)\n",
            ")\n"
          ],
          "name": "stdout"
        }
      ]
    },
    {
      "cell_type": "code",
      "metadata": {
        "id": "_GSrR0mPdE-T"
      },
      "source": [
        "criterion=nn.CrossEntropyLoss()\n",
        "learning_rate=0.0001\n",
        "epochs=100\n",
        "optimizer= torch.optim.Adam(model.parameters(), lr=learning_rate)"
      ],
      "execution_count": 20,
      "outputs": []
    },
    {
      "cell_type": "code",
      "metadata": {
        "id": "NWN2xXIudUdk"
      },
      "source": [
        "def training(model, train_loader, valid_loader, epochs):\n",
        "  training_losses=[]\n",
        "  training_accuracies=[]\n",
        "\n",
        "  for epoch in range(epochs):\n",
        "    current_training_loss=0.0\n",
        "    current_training_accuracy=0.0\n",
        "\n",
        "    for batch_index,training_batch in enumerate (train_loader,0):\n",
        "      labels, inputs = training_batch\n",
        "      labels, inputs = Variable(labels),Variable(inputs)\n",
        "\n",
        "      print(\"inputs shape\",  inputs.shape)\n",
        "\n",
        "      print(\"labels shape\", labels.shape)\n",
        "\n",
        "      optimizer.zero_grad()\n",
        "      #outputs=model.forward(inputs)\n",
        "      outputs=model(inputs)\n",
        "      print(\"outputs\", outputs)\n",
        "      print(\"labels\", labels)\n",
        "      loss=criterion(outputs,labels)\n",
        "      loss.backward()\n",
        "      optimizer.step()\n",
        "      current_training_loss +=loss.item()\n",
        "\n",
        "      #compute accuracy of the current batch\n",
        "      correct_training_pred=0\n",
        "      total_training_pred=0\n",
        "      \n",
        "      for data in training_batch:\n",
        "        images, labels= training_batch\n",
        "        outputs= model.forward(images)\n",
        "        _, pred_labels= torch.max(outputs.data,1)\n",
        "\n",
        "        correct_pred+= (pred_labels==labels).sum().item()\n",
        "        total_pred+= pred_labels.size(0)\n",
        "\n",
        "\n",
        "    #add accuracy to the overall acurracy\n",
        "    current_accuracy+= (100 * correct_pred)/total_pred\n",
        "\n",
        "    #compute average batch loss and accuracy at every 300 batches\n",
        "    if batch_index % 300==299:\n",
        "\n",
        "      print ('[epoch: %d Batch: %5d] loss: %.3f' % (epoch+1, batch_index+1, current_training_loss/300))\n",
        "\n",
        "      #append the average loss and accuracy\n",
        "      training_losses.append(current_training_loss/300)\n",
        "      training_accuracies.append(current_accuracy/300)\n",
        "\n",
        "      #reset the current loss and accuracy for the next 300 batches\n",
        "\n",
        "      current_training_loss=0.0\n",
        "      current_training_accuracy=0.0\n",
        "\n",
        "\n",
        "\n"
      ],
      "execution_count": 21,
      "outputs": []
    },
    {
      "cell_type": "code",
      "metadata": {
        "colab": {
          "base_uri": "https://localhost:8080/",
          "height": 1000
        },
        "id": "MPNlYLUidjiZ",
        "outputId": "af53e18e-6480-4084-f3bd-9f2dd0da1f75"
      },
      "source": [
        "trail1=training(model,mnist_1_train_loader, mnist_1_valid_loader,epochs)"
      ],
      "execution_count": 22,
      "outputs": [
        {
          "output_type": "stream",
          "text": [
            "inputs shape torch.Size([50, 1, 28, 28])\n",
            "labels shape torch.Size([50])\n",
            "torch.Size([50, 1, 28, 28])\n",
            "outputs tensor([[-2.0497e+01, -9.3666e+00, -5.0160e+00, -3.1155e+00, -6.5049e+00,\n",
            "         -1.3399e+01, -1.0383e+01, -1.0769e+01, -5.4058e-02, -1.3797e+01],\n",
            "        [-1.7253e+01, -1.3256e+01, -6.5494e+00, -3.8961e-02, -7.2925e+00,\n",
            "         -1.6703e+01, -1.3485e+01, -8.8280e+00, -3.3256e+00, -1.6878e+01],\n",
            "        [-2.3615e+01, -1.2354e+01, -9.3530e+00, -7.2782e+00, -9.3837e+00,\n",
            "         -1.9441e+01, -8.5901e+00, -1.3411e+01, -1.0535e-03, -1.9169e+01],\n",
            "        [-1.8584e+01, -1.2334e+01, -4.3549e+00, -4.8372e+00, -6.0321e+00,\n",
            "         -1.8628e+01, -1.1587e+01, -1.2860e+01, -2.3462e-02, -1.6511e+01],\n",
            "        [-1.1423e+01, -4.8285e+00, -6.1495e+00, -2.8789e+00, -6.0528e+00,\n",
            "         -1.2438e+01, -4.6617e+00, -6.9575e+00, -8.2437e-02, -1.0343e+01],\n",
            "        [-1.9426e+01, -1.2174e+01, -8.1856e+00, -2.5040e+00, -8.2643e+00,\n",
            "         -1.8302e+01, -1.1492e+01, -1.3148e+01, -8.5902e-02, -1.3533e+01],\n",
            "        [-2.2874e+01, -8.8006e+00, -1.0361e+01, -1.0820e-03, -1.2535e+01,\n",
            "         -1.7405e+01, -1.7641e+01, -1.3690e+01, -7.0195e+00, -1.8308e+01],\n",
            "        [-2.2850e+01, -1.1540e+01, -9.2254e+00, -6.4400e+00, -6.8230e+00,\n",
            "         -1.6176e+01, -8.6694e+00, -1.3907e+01, -2.9721e-03, -1.3212e+01],\n",
            "        [-1.6073e+01, -8.7425e+00, -4.6619e+00, -5.2257e+00, -4.4627e+00,\n",
            "         -1.4828e+01, -7.3804e+00, -1.0345e+01, -2.7559e-02, -1.1412e+01],\n",
            "        [-1.1538e+01, -6.4010e+00, -7.3455e+00, -3.7355e+00, -6.4129e+00,\n",
            "         -1.2314e+01, -5.7471e+00, -7.4370e+00, -3.2128e-02, -1.1152e+01],\n",
            "        [-1.1860e+01, -5.7991e+00, -2.6979e+00, -3.1093e-01, -4.4063e+00,\n",
            "         -1.0833e+01, -6.9455e+00, -5.0300e+00, -1.7309e+00, -1.1695e+01],\n",
            "        [-1.6191e+01, -2.0958e+00, -7.4604e+00, -1.3055e+00, -1.7922e+00,\n",
            "         -1.3727e+01, -5.7150e+00, -9.2525e+00, -8.3207e-01, -8.1754e+00],\n",
            "        [-9.2432e+00, -3.3569e+00, -3.4596e+00, -1.8376e+00, -4.0209e-01,\n",
            "         -6.3299e+00, -5.9909e+00, -3.8712e+00, -2.7234e+00, -4.2175e+00],\n",
            "        [-1.3001e+01, -7.2641e+00, -3.1188e+00, -2.6936e+00, -2.9665e+00,\n",
            "         -9.5535e+00, -5.5522e+00, -6.3595e+00, -1.8639e-01, -7.9998e+00],\n",
            "        [-2.2058e+01, -9.2235e+00, -3.4693e+00, -2.0322e+00, -2.7083e+00,\n",
            "         -1.3953e+01, -1.1870e+01, -9.1759e+00, -2.6014e-01, -1.1807e+01],\n",
            "        [-1.7816e+01, -5.3289e+00, -4.5443e+00, -2.1372e-01, -2.6114e+00,\n",
            "         -1.6679e+01, -7.7873e+00, -9.5690e+00, -2.2727e+00, -1.4688e+01],\n",
            "        [-1.5851e+01, -8.2445e+00, -6.8940e+00, -8.1984e+00, -7.6271e+00,\n",
            "         -1.8272e+01, -1.0384e+01, -9.5433e+00, -2.1437e-03, -1.7823e+01],\n",
            "        [-1.9208e+01, -1.1054e+01, -5.8891e+00, -6.6846e+00, -2.5884e+00,\n",
            "         -1.3954e+01, -8.5486e+00, -1.1613e+01, -8.2707e-02, -1.5005e+01],\n",
            "        [-2.5054e+01, -1.0274e+01, -5.6727e+00, -8.8999e-01, -3.9603e+00,\n",
            "         -2.1920e+01, -1.2577e+01, -1.4239e+01, -5.6774e-01, -1.6155e+01],\n",
            "        [-2.5166e+01, -1.4457e+01, -6.5759e+00, -3.3456e+00, -6.6846e+00,\n",
            "         -1.7154e+01, -1.3337e+01, -1.1489e+01, -3.8632e-02, -1.8255e+01],\n",
            "        [-1.9871e+01, -1.0941e+01, -6.6318e+00, -2.7644e+00, -4.7299e+00,\n",
            "         -1.4390e+01, -8.6925e+00, -9.8225e+00, -7.6234e-02, -1.3527e+01],\n",
            "        [-7.6485e+00, -5.5892e+00, -1.6324e+00, -2.6022e+00, -5.8919e-01,\n",
            "         -6.3836e+00, -4.4670e+00, -4.5915e+00, -1.9653e+00, -4.8265e+00],\n",
            "        [-1.5322e+01, -1.2034e+01, -2.9116e+00, -1.6861e+00, -6.1998e+00,\n",
            "         -1.4132e+01, -8.1986e+00, -9.6492e+00, -2.7708e-01, -1.5187e+01],\n",
            "        [-2.0071e+01, -1.1019e+01, -5.2429e+00, -2.8196e+00, -3.0904e+00,\n",
            "         -1.6789e+01, -1.1754e+01, -9.2191e+00, -1.1712e-01, -1.5030e+01],\n",
            "        [-1.4923e+01, -7.9302e+00, -5.1878e+00, -1.6586e-01, -2.6362e+00,\n",
            "         -1.0304e+01, -1.0012e+01, -4.9432e+00, -2.6876e+00, -1.2246e+01],\n",
            "        [-2.2840e+01, -1.4058e+01, -2.3497e+00, -2.7926e+00, -4.6719e+00,\n",
            "         -1.8115e+01, -1.1965e+01, -9.2942e+00, -1.8165e-01, -1.7927e+01],\n",
            "        [-1.6199e+01, -7.0385e+00, -5.7167e+00, -6.4515e+00, -3.7701e+00,\n",
            "         -1.1567e+01, -6.3877e+00, -9.9477e+00, -3.1077e-02, -9.6861e+00],\n",
            "        [-1.9150e+01, -1.1113e+01, -6.5495e+00, -6.6540e+00, -6.7696e+00,\n",
            "         -1.3702e+01, -9.6978e+00, -1.0463e+01, -3.9897e-03, -1.1731e+01],\n",
            "        [-1.3449e+01, -7.2606e+00, -4.6459e+00, -4.7135e+00, -1.8662e+00,\n",
            "         -1.1616e+01, -4.8867e+00, -8.5716e+00, -2.0064e-01, -9.7006e+00],\n",
            "        [-2.5463e+01, -1.1723e+01, -9.7867e+00, -1.5836e-02, -5.7475e+00,\n",
            "         -2.0016e+01, -1.7003e+01, -1.0114e+01, -4.3888e+00, -1.8138e+01],\n",
            "        [-2.0267e+01, -1.1158e+01, -5.7585e+00, -2.1218e+00, -5.5970e+00,\n",
            "         -1.4004e+01, -1.1794e+01, -8.6523e+00, -1.3568e-01, -1.5182e+01],\n",
            "        [-1.4596e+01, -7.0040e+00, -3.3748e+00, -2.7273e+00, -1.0081e+00,\n",
            "         -1.1337e+01, -8.2844e+00, -5.8321e+00, -6.3244e-01, -9.4516e+00],\n",
            "        [-1.6280e+01, -7.4599e+00, -1.8691e+00, -8.4264e-01, -3.7803e+00,\n",
            "         -1.1932e+01, -6.1912e+00, -7.3890e+00, -9.4392e-01, -1.3930e+01],\n",
            "        [-1.7766e+01, -7.2632e+00, -7.8461e+00, -7.6992e+00, -4.2631e+00,\n",
            "         -1.2485e+01, -6.2091e+00, -1.2206e+01, -1.7840e-02, -1.0184e+01],\n",
            "        [-1.4912e+01, -7.4088e+00, -2.6374e+00, -7.2667e-01, -3.7529e+00,\n",
            "         -1.2599e+01, -1.0440e+01, -8.7457e+00, -8.6588e-01, -1.2136e+01],\n",
            "        [-1.9933e+01, -1.0334e+01, -1.0326e+01, -1.5411e+00, -7.5916e+00,\n",
            "         -1.6122e+01, -9.7548e+00, -1.1954e+01, -2.4178e-01, -1.4970e+01],\n",
            "        [-2.0119e+01, -9.3003e+00, -7.2074e+00, -7.2466e+00, -8.1909e+00,\n",
            "         -1.3096e+01, -1.1548e+01, -1.0254e+01, -1.8711e-03, -1.4917e+01],\n",
            "        [-1.3788e+01, -7.7791e+00, -2.0805e+00, -3.9087e+00, -2.0420e-01,\n",
            "         -1.2382e+01, -8.6811e+00, -7.7994e+00, -3.2505e+00, -1.1661e+01],\n",
            "        [-1.7004e+01, -5.0312e+00, -5.0028e+00, -2.0679e+00, -3.0888e+00,\n",
            "         -1.6052e+01, -1.2948e+01, -9.7051e+00, -2.0497e-01, -1.2620e+01],\n",
            "        [-1.4741e+01, -8.3119e+00, -9.3243e+00, -4.7550e+00, -9.2587e+00,\n",
            "         -1.6919e+01, -6.9847e+00, -1.1373e+01, -1.0026e-02, -1.6750e+01],\n",
            "        [-1.7524e+01, -1.0183e+01, -4.8685e+00, -4.2483e+00, -7.3428e+00,\n",
            "         -1.7760e+01, -9.8416e+00, -9.1750e+00, -2.3081e-02, -1.4159e+01],\n",
            "        [-2.1701e+01, -1.3242e+01, -2.8625e+00, -2.7278e+00, -6.5421e+00,\n",
            "         -1.5745e+01, -8.9381e+00, -1.4672e+01, -1.3246e-01, -1.4897e+01],\n",
            "        [-1.7318e+01, -9.7264e+00, -2.3953e+00, -1.3365e+00, -3.9756e+00,\n",
            "         -1.2535e+01, -5.4227e+00, -1.1772e+01, -4.7353e-01, -1.0307e+01],\n",
            "        [-2.1477e+01, -1.0512e+01, -8.3989e+00, -7.3748e+00, -8.6569e+00,\n",
            "         -1.7674e+01, -1.3166e+01, -1.2447e+01, -1.0597e-03, -1.4951e+01],\n",
            "        [-1.8032e+01, -5.9940e+00, -2.8015e+00, -5.6558e-01, -4.7530e+00,\n",
            "         -1.4524e+01, -8.0645e+00, -8.5316e+00, -1.0227e+00, -1.3366e+01],\n",
            "        [-1.3992e+01, -9.1891e+00, -4.1729e+00, -2.5732e+00, -2.3971e+00,\n",
            "         -1.3923e+01, -6.8861e+00, -8.4425e+00, -2.0339e-01, -1.0994e+01],\n",
            "        [-1.3541e+01, -6.3903e+00, -2.5408e+00, -2.0637e+00, -1.8683e+00,\n",
            "         -1.2125e+01, -6.4871e+00, -5.8945e+00, -4.5627e-01, -8.4169e+00],\n",
            "        [-1.7965e+01, -1.0268e+01, -7.5094e+00, -5.4080e+00, -1.9090e+00,\n",
            "         -1.8033e+01, -1.0614e+01, -1.0044e+01, -1.6649e-01, -1.7035e+01],\n",
            "        [-1.8629e+01, -1.1570e+01, -3.4019e+00, -5.1627e+00, -4.5530e+00,\n",
            "         -1.3881e+01, -6.6388e+00, -1.0673e+01, -5.2268e-02, -1.1409e+01],\n",
            "        [-1.5642e+01, -6.1377e+00, -5.4028e+00, -3.9241e+00, -7.0834e+00,\n",
            "         -1.1380e+01, -6.0316e+00, -8.6122e+00, -3.0399e-02, -9.3963e+00]],\n",
            "       grad_fn=<LogSoftmaxBackward>)\n",
            "labels tensor([9., 8., 3., 8., 3., 2., 7., 2., 0., 3., 1., 9., 0., 2., 3., 3., 6., 0.,\n",
            "        2., 9., 4., 2., 6., 6., 8., 8., 0., 8., 0., 7., 9., 3., 1., 0., 8., 4.,\n",
            "        9., 0., 2., 3., 8., 4., 6., 8., 1., 8., 3., 0., 4., 5.])\n"
          ],
          "name": "stdout"
        },
        {
          "output_type": "error",
          "ename": "RuntimeError",
          "evalue": "ignored",
          "traceback": [
            "\u001b[0;31m---------------------------------------------------------------------------\u001b[0m",
            "\u001b[0;31mRuntimeError\u001b[0m                              Traceback (most recent call last)",
            "\u001b[0;32m<ipython-input-22-df2d62a74559>\u001b[0m in \u001b[0;36m<module>\u001b[0;34m()\u001b[0m\n\u001b[0;32m----> 1\u001b[0;31m \u001b[0mtrail1\u001b[0m\u001b[0;34m=\u001b[0m\u001b[0mtraining\u001b[0m\u001b[0;34m(\u001b[0m\u001b[0mmodel\u001b[0m\u001b[0;34m,\u001b[0m\u001b[0mmnist_1_train_loader\u001b[0m\u001b[0;34m,\u001b[0m \u001b[0mmnist_1_valid_loader\u001b[0m\u001b[0;34m,\u001b[0m\u001b[0mepochs\u001b[0m\u001b[0;34m)\u001b[0m\u001b[0;34m\u001b[0m\u001b[0;34m\u001b[0m\u001b[0m\n\u001b[0m",
            "\u001b[0;32m<ipython-input-21-71f48c45367f>\u001b[0m in \u001b[0;36mtraining\u001b[0;34m(model, train_loader, valid_loader, epochs)\u001b[0m\n\u001b[1;32m     20\u001b[0m       \u001b[0mprint\u001b[0m\u001b[0;34m(\u001b[0m\u001b[0;34m\"outputs\"\u001b[0m\u001b[0;34m,\u001b[0m \u001b[0moutputs\u001b[0m\u001b[0;34m)\u001b[0m\u001b[0;34m\u001b[0m\u001b[0;34m\u001b[0m\u001b[0m\n\u001b[1;32m     21\u001b[0m       \u001b[0mprint\u001b[0m\u001b[0;34m(\u001b[0m\u001b[0;34m\"labels\"\u001b[0m\u001b[0;34m,\u001b[0m \u001b[0mlabels\u001b[0m\u001b[0;34m)\u001b[0m\u001b[0;34m\u001b[0m\u001b[0;34m\u001b[0m\u001b[0m\n\u001b[0;32m---> 22\u001b[0;31m       \u001b[0mloss\u001b[0m\u001b[0;34m=\u001b[0m\u001b[0mcriterion\u001b[0m\u001b[0;34m(\u001b[0m\u001b[0moutputs\u001b[0m\u001b[0;34m,\u001b[0m\u001b[0mlabels\u001b[0m\u001b[0;34m)\u001b[0m\u001b[0;34m\u001b[0m\u001b[0;34m\u001b[0m\u001b[0m\n\u001b[0m\u001b[1;32m     23\u001b[0m       \u001b[0mloss\u001b[0m\u001b[0;34m.\u001b[0m\u001b[0mbackward\u001b[0m\u001b[0;34m(\u001b[0m\u001b[0;34m)\u001b[0m\u001b[0;34m\u001b[0m\u001b[0;34m\u001b[0m\u001b[0m\n\u001b[1;32m     24\u001b[0m       \u001b[0moptimizer\u001b[0m\u001b[0;34m.\u001b[0m\u001b[0mstep\u001b[0m\u001b[0;34m(\u001b[0m\u001b[0;34m)\u001b[0m\u001b[0;34m\u001b[0m\u001b[0;34m\u001b[0m\u001b[0m\n",
            "\u001b[0;32m/usr/local/lib/python3.6/dist-packages/torch/nn/modules/module.py\u001b[0m in \u001b[0;36m_call_impl\u001b[0;34m(self, *input, **kwargs)\u001b[0m\n\u001b[1;32m    725\u001b[0m             \u001b[0mresult\u001b[0m \u001b[0;34m=\u001b[0m \u001b[0mself\u001b[0m\u001b[0;34m.\u001b[0m\u001b[0m_slow_forward\u001b[0m\u001b[0;34m(\u001b[0m\u001b[0;34m*\u001b[0m\u001b[0minput\u001b[0m\u001b[0;34m,\u001b[0m \u001b[0;34m**\u001b[0m\u001b[0mkwargs\u001b[0m\u001b[0;34m)\u001b[0m\u001b[0;34m\u001b[0m\u001b[0;34m\u001b[0m\u001b[0m\n\u001b[1;32m    726\u001b[0m         \u001b[0;32melse\u001b[0m\u001b[0;34m:\u001b[0m\u001b[0;34m\u001b[0m\u001b[0;34m\u001b[0m\u001b[0m\n\u001b[0;32m--> 727\u001b[0;31m             \u001b[0mresult\u001b[0m \u001b[0;34m=\u001b[0m \u001b[0mself\u001b[0m\u001b[0;34m.\u001b[0m\u001b[0mforward\u001b[0m\u001b[0;34m(\u001b[0m\u001b[0;34m*\u001b[0m\u001b[0minput\u001b[0m\u001b[0;34m,\u001b[0m \u001b[0;34m**\u001b[0m\u001b[0mkwargs\u001b[0m\u001b[0;34m)\u001b[0m\u001b[0;34m\u001b[0m\u001b[0;34m\u001b[0m\u001b[0m\n\u001b[0m\u001b[1;32m    728\u001b[0m         for hook in itertools.chain(\n\u001b[1;32m    729\u001b[0m                 \u001b[0m_global_forward_hooks\u001b[0m\u001b[0;34m.\u001b[0m\u001b[0mvalues\u001b[0m\u001b[0;34m(\u001b[0m\u001b[0;34m)\u001b[0m\u001b[0;34m,\u001b[0m\u001b[0;34m\u001b[0m\u001b[0;34m\u001b[0m\u001b[0m\n",
            "\u001b[0;32m/usr/local/lib/python3.6/dist-packages/torch/nn/modules/loss.py\u001b[0m in \u001b[0;36mforward\u001b[0;34m(self, input, target)\u001b[0m\n\u001b[1;32m    960\u001b[0m     \u001b[0;32mdef\u001b[0m \u001b[0mforward\u001b[0m\u001b[0;34m(\u001b[0m\u001b[0mself\u001b[0m\u001b[0;34m,\u001b[0m \u001b[0minput\u001b[0m\u001b[0;34m:\u001b[0m \u001b[0mTensor\u001b[0m\u001b[0;34m,\u001b[0m \u001b[0mtarget\u001b[0m\u001b[0;34m:\u001b[0m \u001b[0mTensor\u001b[0m\u001b[0;34m)\u001b[0m \u001b[0;34m->\u001b[0m \u001b[0mTensor\u001b[0m\u001b[0;34m:\u001b[0m\u001b[0;34m\u001b[0m\u001b[0;34m\u001b[0m\u001b[0m\n\u001b[1;32m    961\u001b[0m         return F.cross_entropy(input, target, weight=self.weight,\n\u001b[0;32m--> 962\u001b[0;31m                                ignore_index=self.ignore_index, reduction=self.reduction)\n\u001b[0m\u001b[1;32m    963\u001b[0m \u001b[0;34m\u001b[0m\u001b[0m\n\u001b[1;32m    964\u001b[0m \u001b[0;34m\u001b[0m\u001b[0m\n",
            "\u001b[0;32m/usr/local/lib/python3.6/dist-packages/torch/nn/functional.py\u001b[0m in \u001b[0;36mcross_entropy\u001b[0;34m(input, target, weight, size_average, ignore_index, reduce, reduction)\u001b[0m\n\u001b[1;32m   2466\u001b[0m     \u001b[0;32mif\u001b[0m \u001b[0msize_average\u001b[0m \u001b[0;32mis\u001b[0m \u001b[0;32mnot\u001b[0m \u001b[0;32mNone\u001b[0m \u001b[0;32mor\u001b[0m \u001b[0mreduce\u001b[0m \u001b[0;32mis\u001b[0m \u001b[0;32mnot\u001b[0m \u001b[0;32mNone\u001b[0m\u001b[0;34m:\u001b[0m\u001b[0;34m\u001b[0m\u001b[0;34m\u001b[0m\u001b[0m\n\u001b[1;32m   2467\u001b[0m         \u001b[0mreduction\u001b[0m \u001b[0;34m=\u001b[0m \u001b[0m_Reduction\u001b[0m\u001b[0;34m.\u001b[0m\u001b[0mlegacy_get_string\u001b[0m\u001b[0;34m(\u001b[0m\u001b[0msize_average\u001b[0m\u001b[0;34m,\u001b[0m \u001b[0mreduce\u001b[0m\u001b[0;34m)\u001b[0m\u001b[0;34m\u001b[0m\u001b[0;34m\u001b[0m\u001b[0m\n\u001b[0;32m-> 2468\u001b[0;31m     \u001b[0;32mreturn\u001b[0m \u001b[0mnll_loss\u001b[0m\u001b[0;34m(\u001b[0m\u001b[0mlog_softmax\u001b[0m\u001b[0;34m(\u001b[0m\u001b[0minput\u001b[0m\u001b[0;34m,\u001b[0m \u001b[0;36m1\u001b[0m\u001b[0;34m)\u001b[0m\u001b[0;34m,\u001b[0m \u001b[0mtarget\u001b[0m\u001b[0;34m,\u001b[0m \u001b[0mweight\u001b[0m\u001b[0;34m,\u001b[0m \u001b[0;32mNone\u001b[0m\u001b[0;34m,\u001b[0m \u001b[0mignore_index\u001b[0m\u001b[0;34m,\u001b[0m \u001b[0;32mNone\u001b[0m\u001b[0;34m,\u001b[0m \u001b[0mreduction\u001b[0m\u001b[0;34m)\u001b[0m\u001b[0;34m\u001b[0m\u001b[0;34m\u001b[0m\u001b[0m\n\u001b[0m\u001b[1;32m   2469\u001b[0m \u001b[0;34m\u001b[0m\u001b[0m\n\u001b[1;32m   2470\u001b[0m \u001b[0;34m\u001b[0m\u001b[0m\n",
            "\u001b[0;32m/usr/local/lib/python3.6/dist-packages/torch/nn/functional.py\u001b[0m in \u001b[0;36mnll_loss\u001b[0;34m(input, target, weight, size_average, ignore_index, reduce, reduction)\u001b[0m\n\u001b[1;32m   2262\u001b[0m                          .format(input.size(0), target.size(0)))\n\u001b[1;32m   2263\u001b[0m     \u001b[0;32mif\u001b[0m \u001b[0mdim\u001b[0m \u001b[0;34m==\u001b[0m \u001b[0;36m2\u001b[0m\u001b[0;34m:\u001b[0m\u001b[0;34m\u001b[0m\u001b[0;34m\u001b[0m\u001b[0m\n\u001b[0;32m-> 2264\u001b[0;31m         \u001b[0mret\u001b[0m \u001b[0;34m=\u001b[0m \u001b[0mtorch\u001b[0m\u001b[0;34m.\u001b[0m\u001b[0m_C\u001b[0m\u001b[0;34m.\u001b[0m\u001b[0m_nn\u001b[0m\u001b[0;34m.\u001b[0m\u001b[0mnll_loss\u001b[0m\u001b[0;34m(\u001b[0m\u001b[0minput\u001b[0m\u001b[0;34m,\u001b[0m \u001b[0mtarget\u001b[0m\u001b[0;34m,\u001b[0m \u001b[0mweight\u001b[0m\u001b[0;34m,\u001b[0m \u001b[0m_Reduction\u001b[0m\u001b[0;34m.\u001b[0m\u001b[0mget_enum\u001b[0m\u001b[0;34m(\u001b[0m\u001b[0mreduction\u001b[0m\u001b[0;34m)\u001b[0m\u001b[0;34m,\u001b[0m \u001b[0mignore_index\u001b[0m\u001b[0;34m)\u001b[0m\u001b[0;34m\u001b[0m\u001b[0;34m\u001b[0m\u001b[0m\n\u001b[0m\u001b[1;32m   2265\u001b[0m     \u001b[0;32melif\u001b[0m \u001b[0mdim\u001b[0m \u001b[0;34m==\u001b[0m \u001b[0;36m4\u001b[0m\u001b[0;34m:\u001b[0m\u001b[0;34m\u001b[0m\u001b[0;34m\u001b[0m\u001b[0m\n\u001b[1;32m   2266\u001b[0m         \u001b[0mret\u001b[0m \u001b[0;34m=\u001b[0m \u001b[0mtorch\u001b[0m\u001b[0;34m.\u001b[0m\u001b[0m_C\u001b[0m\u001b[0;34m.\u001b[0m\u001b[0m_nn\u001b[0m\u001b[0;34m.\u001b[0m\u001b[0mnll_loss2d\u001b[0m\u001b[0;34m(\u001b[0m\u001b[0minput\u001b[0m\u001b[0;34m,\u001b[0m \u001b[0mtarget\u001b[0m\u001b[0;34m,\u001b[0m \u001b[0mweight\u001b[0m\u001b[0;34m,\u001b[0m \u001b[0m_Reduction\u001b[0m\u001b[0;34m.\u001b[0m\u001b[0mget_enum\u001b[0m\u001b[0;34m(\u001b[0m\u001b[0mreduction\u001b[0m\u001b[0;34m)\u001b[0m\u001b[0;34m,\u001b[0m \u001b[0mignore_index\u001b[0m\u001b[0;34m)\u001b[0m\u001b[0;34m\u001b[0m\u001b[0;34m\u001b[0m\u001b[0m\n",
            "\u001b[0;31mRuntimeError\u001b[0m: expected scalar type Long but found Float"
          ]
        }
      ]
    },
    {
      "cell_type": "code",
      "metadata": {
        "id": "PGON08BVs0cj"
      },
      "source": [
        ""
      ],
      "execution_count": null,
      "outputs": []
    }
  ]
}